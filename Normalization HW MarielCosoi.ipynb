{
 "cells": [
  {
   "cell_type": "markdown",
   "metadata": {},
   "source": [
    "<h1>Instructions</h1>\n",
    "Normalize the following block of data by copying the data below, except the triple quotes, <br>\n",
    "and placing the data in a file called employee_data.csv<br>\n",
    "1 - Import the file using core python<br>\n",
    "2 - Normalize the data and separate into component tables<br>\n",
    "3 - Use SQL to create the tables and populate them<br>\n",
    "4 - Answer the following questions using SQL<br>\n",
    "- Provide a count of the employees by gender<br>\n",
    "- Provide a count of the employees by dept name<br>\n",
    "- Provide a list of employees in last name, first name order<br>\n",
    "- Provide a list of employees in tenure order (active employees only) in descending order<br>\n",
    "- Provide a list of employees by manager name in alphabetical order by last name<br>\n",
    "- Provide a list of employees by region<br>\n",
    "- Provide a list of employees who have exceeded their allotment of sick days<br>"
   ]
  },
  {
   "cell_type": "code",
   "execution_count": 1,
   "metadata": {},
   "outputs": [
    {
     "data": {
      "text/plain": [
       "\"\\n'emp_id','marital_status','last_name','first_name','hire_date','gender','dept_id','dept_name','manager_id','status','term_date','region','sick_days_accumulated','sick_day1','sick_day2','sick_day3'\\n'001','Married','Ellis','Francis','2005/02/12','Male','HR','Human Resources','037','EXEMPT','','NORTH EAST','5','','',''\\n'002','Divorced','Jones','Pamala','2003/03/10','Female','IT','Information Technology','037','EXEMPT','','NORTH EAST','5','','',''\\n'003','Widowed','Davidson','Fred','2003/01/11','Male','FIN','Finance','037','EXEMPT','','NORTH EAST','5','','',''\\n'004','Single','Rivera','Jewels','2013/10/02','Female','ACC','Accounting','019','NON-EXEMPT','','NORTH EAST','5','','',''\\n'005','Single','Sing','Hu','2019/12/30','Male','WHS','Warehouse','030','NON-EXEMPT','','NORTH EAST','2','2021/02/01','2021/02/02',''\\n'006','Single','Ramos','Diego','2015/06/16','Male','IT','Information Technology','002','EXEMPT','','NORTH EAST','2','','',''\\n'007','Single','Sanchez','Jorge','2015/08/02','Male','IT','Information Technology','002','EXEMPT','2020/03/12','NORTH EAST','0','','',''\\n'008','Single','Yee','Sue','2019/03/12','Female','HR','Human Resources','001','NON-EXEMPT','','NORTH EAST','2','','',''\\n'009','Single','Williams','William','2011/05/28','Male','FIN','Finance','003','EXEMPT','','SOUTH WEST','5','','',''\\n'010','Married','Davis','Elizabeth','2016/09/13','Female','FIN','Finance','003','EXEMPT','','SOUTH WEST','5','2021/01/02','',''\\n'011','Married','Freach','Greta','2009/05/03','Female','ACC','Accounting','019','EXEMPT','','SOUTH WEST','5','','',''\\n'012','Married','Gantt','Jackson','2015/06/12','Male','ACC','Accounting','019','EXEMPT','','SOUTH WEST','5','','',''\\n'013','Married','Jarvis','Melvin','2019/03/30','Male','FIN','Finance','003','EXEMPT','','SOUTH WEST','5','','',''\\n'014','Married','Tate','Rachael','2016/05/03','Female','HR','Human Resources','001','EXEMPT','','SOUTH WEST','5','','',''\\n'015','Married','Sung','Henry','2014/08/20','Male','IT','Information Technology','002','EXEMPT','','SOUTH WEST','5','2021/01/24','2021/01/25',''\\n'016','Married','Davidson','Wilma','2018/03/18','Female','ACC','Accounting','037','EXEMPT','','SOUTH WEST','5','','',''\\n'017','Married','Williamson','Ursula','2008/01/19','Female','HR','Human Resources','001','NON-EXEMPT','','WEST','2','','',''\\n'018','Divorced','French','Sara','2015/10/29','Female','HR','Human Resources','001','NON-EXEMPT','','WEST','2','','',''\\n'019','Divorced','Xi','Yu','2017/04/24','Female','ACC','Accounting','037','EXEMPT','','WEST','5','','',''\\n'020','Divorced','Quinones','Maribel','2015/05/25','Female','FIN','Finance','003','EXEMPT','','WEST','5','','',''\\n'021','Single','Breen','Margret','2018/03/01','Female','WHS','Warehouse','030','EXEMPT','','EAST','5','','',''\\n'022','Single','Pollard','Franz','2007/07/29','Male','IT','Information Technology','002','EXEMPT','','EAST','5','','',''\\n'023','Single','Keller','Bradley','2011/04/30','Male','IT','Information Technology','002','EXEMPT','','EAST','5','','',''\\n'024','Single','Opus','Oliver','2014/07/12','Male','WHS','Warehouse','030','NON-EXEMPT','','EAST','2','2021/01/12','',''\\n'025','Single','Nulland','Nicholas','2010/06/10','Male','FIN','Finance','003','EXEMPT','','EAST','5','','',''\\n'026','Single','Lee','Tatum','2016/11/15','Male','WHS','Warehouse','030','NON-EXEMPT','','NORTH WEST','5','','',''\\n'027','Single','Saunders','Asia','2016/02/18','Female','FIN','Finance','003','EXEMPT','','NORTH WEST','5','','',''\\n'028','Single','Ute','Ulsula','2008/03/11','Female','HR','Human Resources','001','NON-EXEMPT','','NORTH WEST','2','','',''\\n'029','Single','Jackson','Jessica','2018/06/02','Female','WHS','Warehouse','030','NON-EXEMPT','2020/04/21','NORTH WEST','0','','',''\\n'030','Widowed','Forrest','Peter','2010/04/03','Male','WHS','Warehouse','037','NON-EXEMPT','','SOUTH EAST','5','','',''\\n'031','Widowed','Lagos','Leeland','2017/03/30','Male','IT','Information Technology','002','EXEMPT','','SOUTH EAST','2','','',''\\n'032','Widowed','Holland','Henry','2011/04/02','Male','IT','Information Technology','002','EXEMPT','','SOUTH EAST','5','','',''\\n'033','Married','Martinez','Margarita','2017/05/26','Female','ACC','Accounting','019','NON-EXEMPT','','SOUTH EAST','2','2021/02/10','2021/02/11','2021/02/12\\n'034','Married','Jones','Jessica','2013/03/19','Female','WHS','Warehouse','030','NON-EXEMPT','','SOUTH EAST','2','','',''\\n'035','Married','Torrez','Lea','2019/05/11','Female','IT','Information Technology','002','EXEMPT','','SOUTH EAST','5','','',''\\n'036','Married','Regis','Lucy','2014/06/20','Female','ACC','Accounting','019','EXEMPT','','SOUTH EAST','14','','',''\\n'037','Married','Saulzman','Randle','2001/03/20','Male','EX','Executive','037','EXEMPT','','EAST','25','','',''\\n\\n\""
      ]
     },
     "execution_count": 1,
     "metadata": {},
     "output_type": "execute_result"
    }
   ],
   "source": [
    "data = '''\n",
    "'emp_id','marital_status','last_name','first_name','hire_date','gender','dept_id','dept_name','manager_id','status','term_date','region','sick_days_accumulated','sick_day1','sick_day2','sick_day3'\n",
    "'001','Married','Ellis','Francis','2005/02/12','Male','HR','Human Resources','037','EXEMPT','','NORTH EAST','5','','',''\n",
    "'002','Divorced','Jones','Pamala','2003/03/10','Female','IT','Information Technology','037','EXEMPT','','NORTH EAST','5','','',''\n",
    "'003','Widowed','Davidson','Fred','2003/01/11','Male','FIN','Finance','037','EXEMPT','','NORTH EAST','5','','',''\n",
    "'004','Single','Rivera','Jewels','2013/10/02','Female','ACC','Accounting','019','NON-EXEMPT','','NORTH EAST','5','','',''\n",
    "'005','Single','Sing','Hu','2019/12/30','Male','WHS','Warehouse','030','NON-EXEMPT','','NORTH EAST','2','2021/02/01','2021/02/02',''\n",
    "'006','Single','Ramos','Diego','2015/06/16','Male','IT','Information Technology','002','EXEMPT','','NORTH EAST','2','','',''\n",
    "'007','Single','Sanchez','Jorge','2015/08/02','Male','IT','Information Technology','002','EXEMPT','2020/03/12','NORTH EAST','0','','',''\n",
    "'008','Single','Yee','Sue','2019/03/12','Female','HR','Human Resources','001','NON-EXEMPT','','NORTH EAST','2','','',''\n",
    "'009','Single','Williams','William','2011/05/28','Male','FIN','Finance','003','EXEMPT','','SOUTH WEST','5','','',''\n",
    "'010','Married','Davis','Elizabeth','2016/09/13','Female','FIN','Finance','003','EXEMPT','','SOUTH WEST','5','2021/01/02','',''\n",
    "'011','Married','Freach','Greta','2009/05/03','Female','ACC','Accounting','019','EXEMPT','','SOUTH WEST','5','','',''\n",
    "'012','Married','Gantt','Jackson','2015/06/12','Male','ACC','Accounting','019','EXEMPT','','SOUTH WEST','5','','',''\n",
    "'013','Married','Jarvis','Melvin','2019/03/30','Male','FIN','Finance','003','EXEMPT','','SOUTH WEST','5','','',''\n",
    "'014','Married','Tate','Rachael','2016/05/03','Female','HR','Human Resources','001','EXEMPT','','SOUTH WEST','5','','',''\n",
    "'015','Married','Sung','Henry','2014/08/20','Male','IT','Information Technology','002','EXEMPT','','SOUTH WEST','5','2021/01/24','2021/01/25',''\n",
    "'016','Married','Davidson','Wilma','2018/03/18','Female','ACC','Accounting','037','EXEMPT','','SOUTH WEST','5','','',''\n",
    "'017','Married','Williamson','Ursula','2008/01/19','Female','HR','Human Resources','001','NON-EXEMPT','','WEST','2','','',''\n",
    "'018','Divorced','French','Sara','2015/10/29','Female','HR','Human Resources','001','NON-EXEMPT','','WEST','2','','',''\n",
    "'019','Divorced','Xi','Yu','2017/04/24','Female','ACC','Accounting','037','EXEMPT','','WEST','5','','',''\n",
    "'020','Divorced','Quinones','Maribel','2015/05/25','Female','FIN','Finance','003','EXEMPT','','WEST','5','','',''\n",
    "'021','Single','Breen','Margret','2018/03/01','Female','WHS','Warehouse','030','EXEMPT','','EAST','5','','',''\n",
    "'022','Single','Pollard','Franz','2007/07/29','Male','IT','Information Technology','002','EXEMPT','','EAST','5','','',''\n",
    "'023','Single','Keller','Bradley','2011/04/30','Male','IT','Information Technology','002','EXEMPT','','EAST','5','','',''\n",
    "'024','Single','Opus','Oliver','2014/07/12','Male','WHS','Warehouse','030','NON-EXEMPT','','EAST','2','2021/01/12','',''\n",
    "'025','Single','Nulland','Nicholas','2010/06/10','Male','FIN','Finance','003','EXEMPT','','EAST','5','','',''\n",
    "'026','Single','Lee','Tatum','2016/11/15','Male','WHS','Warehouse','030','NON-EXEMPT','','NORTH WEST','5','','',''\n",
    "'027','Single','Saunders','Asia','2016/02/18','Female','FIN','Finance','003','EXEMPT','','NORTH WEST','5','','',''\n",
    "'028','Single','Ute','Ulsula','2008/03/11','Female','HR','Human Resources','001','NON-EXEMPT','','NORTH WEST','2','','',''\n",
    "'029','Single','Jackson','Jessica','2018/06/02','Female','WHS','Warehouse','030','NON-EXEMPT','2020/04/21','NORTH WEST','0','','',''\n",
    "'030','Widowed','Forrest','Peter','2010/04/03','Male','WHS','Warehouse','037','NON-EXEMPT','','SOUTH EAST','5','','',''\n",
    "'031','Widowed','Lagos','Leeland','2017/03/30','Male','IT','Information Technology','002','EXEMPT','','SOUTH EAST','2','','',''\n",
    "'032','Widowed','Holland','Henry','2011/04/02','Male','IT','Information Technology','002','EXEMPT','','SOUTH EAST','5','','',''\n",
    "'033','Married','Martinez','Margarita','2017/05/26','Female','ACC','Accounting','019','NON-EXEMPT','','SOUTH EAST','2','2021/02/10','2021/02/11','2021/02/12\n",
    "'034','Married','Jones','Jessica','2013/03/19','Female','WHS','Warehouse','030','NON-EXEMPT','','SOUTH EAST','2','','',''\n",
    "'035','Married','Torrez','Lea','2019/05/11','Female','IT','Information Technology','002','EXEMPT','','SOUTH EAST','5','','',''\n",
    "'036','Married','Regis','Lucy','2014/06/20','Female','ACC','Accounting','019','EXEMPT','','SOUTH EAST','14','','',''\n",
    "'037','Married','Saulzman','Randle','2001/03/20','Male','EX','Executive','037','EXEMPT','','EAST','25','','',''\n",
    "\n",
    "'''"
   ]
  },
  {
   "cell_type": "code",
   "execution_count": 12,
   "metadata": {},
   "outputs": [],
   "source": [
    "import os, csv\n",
    "import sqlite3\n",
    "from pprint import pprint\n",
    "\n",
    "conn = sqlite3.connect(\":memory:\")\n",
    "curr = conn.cursor()\n",
    "curr.executescript('''\n",
    "    create table allData(\n",
    "        emp_id TEXT,\n",
    "        marital_status TEXT,\n",
    "        last_name TEXT,\n",
    "        first_name TEXT,\n",
    "        hire_date TEXT,\n",
    "        gender TEXT,\n",
    "        dept_id TEXT,\n",
    "        dept_name TEXT,\n",
    "        manager_id TEXT,\n",
    "        status TEXT,\n",
    "        term_date TEXT,\n",
    "        region TEXT,\n",
    "        sick_days_accumulated TEXT,\n",
    "        sick_day1 TEXT,\n",
    "        sick_day2 TEXT,\n",
    "        sick_day3 TEXT\n",
    "    );\n",
    "''')\n",
    "conn.commit()\n",
    "curr.close()   # <=== cursor is closed\n",
    "conn.row_factory = sqlite3.Row #allows you to access rows using names like a dictionary row['term_date']\n",
    "curr = conn.cursor()"
   ]
  },
  {
   "cell_type": "code",
   "execution_count": 13,
   "metadata": {},
   "outputs": [],
   "source": [
    "conn.row_factory = sqlite3.Row #allows you to access rows using names like a dictionary row['term_date']\n",
    "curr = conn.cursor()\n",
    "\n",
    "filePath = r'/Users/debbycosoi/Desktop/Code Immersives/SQL NoSQL/PY112-SQL/employee_data.csv'\n",
    "with open(filePath, 'r', encoding='UTF8') as f:\n",
    "    # create the csv writer\n",
    "    dr = csv.DictReader(f)\n",
    "    \n",
    "    #create lambda for cleaning inner quotes\n",
    "    clean = lambda x: x.replace(\"'\", \"\")\n",
    "    \n",
    "    #clean \"normalize\" field names and entries\n",
    "    #map -> apply a function to every value in the list\n",
    "    entries = [tuple(map(clean, entry.values())) for entry in dr]\n",
    "    fieldnames = list(map(clean, dr.fieldnames)) \n",
    "    \n",
    "    \n",
    "    #create sql statement and execute \n",
    "    sql = f\"\"\"INSERT INTO allData ({\",\".join(fieldnames)}) \n",
    "            VALUES (?,?,?,?,?,?,?,?,?,?,?,?,?,?,?,?)\"\"\"    \n",
    "    curr.executemany(sql, entries)"
   ]
  },
  {
   "cell_type": "code",
   "execution_count": 14,
   "metadata": {},
   "outputs": [
    {
     "output_type": "stream",
     "name": "stdout",
     "text": [
      "Male Employee count: 18\nFemale Employee count: 19\n==============================\n"
     ]
    }
   ],
   "source": [
    "    # Employees by gender \n",
    "    \n",
    "    # get all genders from data\n",
    "    all_genders = [g[0] for g in curr.execute(\"SELECT DISTINCT gender FROM allData\").fetchall()]\n",
    "    \n",
    "\n",
    "    \n",
    "    #fetchone -> returns one row. so \n",
    "    # fetchone()[0] -> value of first column in row, \n",
    "    # fetchone()[1] -> value of second column in row.\n",
    "    \n",
    "    \n",
    "    # count by gender\n",
    "    for gender in all_genders:\n",
    "        curr.execute(\"SELECT COUNT(gender) FROM allData WHERE gender = '{0}'\".format(gender))\n",
    "        gendered_employee_count = curr.fetchone()[0] #you are only going to have one result\n",
    "        print(f\"{gender} Employee count: { gendered_employee_count }\")\n",
    "    print(\"=\" * 30)"
   ]
  },
  {
   "cell_type": "code",
   "execution_count": 16,
   "metadata": {},
   "outputs": [
    {
     "output_type": "stream",
     "name": "stdout",
     "text": [
      "Human Resources Employee count: 6\nInformation Technology Employee count: 9\nFinance Employee count: 7\nAccounting Employee count: 7\nWarehouse Employee count: 7\nExecutive Employee count: 1\n==============================\n"
     ]
    }
   ],
   "source": [
    "# Employees by Dept. name\n",
    "all_depts = [g[0] for g in curr.execute(\"SELECT DISTINCT dept_name FROM allData\").fetchall()]\n",
    "    \n",
    "# count by dept. name\n",
    "for dept in all_depts:\n",
    "    curr.execute(\"SELECT COUNT(dept_name) FROM allData WHERE dept_name = '{0}'\".format(dept))\n",
    "    dept_employee_count = curr.fetchone()[0]\n",
    "    print(f\"{dept} Employee count: {dept_employee_count }\")\n",
    "print(\"=\" * 30)"
   ]
  },
  {
   "cell_type": "code",
   "execution_count": 18,
   "metadata": {},
   "outputs": [
    {
     "output_type": "stream",
     "name": "stdout",
     "text": [
      "Employees by Last Name:\n['Breen, Margret',\n 'Davidson, Fred',\n 'Davidson, Wilma',\n 'Davis, Elizabeth',\n 'Ellis, Francis',\n 'Forrest, Peter',\n 'Freach, Greta',\n 'French, Sara',\n 'Gantt, Jackson',\n 'Holland, Henry',\n 'Jackson, Jessica',\n 'Jarvis, Melvin',\n 'Jones, Pamala',\n 'Jones, Jessica',\n 'Keller, Bradley',\n 'Lagos, Leeland',\n 'Lee, Tatum',\n 'Martinez, Margarita',\n 'Nulland, Nicholas',\n 'Opus, Oliver',\n 'Pollard, Franz',\n 'Quinones, Maribel',\n 'Ramos, Diego',\n 'Regis, Lucy',\n 'Rivera, Jewels',\n 'Sanchez, Jorge',\n 'Saulzman, Randle',\n 'Saunders, Asia',\n 'Sing, Hu',\n 'Sung, Henry',\n 'Tate, Rachael',\n 'Torrez, Lea',\n 'Ute, Ulsula',\n 'Williams, William',\n 'Williamson, Ursula',\n 'Xi, Yu',\n 'Yee, Sue']\n==============================\n"
     ]
    }
   ],
   "source": [
    "# Employees in last name, first name order \n",
    "all_employees_by_last = [f\"{g[0]}, {g[1]}\" for g in curr.execute(\"SELECT last_name, first_name FROM allData ORDER BY last_name\").fetchall()]\n",
    "print(\"Employees by Last Name:\")\n",
    "pprint(all_employees_by_last)\n",
    "print(\"=\" * 30)"
   ]
  },
  {
   "cell_type": "code",
   "execution_count": 19,
   "metadata": {},
   "outputs": [
    {
     "output_type": "stream",
     "name": "stdout",
     "text": [
      "Employees by Status:\n['Rivera, Jewels, NON-EXEMPT',\n 'Sing, Hu, NON-EXEMPT',\n 'Yee, Sue, NON-EXEMPT',\n 'Williamson, Ursula, NON-EXEMPT',\n 'French, Sara, NON-EXEMPT',\n 'Opus, Oliver, NON-EXEMPT',\n 'Lee, Tatum, NON-EXEMPT',\n 'Ute, Ulsula, NON-EXEMPT',\n 'Jackson, Jessica, NON-EXEMPT',\n 'Forrest, Peter, NON-EXEMPT',\n 'Martinez, Margarita, NON-EXEMPT',\n 'Jones, Jessica, NON-EXEMPT',\n 'Ellis, Francis, EXEMPT',\n 'Jones, Pamala, EXEMPT',\n 'Davidson, Fred, EXEMPT',\n 'Ramos, Diego, EXEMPT',\n 'Sanchez, Jorge, EXEMPT',\n 'Williams, William, EXEMPT',\n 'Davis, Elizabeth, EXEMPT',\n 'Freach, Greta, EXEMPT',\n 'Gantt, Jackson, EXEMPT',\n 'Jarvis, Melvin, EXEMPT',\n 'Tate, Rachael, EXEMPT',\n 'Sung, Henry, EXEMPT',\n 'Davidson, Wilma, EXEMPT',\n 'Xi, Yu, EXEMPT',\n 'Quinones, Maribel, EXEMPT',\n 'Breen, Margret, EXEMPT',\n 'Pollard, Franz, EXEMPT',\n 'Keller, Bradley, EXEMPT',\n 'Nulland, Nicholas, EXEMPT',\n 'Saunders, Asia, EXEMPT',\n 'Lagos, Leeland, EXEMPT',\n 'Holland, Henry, EXEMPT',\n 'Torrez, Lea, EXEMPT',\n 'Regis, Lucy, EXEMPT',\n 'Saulzman, Randle, EXEMPT']\n==============================\n"
     ]
    }
   ],
   "source": [
    "# Employees in tenure order (active employees only) in descending order\n",
    "    \n",
    "all_employees_by_last = [f\"{g[0]}, {g[1]}, {g[2]}\" for g in curr.execute(\"SELECT last_name, first_name, status FROM allData ORDER BY status DESC\").fetchall()]\n",
    "print(\"Employees by Status:\")\n",
    "pprint(all_employees_by_last)\n",
    "print(\"=\" * 30)"
   ]
  },
  {
   "cell_type": "code",
   "execution_count": 20,
   "metadata": {},
   "outputs": [
    {
     "output_type": "stream",
     "name": "stdout",
     "text": [
      "Employees by Manager Id and last name:\n['French, Sara, 001',\n 'Tate, Rachael, 001',\n 'Ute, Ulsula, 001',\n 'Williamson, Ursula, 001',\n 'Yee, Sue, 001',\n 'Holland, Henry, 002',\n 'Keller, Bradley, 002',\n 'Lagos, Leeland, 002',\n 'Pollard, Franz, 002',\n 'Ramos, Diego, 002',\n 'Sanchez, Jorge, 002',\n 'Sung, Henry, 002',\n 'Torrez, Lea, 002',\n 'Davis, Elizabeth, 003',\n 'Jarvis, Melvin, 003',\n 'Nulland, Nicholas, 003',\n 'Quinones, Maribel, 003',\n 'Saunders, Asia, 003',\n 'Williams, William, 003',\n 'Freach, Greta, 019',\n 'Gantt, Jackson, 019',\n 'Martinez, Margarita, 019',\n 'Regis, Lucy, 019',\n 'Rivera, Jewels, 019',\n 'Breen, Margret, 030',\n 'Jackson, Jessica, 030',\n 'Jones, Jessica, 030',\n 'Lee, Tatum, 030',\n 'Opus, Oliver, 030',\n 'Sing, Hu, 030',\n 'Davidson, Fred, 037',\n 'Davidson, Wilma, 037',\n 'Ellis, Francis, 037',\n 'Forrest, Peter, 037',\n 'Jones, Pamala, 037',\n 'Saulzman, Randle, 037',\n 'Xi, Yu, 037']\n==============================\n"
     ]
    }
   ],
   "source": [
    "# Provide a list of employees by manager name in alphabetical order by last name \n",
    "# weak ordering -> which means, sorting by multiple things \n",
    "all_employees_by_last = [f\"{g[0]}, {g[1]}, {g[2]}\" for g in curr.execute(\"SELECT last_name, first_name, manager_id FROM allData ORDER BY manager_id, last_name ASC\").fetchall()]\n",
    "print(\"Employees by Manager Id and last name:\")\n",
    "pprint(all_employees_by_last)\n",
    "print(\"=\" * 30)\n",
    "    "
   ]
  },
  {
   "cell_type": "code",
   "execution_count": 21,
   "metadata": {},
   "outputs": [
    {
     "output_type": "stream",
     "name": "stdout",
     "text": [
      "Employees by region:\n['Breen, Margret, EAST',\n 'Pollard, Franz, EAST',\n 'Keller, Bradley, EAST',\n 'Opus, Oliver, EAST',\n 'Nulland, Nicholas, EAST',\n 'Saulzman, Randle, EAST',\n 'Ellis, Francis, NORTH EAST',\n 'Jones, Pamala, NORTH EAST',\n 'Davidson, Fred, NORTH EAST',\n 'Rivera, Jewels, NORTH EAST',\n 'Sing, Hu, NORTH EAST',\n 'Ramos, Diego, NORTH EAST',\n 'Sanchez, Jorge, NORTH EAST',\n 'Yee, Sue, NORTH EAST',\n 'Lee, Tatum, NORTH WEST',\n 'Saunders, Asia, NORTH WEST',\n 'Ute, Ulsula, NORTH WEST',\n 'Jackson, Jessica, NORTH WEST',\n 'Forrest, Peter, SOUTH EAST',\n 'Lagos, Leeland, SOUTH EAST',\n 'Holland, Henry, SOUTH EAST',\n 'Martinez, Margarita, SOUTH EAST',\n 'Jones, Jessica, SOUTH EAST',\n 'Torrez, Lea, SOUTH EAST',\n 'Regis, Lucy, SOUTH EAST',\n 'Williams, William, SOUTH WEST',\n 'Davis, Elizabeth, SOUTH WEST',\n 'Freach, Greta, SOUTH WEST',\n 'Gantt, Jackson, SOUTH WEST',\n 'Jarvis, Melvin, SOUTH WEST',\n 'Tate, Rachael, SOUTH WEST',\n 'Sung, Henry, SOUTH WEST',\n 'Davidson, Wilma, SOUTH WEST',\n 'Williamson, Ursula, WEST',\n 'French, Sara, WEST',\n 'Xi, Yu, WEST',\n 'Quinones, Maribel, WEST']\n==============================\n"
     ]
    }
   ],
   "source": [
    "# Provide a list of employees by region\n",
    "all_employees_by_last = [f\"{g[0]}, {g[1]}, {g[2]}\" for g in curr.execute(\"SELECT last_name, first_name, region FROM allData ORDER BY region\").fetchall()]\n",
    "print(\"Employees by region:\")\n",
    "pprint(all_employees_by_last)\n",
    "print(\"=\" * 30)\n",
    "    "
   ]
  },
  {
   "cell_type": "code",
   "execution_count": 22,
   "metadata": {},
   "outputs": [
    {
     "output_type": "stream",
     "name": "stdout",
     "text": [
      "Employees that exceeded their allotment of sick days:\n['Ellis, Francis, 5',\n 'Jones, Pamala, 5',\n 'Davidson, Fred, 5',\n 'Rivera, Jewels, 5',\n 'Williams, William, 5',\n 'Davis, Elizabeth, 5',\n 'Freach, Greta, 5',\n 'Gantt, Jackson, 5',\n 'Jarvis, Melvin, 5',\n 'Tate, Rachael, 5',\n 'Sung, Henry, 5',\n 'Davidson, Wilma, 5',\n 'Xi, Yu, 5',\n 'Quinones, Maribel, 5',\n 'Breen, Margret, 5',\n 'Pollard, Franz, 5',\n 'Keller, Bradley, 5',\n 'Nulland, Nicholas, 5',\n 'Lee, Tatum, 5',\n 'Saunders, Asia, 5',\n 'Forrest, Peter, 5',\n 'Holland, Henry, 5',\n 'Torrez, Lea, 5',\n 'Regis, Lucy, 14',\n 'Saulzman, Randle, 25']\n==============================\n"
     ]
    }
   ],
   "source": [
    "# Provide a list of employees who have exceeded their allotment of sick days\n",
    "sick_days_limit = 3\n",
    "#days = [days[0] for days in curr.execute(\"SELECT DISTINCT sick_days_accumulated FROM allData\").fetchall()]\n",
    "#print(\"days\", days)\n",
    "all_employees_by_last = [f\"{g[0]}, {g[1]}, {g[2]}\" for g in curr.execute(\"SELECT last_name, first_name, sick_days_accumulated FROM allData WHERE CAST(sick_days_accumulated as int) > {0}\".format(sick_days_limit)).fetchall()]\n",
    "print(\"Employees that exceeded their allotment of sick days:\")\n",
    "pprint(all_employees_by_last)\n",
    "print(\"=\" * 30)\n",
    "curr.close()"
   ]
  },
  {
   "cell_type": "code",
   "execution_count": null,
   "metadata": {},
   "outputs": [],
   "source": []
  }
 ],
 "metadata": {
  "kernelspec": {
   "name": "python3",
   "display_name": "Python 3.9.5 64-bit"
  },
  "language_info": {
   "codemirror_mode": {
    "name": "ipython",
    "version": 3
   },
   "file_extension": ".py",
   "mimetype": "text/x-python",
   "name": "python",
   "nbconvert_exporter": "python",
   "pygments_lexer": "ipython3",
   "version": "3.9.5"
  },
  "interpreter": {
   "hash": "b0fa6594d8f4cbf19f97940f81e996739fb7646882a419484c72d19e05852a7e"
  }
 },
 "nbformat": 4,
 "nbformat_minor": 4
}