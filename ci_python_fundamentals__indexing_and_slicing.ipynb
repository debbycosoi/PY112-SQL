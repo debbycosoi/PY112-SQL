{
 "cells": [
  {
   "cell_type": "markdown",
   "metadata": {},
   "source": [
    "<a href=\"https://codeimmersives.com\"><img src = \"https://www.codeimmersives.com/wp-content/uploads/2019/09/CodeImmersives_Logo_RGB_NYC_BW.png\" width = 400> </a>\n",
    "\n",
    "\n",
    "<h1 align=center><font size = 5>Agenda</font></h1>"
   ]
  },
  {
   "cell_type": "markdown",
   "metadata": {},
   "source": [
    "<h2>Indexing</h2>\n",
    "The term indexing refers to the order of elements in a data structure.  Python list,<br>\n",
    "tuples and strings are zero based data structures.  Each element in the data structure starts<br>\n",
    "with an index of 0.  For example:<br>\n",
    "<code>\n",
    "cars = ['Ford','Tesla','Mercedes']\n",
    "print(cars[0])  # prints 'Ford'\n",
    "</code><br>\n",
    "The length of the list is 3 and the elements sit in index 0, 1, and 2.  We access these elements<br>\n",
    "by their index when we want to either print them or change their value."
   ]
  },
  {
   "cell_type": "markdown",
   "metadata": {},
   "source": [
    "As we have seen before to iterate over the elements in this data structure<br>\n",
    "we have several choices.<br>\n",
    "<br>\n",
    "method 1 - range<br>\n",
    "<code>\n",
    "cars = ['Ford','Tesla','Mercedes']\n",
    "for i in range(len(cars)):\n",
    "    print(cars[i]) \n",
    "</code>\n",
    "<br>\n",
    "<br>\n",
    "Method 2 - the 'in' operator<br><br>\n",
    "IT DOES NOT REQUIRE AN INDEX BECAUSE IN RETURNS THE ELEMENT NOT THE<br>\n",
    "POSITION OF THE ELEMENT<br><br>\n",
    "<code>\n",
    "for i in cars:\n",
    "    print(cars)   # There is no indexing here\n",
    "</code>\n",
    "<br><br>    \n",
    "Method 3 - Enumerate over the object<br>\n",
    "Enumerate unpacks a list, tuple, or string and returns an index and the item!<br>\n",
    "<br>\n",
    "<code>\n",
    "for i,car in enumerate(cars):\n",
    "    print(f'index = {i} and the element is {car} or {cars[i]}')\n",
    "</code>\n",
    "<br>\n",
    "The variable i is the index<br>"
   ]
  },
  {
   "cell_type": "code",
   "execution_count": 3,
   "metadata": {},
   "outputs": [
    {
     "name": "stdout",
     "output_type": "stream",
     "text": [
      "index = 0 and the element is Ford or Ford\n",
      "index = 1 and the element is Tesla or Tesla\n",
      "index = 2 and the element is Mercedes or Mercedes\n"
     ]
    }
   ],
   "source": [
    "cars = ['Ford','Tesla','Mercedes']\n",
    "for i,car in enumerate(cars):\n",
    "    print(f'index = {i} and the element is {car} or {cars[i]}')"
   ]
  },
  {
   "cell_type": "markdown",
   "metadata": {},
   "source": [
    "<h4>The example above works for lists and tuples</h4>"
   ]
  },
  {
   "cell_type": "markdown",
   "metadata": {},
   "source": [
    "<h2>Indexing does not apply to dictionaries</h2>\n",
    "Dictionaries use key - value pairs to access its internal structure elements."
   ]
  },
  {
   "cell_type": "markdown",
   "metadata": {},
   "source": [
    "<h2>Indexing - continued</h2>\n",
    "We use the index of an element to change an element in a list. <br>\n",
    "<br>\n",
    "<b>WE CANNOT CHANGE THE ELEMENTS OF A TUPLE.  THEY ARE IMMUTABLE</b><br><br>\n",
    "For a list:<br>\n",
    "Change the 2nd element in the cars list to Kia.<br>\n",
    "<code>\n",
    "cars = ['Ford','Tesla','Mercedes']\n",
    "cars[1] = 'Kia'   # Tesla overridden with Kia\n",
    "print(cars)\n",
    "</code>"
   ]
  },
  {
   "cell_type": "code",
   "execution_count": 5,
   "metadata": {},
   "outputs": [
    {
     "name": "stdout",
     "output_type": "stream",
     "text": [
      "['Ford', 'Kia', 'Mercedes']\n"
     ]
    }
   ],
   "source": [
    "cars = ['Ford','Tesla','Mercedes']\n",
    "cars[1] = 'Kia'  # Tesla overridden with Kia\n",
    "print(cars)"
   ]
  },
  {
   "cell_type": "markdown",
   "metadata": {},
   "source": [
    "<h2>index() - built in function</h2>\n",
    "We can use the python built in index function to find the index number of an element.\n",
    "<br><br>\n",
    "Which index number is 'Mercedes'?<br>\n",
    "<code>\n",
    "cars = ['Ford','Tesla','Mercedes']\n",
    "pos = cars.index('Mercedes')\n",
    "print(f'The car named Mercedes can be found at position {pos}')\n",
    "</code>"
   ]
  },
  {
   "cell_type": "code",
   "execution_count": 6,
   "metadata": {},
   "outputs": [
    {
     "name": "stdout",
     "output_type": "stream",
     "text": [
      "The car named Mercedes can be found at position 2\n"
     ]
    }
   ],
   "source": [
    "cars = ['Ford','Tesla','Mercedes']\n",
    "pos = cars.index('Mercedes')\n",
    "print(f'The car named Mercedes can be found at position {pos}')"
   ]
  },
  {
   "cell_type": "markdown",
   "metadata": {},
   "source": [
    "If an element is not in the list do a count before you run the index of<br>\n",
    "the item.<br>\n",
    "<br>\n",
    "The item must be in the list for an index is used to find the position"
   ]
  },
  {
   "cell_type": "code",
   "execution_count": 9,
   "metadata": {},
   "outputs": [
    {
     "name": "stdout",
     "output_type": "stream",
     "text": [
      "Toyota is not in the list\n"
     ]
    }
   ],
   "source": [
    "cars = ['Ford','Tesla','Mercedes']\n",
    "if cars.count('Toyota') > 0:\n",
    "    pos = cars.index('Toyota')   # Would produce an error because it is not in the list\n",
    "else:\n",
    "    print(f'Toyota is not in the list')"
   ]
  },
  {
   "cell_type": "markdown",
   "metadata": {},
   "source": [
    "<h4>Strings</h4>\n",
    "As we have seen before the same way we use an index for a list or tuple,<br>\n",
    "we can do with a string.<br>\n",
    "<code>\n",
    "words = 'A journey of a million miles begins with one step'\n",
    "for i in words:\n",
    "    print(i)\n",
    "</code>\n",
    "<br>\n",
    "Will return:<br>\n",
    "<code>\n",
    "A, ,j,o,u,r,n,e,y, ,o,f, ,a, ,m,i,l,l,i,o,n, ,m,i,l,e,s, ,b,e,g,i,n,s, ,w,i,t,h, ,o,n,e, ,s,t,e,p,    \n",
    "</code><br>\n",
    "The 3 ways to iterate over the string.<br>\n",
    "Method 1 - Range object<br>\n",
    "words = 'A journey of a million miles begins with one step'<br>\n",
    "<code>\n",
    "'''Method 1 - Range'''\n",
    "for i in range(len(words)):\n",
    "    print(words[i], end = ',')   # index used here\n",
    "print()\n",
    "\n",
    "'''Method 2 - in operator'''\n",
    "for i in words:             # No indexing here !!!\n",
    "    print(i, end = ',')\n",
    "print()\n",
    "\n",
    "'''Method 3 enumerate'''\n",
    "for i,word in enumerate(words):             # indexing here !!!\n",
    "    print(i, words[i])    # indexing here !!!\n",
    "print()\n",
    "</code>"
   ]
  },
  {
   "cell_type": "code",
   "execution_count": 13,
   "metadata": {},
   "outputs": [
    {
     "name": "stdout",
     "output_type": "stream",
     "text": [
      "A, ,j,o,u,r,n,e,y, ,o,f, ,a, ,m,i,l,l,i,o,n, ,m,i,l,e,s, ,b,e,g,i,n,s, ,w,i,t,h, ,o,n,e, ,s,t,e,p,\n",
      "A, ,j,o,u,r,n,e,y, ,o,f, ,a, ,m,i,l,l,i,o,n, ,m,i,l,e,s, ,b,e,g,i,n,s, ,w,i,t,h, ,o,n,e, ,s,t,e,p,\n",
      "0 A\n",
      "1  \n",
      "2 j\n",
      "3 o\n",
      "4 u\n",
      "5 r\n",
      "6 n\n",
      "7 e\n",
      "8 y\n",
      "9  \n",
      "10 o\n",
      "11 f\n",
      "12  \n",
      "13 a\n",
      "14  \n",
      "15 m\n",
      "16 i\n",
      "17 l\n",
      "18 l\n",
      "19 i\n",
      "20 o\n",
      "21 n\n",
      "22  \n",
      "23 m\n",
      "24 i\n",
      "25 l\n",
      "26 e\n",
      "27 s\n",
      "28  \n",
      "29 b\n",
      "30 e\n",
      "31 g\n",
      "32 i\n",
      "33 n\n",
      "34 s\n",
      "35  \n",
      "36 w\n",
      "37 i\n",
      "38 t\n",
      "39 h\n",
      "40  \n",
      "41 o\n",
      "42 n\n",
      "43 e\n",
      "44  \n",
      "45 s\n",
      "46 t\n",
      "47 e\n",
      "48 p\n",
      "\n"
     ]
    }
   ],
   "source": [
    "words = 'A journey of a million miles begins with one step'\n",
    "for i in range(len(words)):\n",
    "    print(words[i], end = ',')   # index used here\n",
    "print()\n",
    "\n",
    "for i in words:             # No indexing here !!!\n",
    "    print(i, end = ',')\n",
    "print()\n",
    "\n",
    "for i,word in enumerate(words):             # indexing here !!!\n",
    "    print(i, words[i])    # indexing here !!!\n",
    "print()\n"
   ]
  },
  {
   "cell_type": "markdown",
   "metadata": {},
   "source": [
    "<h2>Slicing</h2>\n",
    "Slicing is related to indexing.  Whereas indexing involved passing in one<br>\n",
    "parameter to get the element you want, slicing involves passing 2 or more implied <br>\n",
    "or explicit parameters to an object.<br><br>\n",
    "Slicing only applies to objects that are iterables like strings, lists and tuples.<br>\n",
    "You must use the square barackets and at least 2 explicit or implied parameters."
   ]
  },
  {
   "cell_type": "markdown",
   "metadata": {},
   "source": [
    "<h4>strings</h4>\n",
    "To get a 'slice' of our phrase, let's get characters 10 through 20.<br>\n",
    "To accomplish this do the following:<br>\n",
    "<code>\n",
    "words = 'A journey of a million miles begins with one step'\n",
    "print(words[10:21])\n",
    "<code>"
   ]
  },
  {
   "cell_type": "code",
   "execution_count": 20,
   "metadata": {},
   "outputs": [
    {
     "name": "stdout",
     "output_type": "stream",
     "text": [
      "of a millio\n"
     ]
    }
   ],
   "source": [
    "words = 'A journey of a million miles begins with one step'\n",
    "print(words[10:21])"
   ]
  },
  {
   "cell_type": "markdown",
   "metadata": {},
   "source": [
    "<h4>Lists and Tuples</h4>\n",
    "To get a slice of a tuple give at least 2 implied or explict parameters.<br>\n",
    "<br>\n",
    "<code>\n",
    "cars = ['Ford','Tesla','Mercedes','Kia','Volvo','BMW','Volkswagon']\n",
    "print(cars[2:4])\n",
    "</code><br>\n",
    "This will print the slice containing cars 2 and 3"
   ]
  },
  {
   "cell_type": "code",
   "execution_count": 22,
   "metadata": {},
   "outputs": [
    {
     "name": "stdout",
     "output_type": "stream",
     "text": [
      "['Mercedes', 'Kia']\n"
     ]
    }
   ],
   "source": [
    "cars = ['Ford','Tesla','Mercedes','Kia','Volvo','BMW','Volkswagon']\n",
    "print(cars[2:4])"
   ]
  },
  {
   "cell_type": "markdown",
   "metadata": {},
   "source": [
    "<h2>Implied parameter slicing</h2>\n",
    "We can imply a parameter.  For example if we wanted the<br>\n",
    "first 3 cars from the list we would type:<br>\n",
    "<code>\n",
    "cars = ['Ford','Tesla','Mercedes','Kia','Volvo','BMW','Volkswagon']\n",
    "print(cars[:3])\n",
    "</code>\n",
    "<br>\n",
    "There is an implied zero (0) before the ':'.<br>\n",
    "It will print cars with the index of 0,1 and 2."
   ]
  },
  {
   "cell_type": "code",
   "execution_count": 24,
   "metadata": {},
   "outputs": [
    {
     "name": "stdout",
     "output_type": "stream",
     "text": [
      "['Ford', 'Tesla', 'Mercedes']\n"
     ]
    }
   ],
   "source": [
    "cars = ['Ford','Tesla','Mercedes','Kia','Volvo','BMW','Volkswagon']\n",
    "print(cars[:3])"
   ]
  },
  {
   "cell_type": "markdown",
   "metadata": {},
   "source": [
    "The same trick applies to the end of the list.  If I wanted to print<br>\n",
    "all of the cars from the 4th car until the end of the list<br>\n",
    "Type:<br>\n",
    "<code>\n",
    "cars = ['Ford','Tesla','Mercedes','Kia','Volvo','BMW','Volkswagon']\n",
    "print(cars[4:])\n",
    "</code><br>\n",
    "Cars with an index of 4, 5 and 6 are printed.<br>\n",
    "The last parameter is implied and would be the length of the list."
   ]
  },
  {
   "cell_type": "code",
   "execution_count": 25,
   "metadata": {},
   "outputs": [
    {
     "name": "stdout",
     "output_type": "stream",
     "text": [
      "['Volvo', 'BMW', 'Volkswagon']\n"
     ]
    }
   ],
   "source": [
    "cars = ['Ford','Tesla','Mercedes','Kia','Volvo','BMW','Volkswagon']\n",
    "print(cars[4:])"
   ]
  },
  {
   "cell_type": "markdown",
   "metadata": {},
   "source": [
    "<h2>We can also use negative numbers</h2>\n",
    "If we wanted the last 2 items in our cars list.<br>\n",
    "Type:<br>\n",
    "<code>\n",
    "cars = ['Ford','Tesla','Mercedes','Kia','Volvo','BMW','Volkswagon']\n",
    "print(cars[-2:])\n",
    "</code>"
   ]
  },
  {
   "cell_type": "code",
   "execution_count": 27,
   "metadata": {},
   "outputs": [
    {
     "name": "stdout",
     "output_type": "stream",
     "text": [
      "['BMW', 'Volkswagon']\n"
     ]
    }
   ],
   "source": [
    "cars = ['Ford','Tesla','Mercedes','Kia','Volvo','BMW','Volkswagon']\n",
    "print(cars[-2:])"
   ]
  },
  {
   "cell_type": "markdown",
   "metadata": {},
   "source": [
    "If I wanted from the 3rd item in the list until the 2nd item from the end<br>\n",
    "I can use a positive and negative integer as parameters.<br>\n",
    "<code>\n",
    "cars = ['Ford','Tesla','Mercedes','Kia','Volvo','BMW','Volkswagon']\n",
    "print(cars[3:-1])  # remember 1 more than the end\n",
    "</code><br>\n",
    "The same rules apply to strings."
   ]
  },
  {
   "cell_type": "code",
   "execution_count": 28,
   "metadata": {},
   "outputs": [
    {
     "name": "stdout",
     "output_type": "stream",
     "text": [
      "['Kia', 'Volvo', 'BMW']\n"
     ]
    }
   ],
   "source": [
    "cars = ['Ford','Tesla','Mercedes','Kia','Volvo','BMW','Volkswagon']\n",
    "print(cars[3:-1])  # remember 1 more than the end"
   ]
  },
  {
   "cell_type": "markdown",
   "metadata": {},
   "source": [
    "<h2>Optional 3rd parameter in slicing</h2>\n",
    "The optional 3rd parameter is the step value.  This will<br>\n",
    "allow you to skip items in the list.<br>\n",
    "THIS WORKS THE SAME AS IN THE RANGE FUNCTION<br>\n",
    "<br>\n",
    "<code>\n",
    "cars = ['Ford','Tesla','Mercedes','Kia','Volvo','BMW','Volkswagon']\n",
    "print(cars[:-2:2])  # remember 1 more than the end\n",
    "</code><br>\n",
    "This code starts at the beginning of the list and prints up to<br>\n",
    "but not including the last 2 items in the list and skipping every other item"
   ]
  },
  {
   "cell_type": "code",
   "execution_count": 29,
   "metadata": {},
   "outputs": [
    {
     "name": "stdout",
     "output_type": "stream",
     "text": [
      "['Ford', 'Mercedes', 'Volvo']\n"
     ]
    }
   ],
   "source": [
    "cars = ['Ford','Tesla','Mercedes','Kia','Volvo','BMW','Volkswagon']\n",
    "print(cars[:-2:2])  # remember 1 more than the end"
   ]
  },
  {
   "cell_type": "markdown",
   "metadata": {},
   "source": [
    "<h2>Slicing Special Case</h2>\n",
    "Slicing can also be used to make a deep copy of a string, list or tuple.\n",
    "<br>\n",
    "<code>\n",
    "cars = ['Ford','Tesla','Mercedes','Kia','Volvo','BMW','Volkswagon']\n",
    "my_cars = cars[::]    # <=== Copy made here\n",
    "print(my_cars)\n",
    "print(id(cars),id(my_cars))\n",
    "</code><br>\n",
    "The ids of the list are different"
   ]
  },
  {
   "cell_type": "code",
   "execution_count": 35,
   "metadata": {},
   "outputs": [
    {
     "name": "stdout",
     "output_type": "stream",
     "text": [
      "['Ford', 'Tesla', 'Mercedes', 'Kia', 'Volvo', 'BMW', 'Volkswagon']\n",
      "3079406818752 3079406866176\n"
     ]
    }
   ],
   "source": [
    "cars = ['Ford','Tesla','Mercedes','Kia','Volvo','BMW','Volkswagon']\n",
    "my_cars = cars[::]\n",
    "print(my_cars)\n",
    "print(id(cars),id(my_cars))"
   ]
  },
  {
   "cell_type": "code",
   "execution_count": null,
   "metadata": {},
   "outputs": [],
   "source": []
  },
  {
   "cell_type": "markdown",
   "metadata": {},
   "source": [
    "This is as opposed to a shallow copy which is only a reference to <br>\n",
    "an item.<br>\n",
    "<code>\n",
    "cars = ['Ford','Tesla','Mercedes','Kia','Volvo','BMW','Volkswagon']\n",
    "my_cars = cars\n",
    "print(my_cars)\n",
    "print(id(cars),id(my_cars))\n",
    "</code><br>\n",
    "The ids are the same"
   ]
  },
  {
   "cell_type": "code",
   "execution_count": 1,
   "metadata": {},
   "outputs": [
    {
     "name": "stdout",
     "output_type": "stream",
     "text": [
      "['Ford', 'Tesla', 'Mercedes', 'Kia', 'Volvo', 'BMW', 'Volkswagon']\n",
      "2041046740096 2041046740096\n"
     ]
    }
   ],
   "source": [
    "cars = ['Ford','Tesla','Mercedes','Kia','Volvo','BMW','Volkswagon']\n",
    "my_cars = cars\n",
    "print(my_cars)\n",
    "print(id(cars),id(my_cars))"
   ]
  },
  {
   "cell_type": "markdown",
   "metadata": {},
   "source": [
    "<h4>What does having the same id mean?</h4><br>\n",
    "It means that if you make a change to any one of the items,<br>\n",
    "it is reflected in both!!!!<br>\n",
    "<code>\n",
    "cars = ['Ford','Tesla','Mercedes','Kia','Volvo','BMW','Volkswagon']\n",
    "my_cars = cars\n",
    "print(my_cars)\n",
    "print(id(cars),id(my_cars))    \n",
    "cars[0] = 'Audi'   # Change made to cars replaced Ford with Audi\n",
    "print(my_cars)     # Change is reflected in my_cars\n",
    "</code>"
   ]
  },
  {
   "cell_type": "code",
   "execution_count": 5,
   "metadata": {},
   "outputs": [
    {
     "name": "stdout",
     "output_type": "stream",
     "text": [
      "['Ford', 'Tesla', 'Mercedes', 'Kia', 'Volvo', 'BMW', 'Volkswagon']\n",
      "2041046743936 2041046743936\n",
      "['Audi', 'Tesla', 'Mercedes', 'Kia', 'Volvo', 'BMW', 'Volkswagon']\n"
     ]
    }
   ],
   "source": [
    "cars = ['Ford','Tesla','Mercedes','Kia','Volvo','BMW','Volkswagon']\n",
    "my_cars = cars\n",
    "print(my_cars)\n",
    "print(id(cars),id(my_cars))    \n",
    "cars[0] = 'Audi'   # Change made to cars replaced Ford with Audi\n",
    "print(my_cars)     # Change is reflected in my_cars"
   ]
  },
  {
   "cell_type": "markdown",
   "metadata": {},
   "source": []
  },
  {
   "cell_type": "markdown",
   "metadata": {},
   "source": [
    "<h2>Exercise</h2>\n",
    "Using our cars list.  Print every other car.<br>\n",
    "<code>\n",
    "cars = ['Ford','Tesla','Mercedes','Kia','Volvo','BMW','Volkswagon']    \n",
    "</code>"
   ]
  },
  {
   "cell_type": "markdown",
   "metadata": {},
   "source": [
    "<h4>Solution</h4>"
   ]
  },
  {
   "cell_type": "code",
   "execution_count": 32,
   "metadata": {},
   "outputs": [
    {
     "name": "stdout",
     "output_type": "stream",
     "text": [
      "['Ford', 'Mercedes', 'Volvo', 'Volkswagon']\n"
     ]
    }
   ],
   "source": [
    "cars = ['Ford','Tesla','Mercedes','Kia','Volvo','BMW','Volkswagon']\n",
    "res = cars[::2]\n",
    "print(res)"
   ]
  },
  {
   "cell_type": "markdown",
   "metadata": {},
   "source": [
    "<h2>Exercise</h2>\n",
    "For our cars list print the first letter and last letter of each car capitalized.<br>\n",
    "<code>\n",
    "cars = ['Ford','Tesla','Mercedes','Kia','Volvo','BMW','Volkswagon']    \n",
    "</code>"
   ]
  },
  {
   "cell_type": "markdown",
   "metadata": {},
   "source": [
    "First we must rethink the problem and break it into parts.<br>\n",
    "Step 1 - iterate over the object<br>\n",
    "Step 2 - Capitalize each element <br>\n",
    "Step 3 - USING SLICING GET THE FIRST LETTER!!!<br>\n",
    "Step 4 - USING SLICING GET THE LAST LETTER<br>\n",
    "<br>\n",
    "Step 1 - iterate below\n",
    "<code>\n",
    "cars = ['Ford','Tesla','Mercedes','Kia','Volvo','BMW','Volkswagon']\n",
    "res = [car for car in cars]\n",
    "print(res)\n",
    "</code>"
   ]
  },
  {
   "cell_type": "markdown",
   "metadata": {},
   "source": [
    "Step 2 - Capitalize below\n",
    "<code>\n",
    "cars = ['Ford','Tesla','Mercedes','Kia','Volvo','BMW','Volkswagon']\n",
    "res = [car.upper() for car in cars]\n",
    "print(res)\n",
    "</code>"
   ]
  },
  {
   "cell_type": "code",
   "execution_count": null,
   "metadata": {},
   "outputs": [],
   "source": []
  },
  {
   "cell_type": "markdown",
   "metadata": {},
   "source": [
    "Step 3 - Get the first letter slice  below\n",
    "<code>\n",
    "cars = ['Ford','Tesla','Mercedes','Kia','Volvo','BMW','Volkswagon']\n",
    "res = [car.upper()[:1] for car in cars]\n",
    "print(res)\n",
    "</code>"
   ]
  },
  {
   "cell_type": "markdown",
   "metadata": {},
   "source": [
    "Step 4 - add the last letter slice  below\n",
    "<code>\n",
    "cars = ['Ford','Tesla','Mercedes','Kia','Volvo','BMW','Volkswagon']\n",
    "res = [car.upper()[:1] + car.upper()[-1:] for car in cars]\n",
    "print(res)\n",
    "</code>"
   ]
  },
  {
   "cell_type": "markdown",
   "metadata": {},
   "source": [
    "<h4>Solution</h4>"
   ]
  },
  {
   "cell_type": "code",
   "execution_count": 9,
   "metadata": {},
   "outputs": [
    {
     "name": "stdout",
     "output_type": "stream",
     "text": [
      "['FD', 'TA', 'MS', 'KA', 'VO', 'BW', 'VN']\n"
     ]
    }
   ],
   "source": [
    "cars = ['Ford','Tesla','Mercedes','Kia','Volvo','BMW','Volkswagon']\n",
    "res = [car.upper()[:1] + car.upper()[-1:] for car in cars]\n",
    "print(res)"
   ]
  },
  {
   "cell_type": "markdown",
   "metadata": {},
   "source": [
    "<h2>Exercise</h2>\n"
   ]
  },
  {
   "cell_type": "markdown",
   "metadata": {},
   "source": [
    "Print the name of every car that has an 'o' in its name.\n",
    "<br>\n",
    "<code>\n",
    "cars = ['Ford','Tesla','Mercedes','Kia','Volvo','BMW','Volkswagon']\n",
    "</code>"
   ]
  },
  {
   "cell_type": "markdown",
   "metadata": {},
   "source": [
    "<h4>Solution</h4>"
   ]
  },
  {
   "cell_type": "code",
   "execution_count": 37,
   "metadata": {},
   "outputs": [
    {
     "name": "stdout",
     "output_type": "stream",
     "text": [
      "['Ford', 'Volvo', 'Volkswagon']\n"
     ]
    }
   ],
   "source": [
    "res = [car for car in cars if 'o' in car]\n",
    "print(res)"
   ]
  },
  {
   "cell_type": "markdown",
   "metadata": {},
   "source": [
    "<h2>Exercise</h2>\n",
    "The following time series data represents the stock price<br>\n",
    "of a security over a 15 day period.  Calculate the 5 day rolling<br>\n",
    "average using slicing.<br>\n",
    "<code>\n",
    "daily_price = [23,22,7,23.1,23.7, 24, 23.5, 24, 24.1, 24.9, 25, 25.9,24.9,27,27.5]\n",
    "</code>\n",
    "Round your means to 2 decimal places"
   ]
  },
  {
   "cell_type": "markdown",
   "metadata": {},
   "source": [
    "<h4>Solution</h4>"
   ]
  },
  {
   "cell_type": "code",
   "execution_count": 42,
   "metadata": {},
   "outputs": [
    {
     "name": "stdout",
     "output_type": "stream",
     "text": [
      "[19.76, 19.96, 20.26, 23.66, 23.86, 24.1, 24.3, 24.78, 24.96, 25.54]\n"
     ]
    }
   ],
   "source": [
    "daily_price = [23,22,7,23.1,23.7, 24, 23.5, 24, 24.1, 24.9, 25, 25.9,24.9,27,27.5]\n",
    "rolling_mean = [round(sum(daily_price[i-5:i])/5,2) for i,price in enumerate(daily_price) if i > 4]\n",
    "print(rolling_mean)"
   ]
  },
  {
   "cell_type": "code",
   "execution_count": 1,
   "metadata": {},
   "outputs": [
    {
     "ename": "NameError",
     "evalue": "name 'cars' is not defined",
     "output_type": "error",
     "traceback": [
      "\u001b[0;31m---------------------------------------------------------------------------\u001b[0m",
      "\u001b[0;31mNameError\u001b[0m                                 Traceback (most recent call last)",
      "\u001b[0;32m<ipython-input-1-f3691ee02731>\u001b[0m in \u001b[0;36m<module>\u001b[0;34m\u001b[0m\n\u001b[1;32m      1\u001b[0m \u001b[0mcars2\u001b[0m \u001b[0;34m=\u001b[0m \u001b[0;34m[\u001b[0m\u001b[0;34m]\u001b[0m\u001b[0;34m\u001b[0m\u001b[0;34m\u001b[0m\u001b[0m\n\u001b[0;32m----> 2\u001b[0;31m \u001b[0;32mfor\u001b[0m \u001b[0mcar\u001b[0m \u001b[0;32min\u001b[0m \u001b[0mcars\u001b[0m\u001b[0;34m:\u001b[0m\u001b[0;34m\u001b[0m\u001b[0;34m\u001b[0m\u001b[0m\n\u001b[0m\u001b[1;32m      3\u001b[0m     \u001b[0mcar3\u001b[0m \u001b[0;34m=\u001b[0m \u001b[0mcar\u001b[0m\u001b[0;34m.\u001b[0m\u001b[0mupper\u001b[0m\u001b[0;34m(\u001b[0m\u001b[0;34m)\u001b[0m\u001b[0;34m\u001b[0m\u001b[0;34m\u001b[0m\u001b[0m\n\u001b[1;32m      4\u001b[0m     \u001b[0mcars2\u001b[0m\u001b[0;34m.\u001b[0m\u001b[0mappend\u001b[0m\u001b[0;34m(\u001b[0m\u001b[0mcar3\u001b[0m\u001b[0;34m)\u001b[0m\u001b[0;34m\u001b[0m\u001b[0;34m\u001b[0m\u001b[0m\n\u001b[1;32m      5\u001b[0m     \u001b[0;32mfor\u001b[0m \u001b[0mca\u001b[0m \u001b[0;32min\u001b[0m \u001b[0mcar3\u001b[0m\u001b[0;34m:\u001b[0m\u001b[0;34m\u001b[0m\u001b[0;34m\u001b[0m\u001b[0m\n",
      "\u001b[0;31mNameError\u001b[0m: name 'cars' is not defined"
     ]
    }
   ],
   "source": [
    "cars2 = []\n",
    "for car in cars:\n",
    "    car3 = car.upper()\n",
    "    cars2.append(car3)\n",
    "    for ca in car3:\n",
    "        first_letter = ca[1:]\n",
    "        last_letter = ca[:-1]\n",
    "        print(ca[1:])"
   ]
  },
  {
   "cell_type": "code",
   "execution_count": 5,
   "metadata": {},
   "outputs": [
    {
     "name": "stdout",
     "output_type": "stream",
     "text": [
      "['FD', 'TA', 'MS', 'KA', 'VO', 'BW', 'VN']\n",
      "F\n",
      "D\n",
      "T\n",
      "A\n",
      "M\n",
      "S\n",
      "K\n",
      "A\n",
      "V\n",
      "O\n",
      "B\n",
      "W\n",
      "V\n",
      "N\n"
     ]
    }
   ],
   "source": [
    "cars = ['Ford','Tesla','Mercedes','Kia','Volvo','BMW','Volkswagon']\n",
    "res = [car.upper()[:1] + car.upper()[-1:] for car in cars]\n",
    "print(res)\n",
    "\n",
    "for car in cars:\n",
    "    first_letter = car[0].upper()\n",
    "    last_letter = car[-1].upper()\n",
    "    print(first_letter)\n",
    "    print(last_letter)"
   ]
  },
  {
   "cell_type": "markdown",
   "metadata": {},
   "source": [
    "This notebook is part of a course at www.codeimmersives.com . If you accessed this notebook outside the course, you can get more information about this course online by clicking here."
   ]
  },
  {
   "cell_type": "markdown",
   "metadata": {},
   "source": [
    "<hr>\n",
    "\n",
    "Copyright &copy; 2021  Code Immersives"
   ]
  }
 ],
 "metadata": {
  "kernelspec": {
   "display_name": "Python 3",
   "language": "python",
   "name": "python3"
  },
  "language_info": {
   "codemirror_mode": {
    "name": "ipython",
    "version": 3
   },
   "file_extension": ".py",
   "mimetype": "text/x-python",
   "name": "python",
   "nbconvert_exporter": "python",
   "pygments_lexer": "ipython3",
   "version": "3.9.5"
  }
 },
 "nbformat": 4,
 "nbformat_minor": 4
}
