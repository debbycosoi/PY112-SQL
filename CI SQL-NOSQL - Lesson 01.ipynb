{
 "cells": [
  {
   "cell_type": "markdown",
   "metadata": {},
   "source": [
    "<a href=\"https://codeimmersives.com\"><img src = \"https://www.codeimmersives.com/wp-content/uploads/2019/09/CodeImmersives_Logo_RGB_NYC_BW.png\" width = 400> </a>\n",
    "\n",
    "\n",
    "<h1 align=center><font size = 5>Agenda</font></h1>"
   ]
  },
  {
   "cell_type": "markdown",
   "metadata": {},
   "source": [
    "# SQLite3"
   ]
  },
  {
   "cell_type": "markdown",
   "metadata": {},
   "source": [
    "### Agenda\n",
    "<div class=\"alert alert-block alert-info\" style=\"margin-top: 20px\">\n",
    "\n",
    "1.  [Installation](#0)<br>\n",
    "2.  [Data Definaton Language(DDL)](#2)<br>\n",
    "3.  [CREATE, CREATE TABLE, CREATE VIEW](#4) <br>\n",
    "4.  [DATA TYPES (TEXT, NUMERIC, INTEGER, FLOAT)](#6) <br>     \n",
    "5.  [PRIMARY KEYS](#8) <br> \n",
    "6.  [IF EXISTS, IF NOT EXISTS](#10) <br>\n",
    "7.  [DROP TABLE, DROP INDEX](#12) <br>\n",
    "8.  [TABLES FROM QUERIES]\n",
    "9.  [ALTER TABLES]\n",
    "9.  [Exercise 1](#14) <br>    \n",
    "10. [Exercise 2](#16) <br>\n",
    "11. [Exercise 3](#18) <br>\n",
    "    \n",
    "</div>\n",
    "<hr>"
   ]
  },
  {
   "cell_type": "markdown",
   "metadata": {},
   "source": [
    "# Warm Up Exercises "
   ]
  },
  {
   "cell_type": "code",
   "execution_count": 1,
   "metadata": {},
   "outputs": [
    {
     "output_type": "stream",
     "name": "stdout",
     "text": [
      "abcdefghijklmnopqrstuvwxyzABCDEFGHIJKLMNOPQRSTUVWXYZ\n"
     ]
    }
   ],
   "source": [
    "import string\n",
    "print(string.ascii_letters)"
   ]
  },
  {
   "cell_type": "code",
   "execution_count": 2,
   "metadata": {},
   "outputs": [
    {
     "output_type": "stream",
     "name": "stdout",
     "text": [
      "helloworld\n"
     ]
    }
   ],
   "source": [
    "import sqlite3\n",
    "import os\n",
    "print(\"helloworld\")"
   ]
  },
  {
   "cell_type": "code",
   "execution_count": 3,
   "metadata": {},
   "outputs": [
    {
     "output_type": "stream",
     "name": "stdout",
     "text": [
      "tiapipi\n"
     ]
    }
   ],
   "source": [
    "print(\"tiapipi\")"
   ]
  },
  {
   "cell_type": "code",
   "execution_count": null,
   "metadata": {},
   "outputs": [],
   "source": []
  },
  {
   "cell_type": "markdown",
   "metadata": {},
   "source": [
    "# Differences Between Sqlite / mysql\n",
    "https://dzone.com/articles/sqlite-vs-mysql "
   ]
  },
  {
   "cell_type": "markdown",
   "metadata": {},
   "source": [
    "#### Let's create a directory to store all of our data for the course, create a dirctory called 'sql-data'"
   ]
  },
  {
   "cell_type": "markdown",
   "metadata": {},
   "source": [
    "#### Let's determine which directory we are in"
   ]
  },
  {
   "cell_type": "code",
   "execution_count": 5,
   "metadata": {},
   "outputs": [
    {
     "output_type": "stream",
     "name": "stdout",
     "text": [
      "/Users/debbycosoi/Desktop/Code Immersives/SQL NoSQL/PY112-SQL\n/Users/debbycosoi/Desktop/Code Immersives/SQL NoSQL/PY112-SQL\n"
     ]
    }
   ],
   "source": [
    "print(os.getcwd())\n",
    "os.chdir(r'/Users/debbycosoi/Desktop/Code Immersives/SQL NoSQL/PY112-SQL')  \n",
    "print(os.getcwd()) #this gets the working directory"
   ]
  },
  {
   "cell_type": "markdown",
   "metadata": {},
   "source": [
    "#### To create a database and establish a connection to it"
   ]
  },
  {
   "cell_type": "code",
   "execution_count": 15,
   "metadata": {},
   "outputs": [],
   "source": [
    "conn = sqlite3.connect('customer.db')\n",
    "# If we attempt to connect to a database that does not exist.  It creates it."
   ]
  },
  {
   "cell_type": "code",
   "execution_count": 9,
   "metadata": {},
   "outputs": [],
   "source": [
    "from pprint import pprint"
   ]
  },
  {
   "cell_type": "code",
   "execution_count": 12,
   "metadata": {},
   "outputs": [
    {
     "output_type": "stream",
     "name": "stdout",
     "text": [
      "['DataError',\n 'DatabaseError',\n 'Error',\n 'IntegrityError',\n 'InterfaceError',\n 'InternalError',\n 'NotSupportedError',\n 'OperationalError',\n 'ProgrammingError',\n 'Warning',\n 'backup',\n 'close',\n 'commit',\n 'create_aggregate',\n 'create_collation',\n 'create_function',\n 'cursor',\n 'enable_load_extension',\n 'execute',\n 'executemany',\n 'executescript',\n 'in_transaction',\n 'interrupt',\n 'isolation_level',\n 'iterdump',\n 'load_extension',\n 'rollback',\n 'row_factory',\n 'set_authorizer',\n 'set_progress_handler',\n 'set_trace_callback',\n 'text_factory',\n 'total_changes']\n"
     ]
    }
   ],
   "source": [
    "#### Let's examine the methods available for the object we just created\n",
    "\n",
    "methods = [x for x in dir(conn) if not x.startswith('_')]\n",
    "pprint(methods)"
   ]
  },
  {
   "cell_type": "markdown",
   "metadata": {},
   "source": [
    "#### If we check our os we will see that we created a database call 'customer.db'"
   ]
  },
  {
   "cell_type": "code",
   "execution_count": null,
   "metadata": {},
   "outputs": [],
   "source": []
  },
  {
   "cell_type": "markdown",
   "metadata": {},
   "source": [
    "#### A database holds zero or more tables"
   ]
  },
  {
   "cell_type": "code",
   "execution_count": 10,
   "metadata": {},
   "outputs": [
    {
     "output_type": "stream",
     "name": "stdout",
     "text": [
      "['__class__',\n '__delattr__',\n '__dir__',\n '__doc__',\n '__eq__',\n '__format__',\n '__ge__',\n '__getattribute__',\n '__gt__',\n '__hash__',\n '__init__',\n '__init_subclass__',\n '__iter__',\n '__le__',\n '__lt__',\n '__ne__',\n '__new__',\n '__next__',\n '__reduce__',\n '__reduce_ex__',\n '__repr__',\n '__setattr__',\n '__sizeof__',\n '__str__',\n '__subclasshook__',\n 'arraysize',\n 'close',\n 'connection',\n 'description',\n 'execute',\n 'executemany',\n 'executescript',\n 'fetchall',\n 'fetchmany',\n 'fetchone',\n 'lastrowid',\n 'row_factory',\n 'rowcount',\n 'setinputsizes',\n 'setoutputsize']\n"
     ]
    }
   ],
   "source": [
    "# Create a cursor to access the database\n",
    "c = conn.cursor()\n",
    "# This is equivalent to creating a filehandle when using the 'open' function\n",
    "pprint(dir(c))"
   ]
  },
  {
   "cell_type": "markdown",
   "metadata": {},
   "source": [
    "#### Creating a table"
   ]
  },
  {
   "cell_type": "code",
   "execution_count": 14,
   "metadata": {},
   "outputs": [
    {
     "output_type": "error",
     "ename": "OperationalError",
     "evalue": "table customers already exists",
     "traceback": [
      "\u001b[0;31m---------------------------------------------------------------------------\u001b[0m",
      "\u001b[0;31mOperationalError\u001b[0m                          Traceback (most recent call last)",
      "\u001b[0;32m<ipython-input-14-70301e6bf416>\u001b[0m in \u001b[0;36m<module>\u001b[0;34m\u001b[0m\n\u001b[0;32m----> 1\u001b[0;31m c.execute(\"\"\"CREATE TABLE customers (\n\u001b[0m\u001b[1;32m      2\u001b[0m     \u001b[0mfName\u001b[0m \u001b[0mTEXT\u001b[0m\u001b[0;34m,\u001b[0m\u001b[0;34m\u001b[0m\u001b[0;34m\u001b[0m\u001b[0m\n\u001b[1;32m      3\u001b[0m     \u001b[0mlName\u001b[0m \u001b[0mTEXT\u001b[0m\u001b[0;34m,\u001b[0m\u001b[0;34m\u001b[0m\u001b[0;34m\u001b[0m\u001b[0m\n\u001b[1;32m      4\u001b[0m     \u001b[0maddress1\u001b[0m \u001b[0mTEXT\u001b[0m\u001b[0;34m,\u001b[0m\u001b[0;34m\u001b[0m\u001b[0;34m\u001b[0m\u001b[0m\n\u001b[1;32m      5\u001b[0m     \u001b[0maddress2\u001b[0m \u001b[0mTEXT\u001b[0m\u001b[0;34m,\u001b[0m\u001b[0;34m\u001b[0m\u001b[0;34m\u001b[0m\u001b[0m\n",
      "\u001b[0;31mOperationalError\u001b[0m: table customers already exists"
     ]
    }
   ],
   "source": [
    "c.execute(\"\"\"CREATE TABLE customers (\n",
    "    fName TEXT,\n",
    "    lName TEXT,\n",
    "    address1 TEXT,\n",
    "    address2 TEXT,\n",
    "    zip TEXT)\n",
    "\"\"\")\n",
    "conn.commit()  # <=== commit our table to the database\n",
    "conn.close()   # <=== close the connection\n",
    "'''\n",
    "WARNING !!!! If the table was created previously It will give you \n",
    "an error\n",
    "\n",
    "'''"
   ]
  },
  {
   "cell_type": "code",
   "execution_count": 16,
   "metadata": {},
   "outputs": [],
   "source": [
    "# Use the IF NOT EXISTS clause if we might have created the table previously\n",
    "c.execute(\"\"\"CREATE TABLE IF NOT EXISTS customers (\n",
    "    fName TEXT,\n",
    "    lName TEXT,\n",
    "    address1 TEXT,\n",
    "    address2 TEXT,\n",
    "    zip TEXT)\n",
    "\"\"\")\n",
    "conn.commit()  # <=== commit our table to the database\n",
    "conn.close()"
   ]
  },
  {
   "cell_type": "markdown",
   "metadata": {},
   "source": [
    "#### How can we view the tables already created in a database?"
   ]
  },
  {
   "cell_type": "code",
   "execution_count": 17,
   "metadata": {},
   "outputs": [
    {
     "output_type": "stream",
     "name": "stdout",
     "text": [
      "('customers',)\n('depts',)\n('customers',)\n('depts',)\n"
     ]
    }
   ],
   "source": [
    "'''\n",
    "There are several tools we can use to view our SQLite database and the tables outside of python\n",
    "1. Install full version of SQLite3 - www.sqlite.org\n",
    "2. Install a browser add in - SQLite Manager by Lunu ( PREFERRED)\n",
    "\n",
    "Examine the customer.db file we created\n",
    "Examine the chinook.db file \n",
    "\n",
    "Look at the syntax\n",
    "\n",
    "'''\n",
    "conn = sqlite3.connect('customer.db')\n",
    "c = conn.cursor()\n",
    "for row in c.execute(\"\"\"SELECT name FROM sqlite_master\"\"\"):\n",
    "    print(row)\n",
    "c.execute(\"\"\"CREATE TABLE IF NOT EXISTS depts (\n",
    "    dept_id TEXT,\n",
    "    dept_name TEXT)\n",
    "\"\"\")\n",
    "for row in c.execute(\"\"\"SELECT name FROM sqlite_master\"\"\"):\n",
    "    print(row)\n",
    "conn.commit()  # <=== commit our table to the database\n",
    "conn.close()"
   ]
  },
  {
   "cell_type": "markdown",
   "metadata": {},
   "source": [
    "#### NOTE: CASE MATTERS"
   ]
  },
  {
   "cell_type": "markdown",
   "metadata": {},
   "source": [
    "<H4>The 5 SQLite data types</H4>\n",
    "<H4>NULL<br>\n",
    "    INTEGER<br>\n",
    "    REAL<br>\n",
    "    TEXT<br>\n",
    "    BLOB<br>\n",
    " </H4>"
   ]
  },
  {
   "cell_type": "markdown",
   "metadata": {},
   "source": [
    "#### Inserting data - one record at a time"
   ]
  },
  {
   "cell_type": "code",
   "execution_count": 18,
   "metadata": {},
   "outputs": [
    {
     "output_type": "stream",
     "name": "stdout",
     "text": [
      "-1\n1\n"
     ]
    }
   ],
   "source": [
    "conn = sqlite3.connect('customer.db')\n",
    "c = conn.cursor()\n",
    "print(c.rowcount)\n",
    "c.execute(\"\"\"INSERT INTO customers VALUES\n",
    "('Mary','Jones','15 Main street','','99995')\"\"\")\n",
    "conn.commit()\n",
    "conn.close()\n",
    "\n",
    "print(c.rowcount)"
   ]
  },
  {
   "cell_type": "markdown",
   "metadata": {},
   "source": [
    "#### Inserting data - multiple records at once"
   ]
  },
  {
   "cell_type": "code",
   "execution_count": 19,
   "metadata": {},
   "outputs": [],
   "source": [
    "conn = sqlite3.connect('customer.db')\n",
    "c = conn.cursor()\n",
    "all_customers = [\n",
    "    ('Harry','Teague','100 Centre Street','Apt 1A','88888'),\n",
    "    ('Henrietta','Teague','100 Centre Street','Apt 1A','88888'),\n",
    "    ('Larry','Gantt','10 Bond Street','Apt 11C','88000'),\n",
    "    ('Horace','Penn','50 Gansavort Street','Apt 9B','88770'),\n",
    "    ('Patrice','Wright','60 Brooklyn Bridge Park Street','Apt 44M','11234'),\n",
    "]\n",
    "c.executemany(\"\"\"INSERT INTO customers VALUES (?,?,?,?,?)\"\"\", all_customers)\n",
    "conn.commit()\n",
    "conn.close()"
   ]
  },
  {
   "cell_type": "markdown",
   "metadata": {},
   "source": [
    "#### Display your data using the SELECT command"
   ]
  },
  {
   "cell_type": "code",
   "execution_count": 11,
   "metadata": {},
   "outputs": [
    {
     "name": "stdout",
     "output_type": "stream",
     "text": [
      "[('John', 'Smith', '1 Main street', '', '99991'), ('John', 'Smith', '1 Main street', '', '99991'), ('Mary', 'Jones', '15 Main street', '', '99995'), ('Harry', 'Teague', '100 Centre Street', 'Apt 1A', '88888'), ('Henrietta', 'Teague', '100 Centre Street', 'Apt 1A', '88888'), ('Larry', 'Gantt', '10 Bond Street', 'Apt 11C', '88000'), ('Horace', 'Penn', '50 Gansavort Street', 'Apt 9B', '88770'), ('Patrice', 'Wright', '60 Brooklyn Bridge Park Street', 'Apt 44M', '11234')]\n",
      "('John', 'Smith', '1 Main street', '', '99991')\n",
      "John\n"
     ]
    }
   ],
   "source": [
    "conn = sqlite3.connect('customer.db')\n",
    "c = conn.cursor()\n",
    "\n",
    "# The asterick allows you to retreive all of the fields\n",
    "c.execute('SELECT * FROM customers')\n",
    "data = c.fetchall()\n",
    "print(data)\n",
    "\n",
    "# A list of tuples were returned\n",
    "# Check the data type of the elements in the list\n",
    "print(data[0])\n",
    "\n",
    "print(data[0][0]) # Return the first name of the first element in the list\n",
    "conn.commit()\n",
    "conn.close()\n",
    "\n"
   ]
  },
  {
   "cell_type": "markdown",
   "metadata": {},
   "source": [
    "#### fetchone()"
   ]
  },
  {
   "cell_type": "code",
   "execution_count": 20,
   "metadata": {},
   "outputs": [
    {
     "output_type": "stream",
     "name": "stdout",
     "text": [
      "('Mary', 'Jones', '15 Main street', '', '99995')\n"
     ]
    }
   ],
   "source": [
    "conn = sqlite3.connect('customer.db')\n",
    "c = conn.cursor()\n",
    "\n",
    "c.execute('SELECT * FROM customers')\n",
    "print(c.fetchone())\n",
    "\n",
    "conn.commit()\n",
    "conn.close()\n",
    "# A first record is returned"
   ]
  },
  {
   "cell_type": "markdown",
   "metadata": {},
   "source": [
    "#### fetchmany()"
   ]
  },
  {
   "cell_type": "code",
   "execution_count": 20,
   "metadata": {},
   "outputs": [
    {
     "name": "stdout",
     "output_type": "stream",
     "text": [
      "[('John', 'Smith', '1 Main street', '', '99991'), ('John', 'Smith', '1 Main street', '', '99991'), ('Mary', 'Jones', '15 Main street', '', '99995')]\n"
     ]
    }
   ],
   "source": [
    "conn = sqlite3.connect('customer.db')\n",
    "c = conn.cursor()\n",
    "\n",
    "c.execute('SELECT * FROM customers')\n",
    "print(c.fetchmany(3))\n",
    "\n",
    "conn.commit()\n",
    "conn.close()\n",
    "# The first record is returned"
   ]
  },
  {
   "cell_type": "markdown",
   "metadata": {},
   "source": [
    "#### Examine the elements return by fetchone"
   ]
  },
  {
   "cell_type": "code",
   "execution_count": 21,
   "metadata": {},
   "outputs": [
    {
     "output_type": "stream",
     "name": "stdout",
     "text": [
      "First name: Mary\nLast name: Jones\nAddress 1: 15 Main street\nAddress 2: \nZip: 99995\n"
     ]
    }
   ],
   "source": [
    "conn = sqlite3.connect('customer.db')\n",
    "c = conn.cursor()\n",
    "\n",
    "c.execute('SELECT * FROM customers')\n",
    "ans = c.fetchone()\n",
    "\n",
    "# Use indexing to return the elements of the tuple\n",
    "print(f'First name: {ans[0]}\\nLast name: {ans[1]}\\nAddress 1: {ans[2]}\\nAddress 2: {ans[3]}\\nZip: {ans[4]}' )\n",
    "\n",
    "conn.commit()\n",
    "conn.close()\n",
    "# A first record is returned"
   ]
  },
  {
   "cell_type": "markdown",
   "metadata": {},
   "source": [
    "#### Iterate over all returned items"
   ]
  },
  {
   "cell_type": "code",
   "execution_count": 22,
   "metadata": {},
   "outputs": [
    {
     "output_type": "stream",
     "name": "stdout",
     "text": [
      "Customer 1\nFirst name: Mary\nLast name: Jones\nAddress 1: 15 Main street\nAddress 2: \nZip: 99995\n==============================\nCustomer 2\nFirst name: Harry\nLast name: Teague\nAddress 1: 100 Centre Street\nAddress 2: Apt 1A\nZip: 88888\n==============================\nCustomer 3\nFirst name: Henrietta\nLast name: Teague\nAddress 1: 100 Centre Street\nAddress 2: Apt 1A\nZip: 88888\n==============================\nCustomer 4\nFirst name: Larry\nLast name: Gantt\nAddress 1: 10 Bond Street\nAddress 2: Apt 11C\nZip: 88000\n==============================\nCustomer 5\nFirst name: Horace\nLast name: Penn\nAddress 1: 50 Gansavort Street\nAddress 2: Apt 9B\nZip: 88770\n==============================\nCustomer 6\nFirst name: Patrice\nLast name: Wright\nAddress 1: 60 Brooklyn Bridge Park Street\nAddress 2: Apt 44M\nZip: 11234\n==============================\n"
     ]
    }
   ],
   "source": [
    "conn = sqlite3.connect('customer.db')\n",
    "c = conn.cursor()\n",
    "\n",
    "c.execute('SELECT * FROM customers')\n",
    "customers = c.fetchall()\n",
    "\n",
    "i = 1\n",
    "for customer in customers:\n",
    "    # Use indexing to return the elements of the tuple\n",
    "    print(f'Customer {i}')\n",
    "    print(f'First name: {customer[0]}\\nLast name: {customer[1]}\\nAddress 1: {customer[2]}\\nAddress 2: {customer[3]}\\nZip: {customer[4]}' )\n",
    "    print('='*30)\n",
    "    i += 1\n",
    "conn.commit()\n",
    "conn.close()"
   ]
  },
  {
   "cell_type": "markdown",
   "metadata": {},
   "source": [
    "#### sqlite primary key is automatically created"
   ]
  },
  {
   "cell_type": "code",
   "execution_count": 13,
   "metadata": {},
   "outputs": [
    {
     "name": "stdout",
     "output_type": "stream",
     "text": [
      "Customer 1\n",
      "First name: John\n",
      "Last name: Smith\n",
      "Address 1: 1 Main street\n",
      "Address 2: \n",
      "Zip: 99991\n",
      "==============================\n",
      "Customer 2\n",
      "First name: John\n",
      "Last name: Smith\n",
      "Address 1: 1 Main street\n",
      "Address 2: \n",
      "Zip: 99991\n",
      "==============================\n",
      "Customer 3\n",
      "First name: Mary\n",
      "Last name: Jones\n",
      "Address 1: 15 Main street\n",
      "Address 2: \n",
      "Zip: 99995\n",
      "==============================\n",
      "Customer 4\n",
      "First name: Harry\n",
      "Last name: Teague\n",
      "Address 1: 100 Centre Street\n",
      "Address 2: Apt 1A\n",
      "Zip: 88888\n",
      "==============================\n",
      "Customer 5\n",
      "First name: Henrietta\n",
      "Last name: Teague\n",
      "Address 1: 100 Centre Street\n",
      "Address 2: Apt 1A\n",
      "Zip: 88888\n",
      "==============================\n",
      "Customer 6\n",
      "First name: Larry\n",
      "Last name: Gantt\n",
      "Address 1: 10 Bond Street\n",
      "Address 2: Apt 11C\n",
      "Zip: 88000\n",
      "==============================\n",
      "Customer 7\n",
      "First name: Horace\n",
      "Last name: Penn\n",
      "Address 1: 50 Gansavort Street\n",
      "Address 2: Apt 9B\n",
      "Zip: 88770\n",
      "==============================\n",
      "Customer 8\n",
      "First name: Patrice\n",
      "Last name: Wright\n",
      "Address 1: 60 Brooklyn Bridge Park Street\n",
      "Address 2: Apt 44M\n",
      "Zip: 11234\n",
      "==============================\n"
     ]
    }
   ],
   "source": [
    "conn = sqlite3.connect('customer.db')\n",
    "c = conn.cursor()\n",
    "\n",
    "c.execute('SELECT rowid,* FROM customers')  # rowid is now the first element in the returned tuple\n",
    "customers = c.fetchall()\n",
    "\n",
    "# i = 1\n",
    "for customer in customers:\n",
    "    # Use indexing to return the elements of the tuple\n",
    "    print(f'Customer {customer[0]}')\n",
    "    print(f'First name: {customer[1]}\\nLast name: {customer[2]}\\nAddress 1: {customer[3]}\\nAddress 2: {customer[4]}\\nZip: {customer[5]}' )\n",
    "    print('='*30)\n",
    "conn.commit()\n",
    "conn.close()"
   ]
  },
  {
   "cell_type": "code",
   "execution_count": null,
   "metadata": {},
   "outputs": [],
   "source": [
    "'''\n",
    "In case of a database locked issue.\n",
    "Recreate your database by running the code again and changing the database name to customer1.db\n",
    "\n",
    "'''"
   ]
  },
  {
   "cell_type": "markdown",
   "metadata": {},
   "source": [
    "This notebook is part of a course at www.codeimmersives.com called SQL-NOSQL. If you accessed this notebook outside the course, you can get more information about this course online by clicking here."
   ]
  },
  {
   "cell_type": "markdown",
   "metadata": {},
   "source": [
    "<hr>\n",
    "\n",
    "Copyright &copy; 2021  Code Immersives"
   ]
  }
 ],
 "metadata": {
  "kernelspec": {
   "name": "python3",
   "display_name": "Python 3.9.5 64-bit"
  },
  "language_info": {
   "codemirror_mode": {
    "name": "ipython",
    "version": 3
   },
   "file_extension": ".py",
   "mimetype": "text/x-python",
   "name": "python",
   "nbconvert_exporter": "python",
   "pygments_lexer": "ipython3",
   "version": "3.9.5"
  },
  "interpreter": {
   "hash": "b0fa6594d8f4cbf19f97940f81e996739fb7646882a419484c72d19e05852a7e"
  }
 },
 "nbformat": 4,
 "nbformat_minor": 4
}