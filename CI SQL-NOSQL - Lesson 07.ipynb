{
 "cells": [
  {
   "cell_type": "markdown",
   "id": "ddfb7579",
   "metadata": {},
   "source": [
    "# Warm Up exercises"
   ]
  },
  {
   "cell_type": "markdown",
   "id": "77ffa7cf",
   "metadata": {},
   "source": [
    "## Exercise 1\n",
    "Write a function that takes a string of chars, digits and symbols and returns a count of each one. \n",
    "\n",
    "i.e. \n",
    "\n",
    "<code>\n",
    "str1 = \"P@#yn26at^&i5ve\"\n",
    "-> \n",
    "Total counts of chars, digits,and symbols \n",
    "Chars = 8 \n",
    "Digits = 3 \n",
    "Symbol = 4\n",
    "</code>\n"
   ]
  },
  {
   "cell_type": "code",
   "execution_count": null,
   "id": "349091a2",
   "metadata": {},
   "outputs": [],
   "source": []
  },
  {
   "cell_type": "markdown",
   "id": "7fe5f494",
   "metadata": {},
   "source": [
    "## Exercise 2\n",
    "Write a function that counts the most common letter in the text \n"
   ]
  },
  {
   "cell_type": "code",
   "execution_count": null,
   "id": "4f45739d",
   "metadata": {},
   "outputs": [],
   "source": [
    "text=\"\"\"\n",
    "Computer programming is the process of designing and building an executable computer program to accomplish a specific computing result or to perform a specific task. Programming involves tasks such as: analysis, generating algorithms, profiling algorithms' accuracy and resource consumption, and the implementation of algorithms in a chosen programming language (commonly referred to as coding).[1][2] The source code of a program is written in one or more languages that are intelligible to programmers, rather than machine code, which is directly executed by the central processing unit. The purpose of programming is to find a sequence of instructions that will automate the performance of a task (which can be as complex as an operating system) on a computer, often for solving a given problem. Proficient programming thus often requires expertise in several different subjects, including knowledge of the application domain, specialized algorithms, and formal logic.\n",
    "Tasks accompanying and related to programming include: testing, debugging, source code maintenance, implementation of build systems, and management of derived artifacts, such as the machine code of computer programs. These might be considered part of the programming process, but often the term software development is used for this larger process with the term programming, implementation, or coding reserved for the actual writing of code. Software engineering combines engineering techniques with software development practices. Reverse engineering is a related process used by designers, analysts and programmers to understand and re-create/re-implement\n",
    "\"\"\""
   ]
  },
  {
   "cell_type": "markdown",
   "id": "b66086b4",
   "metadata": {},
   "source": [
    "## Exercise 2a\n",
    "Write a function that counts the most common word in a text\n",
    "\n"
   ]
  },
  {
   "cell_type": "code",
   "execution_count": null,
   "id": "8b3dbc9d",
   "metadata": {},
   "outputs": [],
   "source": [
    "text=\"\"\"\n",
    "Computer programming is the process of designing and building an executable computer program to accomplish a specific computing result or to perform a specific task. Programming involves tasks such as: analysis, generating algorithms, profiling algorithms' accuracy and resource consumption, and the implementation of algorithms in a chosen programming language (commonly referred to as coding).[1][2] The source code of a program is written in one or more languages that are intelligible to programmers, rather than machine code, which is directly executed by the central processing unit. The purpose of programming is to find a sequence of instructions that will automate the performance of a task (which can be as complex as an operating system) on a computer, often for solving a given problem. Proficient programming thus often requires expertise in several different subjects, including knowledge of the application domain, specialized algorithms, and formal logic.\n",
    "Tasks accompanying and related to programming include: testing, debugging, source code maintenance, implementation of build systems, and management of derived artifacts, such as the machine code of computer programs. These might be considered part of the programming process, but often the term software development is used for this larger process with the term programming, implementation, or coding reserved for the actual writing of code. Software engineering combines engineering techniques with software development practices. Reverse engineering is a related process used by designers, analysts and programmers to understand and re-create/re-implement\n",
    "\"\"\""
   ]
  },
  {
   "cell_type": "markdown",
   "id": "30ef276f",
   "metadata": {},
   "source": [
    "## Using Group By"
   ]
  },
  {
   "cell_type": "code",
   "execution_count": 13,
   "id": "7a0e16f3",
   "metadata": {},
   "outputs": [
    {
     "name": "stdout",
     "output_type": "stream",
     "text": [
      "(13, 'USA')\n",
      "(8, 'Canada')\n",
      "(5, 'Brazil')\n",
      "(5, 'France')\n",
      "(4, 'Germany')\n",
      "(3, 'United Kingdom')\n",
      "(2, 'Czech Republic')\n",
      "(2, 'Portugal')\n",
      "(2, 'India')\n",
      "(1, 'Norway')\n",
      "(1, 'Austria')\n",
      "(1, 'Belgium')\n",
      "(1, 'Denmark')\n",
      "(1, 'Finland')\n",
      "(1, 'Hungary')\n",
      "(1, 'Ireland')\n",
      "(1, 'Italy')\n",
      "(1, 'Netherlands')\n",
      "(1, 'Poland')\n",
      "(1, 'Spain')\n",
      "(1, 'Sweden')\n",
      "(1, 'Australia')\n",
      "(1, 'Argentina')\n",
      "(1, 'Chile')\n"
     ]
    }
   ],
   "source": [
    "import mysql.connector\n",
    "from dotenv import dotenv_values\n",
    "\n",
    "config = dotenv_values(\".env\")  # config = {\"USER\": \"foo\", \"EMAIL\": \"foo@example.org\"}\n",
    "\n",
    "mydb = mysql.connector.connect(\n",
    "  host=config['HOST'],\n",
    "  user=config['USER'],\n",
    "  password=config['PASSWORD'],\n",
    "  database=config['DATABASE']\n",
    ")\n",
    "\n",
    "mycursor = mydb.cursor()\n",
    "\n",
    "\"\"\"\n",
    "Lists the number of customers in each country, sorted high to low\n",
    "\"\"\"\n",
    "\n",
    "query = \"\"\" \n",
    "SELECT COUNT(CustomerID), Country\n",
    "FROM Customer\n",
    "GROUP BY Country\n",
    "ORDER BY COUNT(CustomerID) DESC;\n",
    "\"\"\"\n",
    "\n",
    "mycursor.execute(query)\n",
    "\n",
    "for x in mycursor:\n",
    "  print(x)\n",
    "mydb.close()"
   ]
  },
  {
   "cell_type": "markdown",
   "id": "42b8dfbe",
   "metadata": {},
   "source": [
    "## Using HAVING\n",
    "\n"
   ]
  },
  {
   "cell_type": "code",
   "execution_count": 12,
   "id": "3797502b",
   "metadata": {},
   "outputs": [
    {
     "name": "stdout",
     "output_type": "stream",
     "text": [
      "(8, 'Canada')\n",
      "(13, 'USA')\n"
     ]
    }
   ],
   "source": [
    "import mysql.connector\n",
    "from dotenv import dotenv_values\n",
    "\n",
    "config = dotenv_values(\".env\")  # config = {\"USER\": \"foo\", \"EMAIL\": \"foo@example.org\"}\n",
    "\n",
    "mydb = mysql.connector.connect(\n",
    "  host=config['HOST'],\n",
    "  user=config['USER'],\n",
    "  password=config['PASSWORD'],\n",
    "  database=config['DATABASE']\n",
    ")\n",
    "\n",
    "mycursor = mydb.cursor()\n",
    "\n",
    "\"\"\"\n",
    "Lists the number of customers in each country. \n",
    "Only include countries with more than 5 customers\n",
    "\"\"\"\n",
    "\n",
    "query = \"\"\" \n",
    "SELECT COUNT(CustomerID), Country\n",
    "FROM Customer\n",
    "GROUP BY Country\n",
    "HAVING COUNT(CustomerID) > 5;\n",
    "\"\"\"\n",
    "\n",
    "mycursor.execute(query)\n",
    "\n",
    "for x in mycursor:\n",
    "  print(x)\n",
    "mydb.close()"
   ]
  },
  {
   "cell_type": "markdown",
   "id": "2b451cb9",
   "metadata": {},
   "source": [
    "## Using Union"
   ]
  },
  {
   "cell_type": "code",
   "execution_count": 11,
   "id": "da5b70d9",
   "metadata": {},
   "outputs": [
    {
     "name": "stdout",
     "output_type": "stream",
     "text": [
      "('Amsterdam',)\n",
      "('Bangalore',)\n",
      "('Berlin',)\n",
      "('Bordeaux',)\n",
      "('Boston',)\n",
      "('Brasília',)\n",
      "('Brussels',)\n",
      "('Budapest',)\n",
      "('Buenos Aires',)\n",
      "('Calgary',)\n",
      "('Chicago',)\n",
      "('Copenhagen',)\n",
      "('Cupertino',)\n",
      "('Delhi',)\n",
      "('Dijon',)\n",
      "('Dublin',)\n",
      "('Edinburgh ',)\n",
      "('Edmonton',)\n",
      "('Fort Worth',)\n",
      "('Frankfurt',)\n",
      "('Halifax',)\n",
      "('Helsinki',)\n",
      "('Lethbridge',)\n",
      "('Lisbon',)\n",
      "('London',)\n",
      "('Lyon',)\n",
      "('Madison',)\n",
      "('Madrid',)\n",
      "('Montréal',)\n",
      "('Mountain View',)\n",
      "('New York',)\n",
      "('Orlando',)\n",
      "('Oslo',)\n",
      "('Ottawa',)\n",
      "('Paris',)\n",
      "('Porto',)\n",
      "('Prague',)\n",
      "('Redmond',)\n",
      "('Reno',)\n",
      "('Rio de Janeiro',)\n",
      "('Rome',)\n",
      "('Salt Lake City',)\n",
      "('Santiago',)\n",
      "('São José dos Campos',)\n",
      "('São Paulo',)\n",
      "('Sidney',)\n",
      "('Stockholm',)\n",
      "('Stuttgart',)\n",
      "('Toronto',)\n",
      "('Tucson',)\n",
      "('Vancouver',)\n",
      "('Vienne',)\n",
      "('Warsaw',)\n",
      "('Winnipeg',)\n",
      "('Yellowknife',)\n"
     ]
    }
   ],
   "source": [
    "import mysql.connector\n",
    "from dotenv import dotenv_values\n",
    "\n",
    "config = dotenv_values(\".env\")  # config = {\"USER\": \"foo\", \"EMAIL\": \"foo@example.org\"}\n",
    "\n",
    "mydb = mysql.connector.connect(\n",
    "  host=config['HOST'],\n",
    "  user=config['USER'],\n",
    "  password=config['PASSWORD'],\n",
    "  database=config['DATABASE']\n",
    ")\n",
    "\n",
    "mycursor = mydb.cursor()\n",
    "\n",
    "\"\"\"\n",
    "Lists the number of customers in each country. \n",
    "Only include countries with more than 5 customers\n",
    "\"\"\"\n",
    "\n",
    "query = \"\"\" \n",
    "SELECT City FROM Customer\n",
    "UNION\n",
    "SELECT City FROM Employee\n",
    "ORDER BY City\n",
    "\"\"\"\n",
    "\n",
    "mycursor.execute(query)\n",
    "\n",
    "for x in mycursor:\n",
    "  print(x)\n",
    "mydb.close()"
   ]
  },
  {
   "cell_type": "code",
   "execution_count": null,
   "id": "4c1f74e6",
   "metadata": {},
   "outputs": [],
   "source": []
  }
 ],
 "metadata": {
  "kernelspec": {
   "display_name": "Python 3.9.5 64-bit",
   "language": "python",
   "name": "python395jvsc74a57bd0b0fa6594d8f4cbf19f97940f81e996739fb7646882a419484c72d19e05852a7e"
  },
  "language_info": {
   "codemirror_mode": {
    "name": "ipython",
    "version": 3
   },
   "file_extension": ".py",
   "mimetype": "text/x-python",
   "name": "python",
   "nbconvert_exporter": "python",
   "pygments_lexer": "ipython3",
   "version": "3.9.5"
  }
 },
 "nbformat": 4,
 "nbformat_minor": 5
}
