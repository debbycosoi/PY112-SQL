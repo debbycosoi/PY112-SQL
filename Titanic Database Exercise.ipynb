{
 "cells": [
  {
   "cell_type": "markdown",
   "metadata": {},
   "source": [
    "<a href=\"https://codeimmersives.com\"><img src = \"https://www.codeimmersives.com/wp-content/uploads/2019/09/CodeImmersives_Logo_RGB_NYC_BW.png\" width = 400> </a>\n",
    "\n",
    "\n",
    "<h1 align=center><font size = 5>Exercise</font></h1>"
   ]
  },
  {
   "cell_type": "markdown",
   "metadata": {},
   "source": [
    "#### Note: Import data using [Titanic.csv](#)\n",
    "\n"
   ]
  },
  {
   "cell_type": "markdown",
   "metadata": {},
   "source": [
    "\n",
    "\n",
    "### Step 1. Create a db named Titanic.db\n"
   ]
  },
  {
   "cell_type": "code",
   "execution_count": 90,
   "metadata": {},
   "outputs": [],
   "source": [
    "import csv, sqlite3\n",
    "con = sqlite3.connect(\"titanic.db\")\n",
    "cur = con.cursor()"
   ]
  },
  {
   "cell_type": "markdown",
   "metadata": {},
   "source": [
    "###  Step 2. create a table named passengers that has three fields (Passengerid TEXT, Name TEXT, Age TEXT)"
   ]
  },
  {
   "cell_type": "code",
   "execution_count": 92,
   "metadata": {},
   "outputs": [],
   "source": [
    "# cur.execute(\"\"\"DROP TABLE inventory\"\"\")\n",
    "# cur.execute(\"DROP TABLE passengers\")\n",
    "cur.execute(\"\"\"CREATE TABLE IF NOT EXISTS passengers (\n",
    "    PassengerId TEXT,\n",
    "    Name TEXT,\n",
    "    Age TEXT,\n",
    "    PRIMARY KEY(PassengerId))\n",
    "\"\"\")\n",
    "con.commit()"
   ]
  },
  {
   "cell_type": "markdown",
   "metadata": {},
   "source": [
    "### Step 3. Read data from titanic.csv ( passengerid, name, age ) and insert into passengers table you created\n"
   ]
  },
  {
   "cell_type": "code",
   "execution_count": 93,
   "metadata": {
    "tags": []
   },
   "outputs": [],
   "source": [
    "allPassengers = []\n",
    "with open('Titanic.csv','r') as fin:\n",
    "    dr = csv.DictReader(fin)\n",
    "    for row in dr:\n",
    "        allPassengers.append((row[\"PassengerId\"], row[\"Name\"], row[\"Age\"]))\n",
    "\n",
    "cur.executemany(\"\"\"INSERT INTO passengers(PassengerId, Name, Age) VALUES (?,?,?)\"\"\", \n",
    "allPassengers)\n",
    "\n",
    "cur = con.cursor()\n",
    "cur.execute('SELECT * FROM passengers')\n",
    "data = cur.fetchall()\n",
    "print(data)\n",
    "\n",
    "con.commit()\n",
    "con.close()"
   ]
  },
  {
   "cell_type": "code",
   "execution_count": 95,
   "metadata": {
    "tags": [
     "outputPrepend"
    ]
   },
   "outputs": [
    {
     "output_type": "stream",
     "name": "stdout",
     "text": [
      ", Major. Arthur Godfrey', '52'), ('451', 'West, Mr. Edwy Arthur', '36'), ('452', 'Hagland, Mr. Ingvald Olai Olsen', ''), ('453', 'Foreman, Mr. Benjamin Laventall', '30'), ('454', 'Goldenberg, Mr. Samuel L', '49'), ('455', 'Peduzzi, Mr. Joseph', ''), ('456', 'Jalsevac, Mr. Ivan', '29'), ('457', 'Millet, Mr. Francis Davis', '65'), ('458', 'Kenyon, Mrs. Frederick R (Marion)', ''), ('459', 'Toomey, Miss. Ellen', '50'), ('460', \"O'Connor, Mr. Maurice\", ''), ('461', 'Anderson, Mr. Harry', '48'), ('462', 'Morley, Mr. William', '34'), ('463', 'Gee, Mr. Arthur H', '47'), ('464', 'Milling, Mr. Jacob Christian', '48'), ('465', 'Maisner, Mr. Simon', ''), ('466', 'Goncalves, Mr. Manuel Estanslas', '38'), ('467', 'Campbell, Mr. William', ''), ('468', 'Smart, Mr. John Montgomery', '56'), ('469', 'Scanlan, Mr. James', ''), ('470', 'Baclini, Miss. Helene Barbara', '0.75'), ('471', 'Keefe, Mr. Arthur', ''), ('472', 'Cacic, Mr. Luka', '38'), ('473', 'West, Mrs. Edwy Arthur (Ada Mary Worth)', '33'), ('474', 'Jerwan, Mrs. Amin S (Marie Marthe Thuillard)', '23'), ('475', 'Strandberg, Miss. Ida Sofia', '22'), ('476', 'Clifford, Mr. George Quincy', ''), ('477', 'Renouf, Mr. Peter Henry', '34'), ('478', 'Braund, Mr. Lewis Richard', '29'), ('479', 'Karlsson, Mr. Nils August', '22'), ('480', 'Hirvonen, Miss. Hildur E', '2'), ('481', 'Goodwin, Master. Harold Victor', '9'), ('482', 'Frost, Mr. Anthony Wood \"Archie\"', ''), ('483', 'Rouse, Mr. Richard Henry', '50'), ('484', 'Turkula, Mrs. (Hedwig)', '63'), ('485', 'Bishop, Mr. Dickinson H', '25'), ('486', 'Lefebre, Miss. Jeannie', ''), ('487', 'Hoyt, Mrs. Frederick Maxfield (Jane Anne Forby)', '35'), ('488', 'Kent, Mr. Edward Austin', '58'), ('489', 'Somerton, Mr. Francis William', '30'), ('490', 'Coutts, Master. Eden Leslie \"Neville\"', '9'), ('491', 'Hagland, Mr. Konrad Mathias Reiersen', ''), ('492', 'Windelov, Mr. Einar', '21'), ('493', 'Molson, Mr. Harry Markland', '55'), ('494', 'Artagaveytia, Mr. Ramon', '71'), ('495', 'Stanley, Mr. Edward Roland', '21'), ('496', 'Yousseff, Mr. Gerious', ''), ('497', 'Eustis, Miss. Elizabeth Mussey', '54'), ('498', 'Shellard, Mr. Frederick William', ''), ('499', 'Allison, Mrs. Hudson J C (Bessie Waldo Daniels)', '25'), ('500', 'Svensson, Mr. Olof', '24'), ('501', 'Calic, Mr. Petar', '17'), ('502', 'Canavan, Miss. Mary', '21'), ('503', \"O'Sullivan, Miss. Bridget Mary\", ''), ('504', 'Laitinen, Miss. Kristina Sofia', '37'), ('505', 'Maioni, Miss. Roberta', '16'), ('506', 'Penasco y Castellana, Mr. Victor de Satode', '18'), ('507', 'Quick, Mrs. Frederick Charles (Jane Richards)', '33'), ('508', 'Bradley, Mr. George (\"George Arthur Brayton\")', ''), ('509', 'Olsen, Mr. Henry Margido', '28'), ('510', 'Lang, Mr. Fang', '26'), ('511', 'Daly, Mr. Eugene Patrick', '29'), ('512', 'Webber, Mr. James', ''), ('513', 'McGough, Mr. James Robert', '36'), ('514', 'Rothschild, Mrs. Martin (Elizabeth L. Barrett)', '54'), ('515', 'Coleff, Mr. Satio', '24'), ('516', 'Walker, Mr. William Anderson', '47'), ('517', 'Lemore, Mrs. (Amelia Milley)', '34'), ('518', 'Ryan, Mr. Patrick', ''), ('519', 'Angle, Mrs. William A (Florence \"Mary\" Agnes Hughes)', '36'), ('520', 'Pavlovic, Mr. Stefo', '32'), ('521', 'Perreault, Miss. Anne', '30'), ('522', 'Vovk, Mr. Janko', '22'), ('523', 'Lahoud, Mr. Sarkis', ''), ('524', 'Hippach, Mrs. Louis Albert (Ida Sophia Fischer)', '44'), ('525', 'Kassem, Mr. Fared', ''), ('526', 'Farrell, Mr. James', '40.5'), ('527', 'Ridsdale, Miss. Lucy', '50'), ('528', 'Farthing, Mr. John', ''), ('529', 'Salonen, Mr. Johan Werner', '39'), ('530', 'Hocking, Mr. Richard George', '23'), ('531', 'Quick, Miss. Phyllis May', '2'), ('532', 'Toufik, Mr. Nakli', ''), ('533', 'Elias, Mr. Joseph Jr', '17'), ('534', 'Peter, Mrs. Catherine (Catherine Rizk)', ''), ('535', 'Cacic, Miss. Marija', '30'), ('536', 'Hart, Miss. Eva Miriam', '7'), ('537', 'Butt, Major. Archibald Willingham', '45'), ('538', 'LeRoy, Miss. Bertha', '30'), ('539', 'Risien, Mr. Samuel Beard', ''), ('540', 'Frolicher, Miss. Hedwig Margaritha', '22'), ('541', 'Crosby, Miss. Harriet R', '36'), ('542', 'Andersson, Miss. Ingeborg Constanzia', '9'), ('543', 'Andersson, Miss. Sigrid Elisabeth', '11'), ('544', 'Beane, Mr. Edward', '32'), ('545', 'Douglas, Mr. Walter Donald', '50'), ('546', 'Nicholson, Mr. Arthur Ernest', '64'), ('547', 'Beane, Mrs. Edward (Ethel Clarke)', '19'), ('548', 'Padro y Manent, Mr. Julian', ''), ('549', 'Goldsmith, Mr. Frank John', '33'), ('550', 'Davies, Master. John Morgan Jr', '8'), ('551', 'Thayer, Mr. John Borland Jr', '17'), ('552', 'Sharp, Mr. Percival James R', '27'), ('553', \"O'Brien, Mr. Timothy\", ''), ('554', 'Leeni, Mr. Fahim (\"Philip Zenni\")', '22'), ('555', 'Ohman, Miss. Velin', '22'), ('556', 'Wright, Mr. George', '62'), ('557', 'Duff Gordon, Lady. (Lucille Christiana Sutherland) (\"Mrs Morgan\")', '48'), ('558', 'Robbins, Mr. Victor', ''), ('559', 'Taussig, Mrs. Emil (Tillie Mandelbaum)', '39'), ('560', 'de Messemaeker, Mrs. Guillaume Joseph (Emma)', '36'), ('561', 'Morrow, Mr. Thomas Rowan', ''), ('562', 'Sivic, Mr. Husein', '40'), ('563', 'Norman, Mr. Robert Douglas', '28'), ('564', 'Simmons, Mr. John', ''), ('565', 'Meanwell, Miss. (Marion Ogden)', ''), ('566', 'Davies, Mr. Alfred J', '24'), ('567', 'Stoytcheff, Mr. Ilia', '19'), ('568', 'Palsson, Mrs. Nils (Alma Cornelia Berglund)', '29'), ('569', 'Doharr, Mr. Tannous', ''), ('570', 'Jonsson, Mr. Carl', '32'), ('571', 'Harris, Mr. George', '62'), ('572', 'Appleton, Mrs. Edward Dale (Charlotte Lamson)', '53'), ('573', 'Flynn, Mr. John Irwin (\"Irving\")', '36'), ('574', 'Kelly, Miss. Mary', ''), ('575', 'Rush, Mr. Alfred George John', '16'), ('576', 'Patchett, Mr. George', '19'), ('577', 'Garside, Miss. Ethel', '34'), ('578', 'Silvey, Mrs. William Baird (Alice Munger)', '39'), ('579', 'Caram, Mrs. Joseph (Maria Elias)', ''), ('580', 'Jussila, Mr. Eiriik', '32'), ('581', 'Christy, Miss. Julie Rachel', '25'), ('582', 'Thayer, Mrs. John Borland (Marian Longstreth Morris)', '39'), ('583', 'Downton, Mr. William James', '54'), ('584', 'Ross, Mr. John Hugo', '36'), ('585', 'Paulner, Mr. Uscher', ''), ('586', 'Taussig, Miss. Ruth', '18'), ('587', 'Jarvis, Mr. John Denzil', '47'), ('588', 'Frolicher-Stehli, Mr. Maxmillian', '60'), ('589', 'Gilinski, Mr. Eliezer', '22'), ('590', 'Murdlin, Mr. Joseph', ''), ('591', 'Rintamaki, Mr. Matti', '35'), ('592', 'Stephenson, Mrs. Walter Bertram (Martha Eustis)', '52'), ('593', 'Elsbury, Mr. William James', '47'), ('594', 'Bourke, Miss. Mary', ''), ('595', 'Chapman, Mr. John Henry', '37'), ('596', 'Van Impe, Mr. Jean Baptiste', '36'), ('597', 'Leitch, Miss. Jessie Wills', ''), ('598', 'Johnson, Mr. Alfred', '49'), ('599', 'Boulos, Mr. Hanna', ''), ('600', 'Duff Gordon, Sir. Cosmo Edmund (\"Mr Morgan\")', '49'), ('601', 'Jacobsohn, Mrs. Sidney Samuel (Amy Frances Christy)', '24'), ('602', 'Slabenoff, Mr. Petco', ''), ('603', 'Harrington, Mr. Charles H', ''), ('604', 'Torber, Mr. Ernst William', '44'), ('605', 'Homer, Mr. Harry (\"Mr E Haven\")', '35'), ('606', 'Lindell, Mr. Edvard Bengtsson', '36'), ('607', 'Karaic, Mr. Milan', '30'), ('608', 'Daniel, Mr. Robert Williams', '27'), ('609', 'Laroche, Mrs. Joseph (Juliette Marie Louise Lafargue)', '22'), ('610', 'Shutes, Miss. Elizabeth W', '40'), ('611', 'Andersson, Mrs. Anders Johan (Alfrida Konstantia Brogren)', '39'), ('612', 'Jardin, Mr. Jose Neto', ''), ('613', 'Murphy, Miss. Margaret Jane', ''), ('614', 'Horgan, Mr. John', ''), ('615', 'Brocklebank, Mr. William Alfred', '35'), ('616', 'Herman, Miss. Alice', '24'), ('617', 'Danbom, Mr. Ernst Gilbert', '34'), ('618', 'Lobb, Mrs. William Arthur (Cordelia K Stanlick)', '26'), ('619', 'Becker, Miss. Marion Louise', '4'), ('620', 'Gavey, Mr. Lawrence', '26'), ('621', 'Yasbeck, Mr. Antoni', '27'), ('622', 'Kimball, Mr. Edwin Nelson Jr', '42'), ('623', 'Nakid, Mr. Sahid', '20'), ('624', 'Hansen, Mr. Henry Damsgaard', '21'), ('625', 'Bowen, Mr. David John \"Dai\"', '21'), ('626', 'Sutton, Mr. Frederick', '61'), ('627', 'Kirkland, Rev. Charles Leonard', '57'), ('628', 'Longley, Miss. Gretchen Fiske', '21'), ('629', 'Bostandyeff, Mr. Guentcho', '26'), ('630', \"O'Connell, Mr. Patrick D\", ''), ('631', 'Barkworth, Mr. Algernon Henry Wilson', '80'), ('632', 'Lundahl, Mr. Johan Svensson', '51'), ('633', 'Stahelin-Maeglin, Dr. Max', '32'), ('634', 'Parr, Mr. William Henry Marsh', ''), ('635', 'Skoog, Miss. Mabel', '9'), ('636', 'Davis, Miss. Mary', '28'), ('637', 'Leinonen, Mr. Antti Gustaf', '32'), ('638', 'Collyer, Mr. Harvey', '31'), ('639', 'Panula, Mrs. Juha (Maria Emilia Ojala)', '41'), ('640', 'Thorneycroft, Mr. Percival', ''), ('641', 'Jensen, Mr. Hans Peder', '20'), ('642', 'Sagesser, Mlle. Emma', '24'), ('643', 'Skoog, Miss. Margit Elizabeth', '2'), ('644', 'Foo, Mr. Choong', ''), ('645', 'Baclini, Miss. Eugenie', '0.75'), ('646', 'Harper, Mr. Henry Sleeper', '48'), ('647', 'Cor, Mr. Liudevit', '19'), ('648', 'Simonius-Blumer, Col. Oberst Alfons', '56'), ('649', 'Willey, Mr. Edward', ''), ('650', 'Stanley, Miss. Amy Zillah Elsie', '23'), ('651', 'Mitkoff, Mr. Mito', ''), ('652', 'Doling, Miss. Elsie', '18'), ('653', 'Kalvik, Mr. Johannes Halvorsen', '21'), ('654', 'O\\'Leary, Miss. Hanora \"Norah\"', ''), ('655', 'Hegarty, Miss. Hanora \"Nora\"', '18'), ('656', 'Hickman, Mr. Leonard Mark', '24'), ('657', 'Radeff, Mr. Alexander', ''), ('658', 'Bourke, Mrs. John (Catherine)', '32'), ('659', 'Eitemiller, Mr. George Floyd', '23'), ('660', 'Newell, Mr. Arthur Webster', '58'), ('661', 'Frauenthal, Dr. Henry William', '50'), ('662', 'Badt, Mr. Mohamed', '40'), ('663', 'Colley, Mr. Edward Pomeroy', '47'), ('664', 'Coleff, Mr. Peju', '36'), ('665', 'Lindqvist, Mr. Eino William', '20'), ('666', 'Hickman, Mr. Lewis', '32'), ('667', 'Butler, Mr. Reginald Fenton', '25'), ('668', 'Rommetvedt, Mr. Knud Paust', ''), ('669', 'Cook, Mr. Jacob', '43'), ('670', 'Taylor, Mrs. Elmer Zebley (Juliet Cummins Wright)', ''), ('671', 'Brown, Mrs. Thomas William Solomon (Elizabeth Catherine Ford)', '40'), ('672', 'Davidson, Mr. Thornton', '31'), ('673', 'Mitchell, Mr. Henry Michael', '70'), ('674', 'Wilhelms, Mr. Charles', '31'), ('675', 'Watson, Mr. Ennis Hastings', ''), ('676', 'Edvardsson, Mr. Gustaf Hjalmar', '18'), ('677', 'Sawyer, Mr. Frederick Charles', '24.5'), ('678', 'Turja, Miss. Anna Sofia', '18'), ('679', 'Goodwin, Mrs. Frederick (Augusta Tyler)', '43'), ('680', 'Cardeza, Mr. Thomas Drake Martinez', '36'), ('681', 'Peters, Miss. Katie', ''), ('682', 'Hassab, Mr. Hammad', '27'), ('683', 'Olsvigen, Mr. Thor Anderson', '20'), ('684', 'Goodwin, Mr. Charles Edward', '14'), ('685', 'Brown, Mr. Thomas William Solomon', '60'), ('686', 'Laroche, Mr. Joseph Philippe Lemercier', '25'), ('687', 'Panula, Mr. Jaako Arnold', '14'), ('688', 'Dakic, Mr. Branko', '19'), ('689', 'Fischer, Mr. Eberhard Thelander', '18'), ('690', 'Madill, Miss. Georgette Alexandra', '15'), ('691', 'Dick, Mr. Albert Adrian', '31'), ('692', 'Karun, Miss. Manca', '4'), ('693', 'Lam, Mr. Ali', ''), ('694', 'Saad, Mr. Khalil', '25'), ('695', 'Weir, Col. John', '60'), ('696', 'Chapman, Mr. Charles Henry', '52'), ('697', 'Kelly, Mr. James', '44'), ('698', 'Mullens, Miss. Katherine \"Katie\"', ''), ('699', 'Thayer, Mr. John Borland', '49'), ('700', 'Humblen, Mr. Adolf Mathias Nicolai Olsen', '42'), ('701', 'Astor, Mrs. John Jacob (Madeleine Talmadge Force)', '18'), ('702', 'Silverthorne, Mr. Spencer Victor', '35'), ('703', 'Barbara, Miss. Saiide', '18'), ('704', 'Gallagher, Mr. Martin', '25'), ('705', 'Hansen, Mr. Henrik Juul', '26'), ('706', 'Morley, Mr. Henry Samuel (\"Mr Henry Marshall\")', '39'), ('707', 'Kelly, Mrs. Florence \"Fannie\"', '45'), ('708', 'Calderhead, Mr. Edward Pennington', '42'), ('709', 'Cleaver, Miss. Alice', '22'), ('710', 'Moubarek, Master. Halim Gonios (\"William George\")', ''), ('711', 'Mayne, Mlle. Berthe Antonine (\"Mrs de Villiers\")', '24'), ('712', 'Klaber, Mr. Herman', ''), ('713', 'Taylor, Mr. Elmer Zebley', '48'), ('714', 'Larsson, Mr. August Viktor', '29'), ('715', 'Greenberg, Mr. Samuel', '52'), ('716', 'Soholt, Mr. Peter Andreas Lauritz Andersen', '19'), ('717', 'Endres, Miss. Caroline Louise', '38'), ('718', 'Troutt, Miss. Edwina Celia \"Winnie\"', '27'), ('719', 'McEvoy, Mr. Michael', ''), ('720', 'Johnson, Mr. Malkolm Joackim', '33'), ('721', 'Harper, Miss. Annie Jessie \"Nina\"', '6'), ('722', 'Jensen, Mr. Svend Lauritz', '17'), ('723', 'Gillespie, Mr. William Henry', '34'), ('724', 'Hodges, Mr. Henry Price', '50'), ('725', 'Chambers, Mr. Norman Campbell', '27'), ('726', 'Oreskovic, Mr. Luka', '20'), ('727', 'Renouf, Mrs. Peter Henry (Lillian Jefferys)', '30'), ('728', 'Mannion, Miss. Margareth', ''), ('729', 'Bryhl, Mr. Kurt Arnold Gottfrid', '25'), ('730', 'Ilmakangas, Miss. Pieta Sofia', '25'), ('731', 'Allen, Miss. Elisabeth Walton', '29'), ('732', 'Hassan, Mr. Houssein G N', '11'), ('733', 'Knight, Mr. Robert J', ''), ('734', 'Berriman, Mr. William John', '23'), ('735', 'Troupiansky, Mr. Moses Aaron', '23'), ('736', 'Williams, Mr. Leslie', '28.5'), ('737', 'Ford, Mrs. Edward (Margaret Ann Watson)', '48'), ('738', 'Lesurer, Mr. Gustave J', '35'), ('739', 'Ivanoff, Mr. Kanio', ''), ('740', 'Nankoff, Mr. Minko', ''), ('741', 'Hawksford, Mr. Walter James', ''), ('742', 'Cavendish, Mr. Tyrell William', '36'), ('743', 'Ryerson, Miss. Susan Parker \"Suzette\"', '21'), ('744', 'McNamee, Mr. Neal', '24'), ('745', 'Stranden, Mr. Juho', '31'), ('746', 'Crosby, Capt. Edward Gifford', '70'), ('747', 'Abbott, Mr. Rossmore Edward', '16'), ('748', 'Sinkkonen, Miss. Anna', '30'), ('749', 'Marvin, Mr. Daniel Warner', '19'), ('750', 'Connaghton, Mr. Michael', '31'), ('751', 'Wells, Miss. Joan', '4'), ('752', 'Moor, Master. Meier', '6'), ('753', 'Vande Velde, Mr. Johannes Joseph', '33'), ('754', 'Jonkoff, Mr. Lalio', '23'), ('755', 'Herman, Mrs. Samuel (Jane Laver)', '48'), ('756', 'Hamalainen, Master. Viljo', '0.67'), ('757', 'Carlsson, Mr. August Sigfrid', '28'), ('758', 'Bailey, Mr. Percy Andrew', '18'), ('759', 'Theobald, Mr. Thomas Leonard', '34'), ('760', 'Rothes, the Countess. of (Lucy Noel Martha Dyer-Edwards)', '33'), ('761', 'Garfirth, Mr. John', ''), ('762', 'Nirva, Mr. Iisakki Antino Aijo', '41'), ('763', 'Barah, Mr. Hanna Assi', '20'), ('764', 'Carter, Mrs. William Ernest (Lucile Polk)', '36'), ('765', 'Eklund, Mr. Hans Linus', '16'), ('766', 'Hogeboom, Mrs. John C (Anna Andrews)', '51'), ('767', 'Brewe, Dr. Arthur Jackson', ''), ('768', 'Mangan, Miss. Mary', '30.5'), ('769', 'Moran, Mr. Daniel J', ''), ('770', 'Gronnestad, Mr. Daniel Danielsen', '32'), ('771', 'Lievens, Mr. Rene Aime', '24'), ('772', 'Jensen, Mr. Niels Peder', '48'), ('773', 'Mack, Mrs. (Mary)', '57'), ('774', 'Elias, Mr. Dibo', ''), ('775', 'Hocking, Mrs. Elizabeth (Eliza Needs)', '54'), ('776', 'Myhrman, Mr. Pehr Fabian Oliver Malkolm', '18'), ('777', 'Tobin, Mr. Roger', ''), ('778', 'Emanuel, Miss. Virginia Ethel', '5'), ('779', 'Kilgannon, Mr. Thomas J', ''), ('780', 'Robert, Mrs. Edward Scott (Elisabeth Walton McMillan)', '43'), ('781', 'Ayoub, Miss. Banoura', '13'), ('782', 'Dick, Mrs. Albert Adrian (Vera Gillespie)', '17'), ('783', 'Long, Mr. Milton Clyde', '29'), ('784', 'Johnston, Mr. Andrew G', ''), ('785', 'Ali, Mr. William', '25'), ('786', 'Harmer, Mr. Abraham (David Lishin)', '25'), ('787', 'Sjoblom, Miss. Anna Sofia', '18'), ('788', 'Rice, Master. George Hugh', '8'), ('789', 'Dean, Master. Bertram Vere', '1'), ('790', 'Guggenheim, Mr. Benjamin', '46'), ('791', 'Keane, Mr. Andrew \"Andy\"', ''), ('792', 'Gaskell, Mr. Alfred', '16'), ('793', 'Sage, Miss. Stella Anna', ''), ('794', 'Hoyt, Mr. William Fisher', ''), ('795', 'Dantcheff, Mr. Ristiu', '25'), ('796', 'Otter, Mr. Richard', '39'), ('797', 'Leader, Dr. Alice (Farnham)', '49'), ('798', 'Osman, Mrs. Mara', '31'), ('799', 'Ibrahim Shawah, Mr. Yousseff', '30'), ('800', 'Van Impe, Mrs. Jean Baptiste (Rosalie Paula Govaert)', '30'), ('801', 'Ponesell, Mr. Martin', '34'), ('802', 'Collyer, Mrs. Harvey (Charlotte Annie Tate)', '31'), ('803', 'Carter, Master. William Thornton II', '11'), ('804', 'Thomas, Master. Assad Alexander', '0.42'), ('805', 'Hedman, Mr. Oskar Arvid', '27'), ('806', 'Johansson, Mr. Karl Johan', '31'), ('807', 'Andrews, Mr. Thomas Jr', '39'), ('808', 'Pettersson, Miss. Ellen Natalia', '18'), ('809', 'Meyer, Mr. August', '39'), ('810', 'Chambers, Mrs. Norman Campbell (Bertha Griggs)', '33'), ('811', 'Alexander, Mr. William', '26'), ('812', 'Lester, Mr. James', '39'), ('813', 'Slemen, Mr. Richard James', '35'), ('814', 'Andersson, Miss. Ebba Iris Alfrida', '6'), ('815', 'Tomlin, Mr. Ernest Portage', '30.5'), ('816', 'Fry, Mr. Richard', ''), ('817', 'Heininen, Miss. Wendla Maria', '23'), ('818', 'Mallet, Mr. Albert', '31'), ('819', 'Holm, Mr. John Fredrik Alexander', '43'), ('820', 'Skoog, Master. Karl Thorsten', '10'), ('821', 'Hays, Mrs. Charles Melville (Clara Jennings Gregg)', '52'), ('822', 'Lulic, Mr. Nikola', '27'), ('823', 'Reuchlin, Jonkheer. John George', '38'), ('824', 'Moor, Mrs. (Beila)', '27'), ('825', 'Panula, Master. Urho Abraham', '2'), ('826', 'Flynn, Mr. John', ''), ('827', 'Lam, Mr. Len', ''), ('828', 'Mallet, Master. Andre', '1'), ('829', 'McCormack, Mr. Thomas Joseph', ''), ('830', 'Stone, Mrs. George Nelson (Martha Evelyn)', '62'), ('831', 'Yasbeck, Mrs. Antoni (Selini Alexander)', '15'), ('832', 'Richards, Master. George Sibley', '0.83'), ('833', 'Saad, Mr. Amin', ''), ('834', 'Augustsson, Mr. Albert', '23'), ('835', 'Allum, Mr. Owen George', '18'), ('836', 'Compton, Miss. Sara Rebecca', '39'), ('837', 'Pasic, Mr. Jakob', '21'), ('838', 'Sirota, Mr. Maurice', ''), ('839', 'Chip, Mr. Chang', '32'), ('840', 'Marechal, Mr. Pierre', ''), ('841', 'Alhomaki, Mr. Ilmari Rudolf', '20'), ('842', 'Mudd, Mr. Thomas Charles', '16'), ('843', 'Serepeca, Miss. Augusta', '30'), ('844', 'Lemberopolous, Mr. Peter L', '34.5'), ('845', 'Culumovic, Mr. Jeso', '17'), ('846', 'Abbing, Mr. Anthony', '42'), ('847', 'Sage, Mr. Douglas Bullen', ''), ('848', 'Markoff, Mr. Marin', '35'), ('849', 'Harper, Rev. John', '28'), ('850', 'Goldenberg, Mrs. Samuel L (Edwiga Grabowska)', ''), ('851', 'Andersson, Master. Sigvard Harald Elias', '4'), ('852', 'Svensson, Mr. Johan', '74'), ('853', 'Boulos, Miss. Nourelain', '9'), ('854', 'Lines, Miss. Mary Conover', '16'), ('855', 'Carter, Mrs. Ernest Courtenay (Lilian Hughes)', '44'), ('856', 'Aks, Mrs. Sam (Leah Rosen)', '18'), ('857', 'Wick, Mrs. George Dennick (Mary Hitchcock)', '45'), ('858', 'Daly, Mr. Peter Denis ', '51'), ('859', 'Baclini, Mrs. Solomon (Latifa Qurban)', '24'), ('860', 'Razi, Mr. Raihed', ''), ('861', 'Hansen, Mr. Claus Peter', '41'), ('862', 'Giles, Mr. Frederick Edward', '21'), ('863', 'Swift, Mrs. Frederick Joel (Margaret Welles Barron)', '48'), ('864', 'Sage, Miss. Dorothy Edith \"Dolly\"', ''), ('865', 'Gill, Mr. John William', '24'), ('866', 'Bystrom, Mrs. (Karolina)', '42'), ('867', 'Duran y More, Miss. Asuncion', '27'), ('868', 'Roebling, Mr. Washington Augustus II', '31'), ('869', 'van Melkebeke, Mr. Philemon', ''), ('870', 'Johnson, Master. Harold Theodor', '4'), ('871', 'Balkic, Mr. Cerin', '26'), ('872', 'Beckwith, Mrs. Richard Leonard (Sallie Monypeny)', '47'), ('873', 'Carlsson, Mr. Frans Olof', '33'), ('874', 'Vander Cruyssen, Mr. Victor', '47'), ('875', 'Abelson, Mrs. Samuel (Hannah Wizosky)', '28'), ('876', 'Najib, Miss. Adele Kiamie \"Jane\"', '15'), ('877', 'Gustafsson, Mr. Alfred Ossian', '20'), ('878', 'Petroff, Mr. Nedelio', '19'), ('879', 'Laleff, Mr. Kristo', ''), ('880', 'Potter, Mrs. Thomas Jr (Lily Alexenia Wilson)', '56'), ('881', 'Shelley, Mrs. William (Imanita Parrish Hall)', '25'), ('882', 'Markun, Mr. Johann', '33'), ('883', 'Dahlberg, Miss. Gerda Ulrika', '22'), ('884', 'Banfield, Mr. Frederick James', '28'), ('885', 'Sutehall, Mr. Henry Jr', '25'), ('886', 'Rice, Mrs. William (Margaret Norton)', '39'), ('887', 'Montvila, Rev. Juozas', '27'), ('888', 'Graham, Miss. Margaret Edith', '19'), ('889', 'Johnston, Miss. Catherine Helen \"Carrie\"', ''), ('890', 'Behr, Mr. Karl Howell', '26'), ('891', 'Dooley, Mr. Patrick', '32')]\n"
     ]
    }
   ],
   "source": [
    "con = sqlite3.connect(\"titanic.db\")\n",
    "cur = con.cursor()\n",
    "cur.execute('SELECT * FROM passengers')\n",
    "data = cur.fetchall()\n",
    "print(data)"
   ]
  },
  {
   "cell_type": "markdown",
   "metadata": {},
   "source": [
    "### Step 4: Find Moran, Mr. James and UPDATE his age to \"50\""
   ]
  },
  {
   "cell_type": "code",
   "execution_count": 83,
   "metadata": {},
   "outputs": [
    {
     "output_type": "stream",
     "name": "stdout",
     "text": [
      "[('6', 'Moran, Mr. James', '50')]\n"
     ]
    }
   ],
   "source": [
    "# import sqlite3\n",
    "# import os \n",
    "\n",
    "# print(os.getcwd())\n",
    "# os.chdir(r'/Users/debbycosoi/Desktop/Code Immersives/SQL NoSQL/PY112-SQL')  \n",
    "# print(os.getcwd()) \n",
    "\n",
    "conn = sqlite3.connect('titanic.db')\n",
    "c = conn.cursor()\n",
    "\n",
    "c.execute('SELECT * FROM passengers WHERE Name = \"Moran, Mr. James\" ')\n",
    "passengers = c.fetchall()\n",
    "\n",
    "print(passengers)\n",
    "\n",
    "conn.commit()\n",
    "conn.close()\n",
    "\n"
   ]
  },
  {
   "cell_type": "code",
   "execution_count": 111,
   "metadata": {},
   "outputs": [
    {
     "output_type": "stream",
     "name": "stdout",
     "text": [
      "('6', 'Moran, Mr. James', '50')\n==============================\n"
     ]
    }
   ],
   "source": [
    "conn = sqlite3.connect('titanic.db')\n",
    "c = conn.cursor()\n",
    "\n",
    "c.execute('''UPDATE passengers SET \n",
    "Age = \"50\"\n",
    "WHERE passengerid = \"6\" ''') \n",
    "conn.commit()\n",
    "c.execute('''SELECT * FROM passengers WHERE Name = \"Moran, Mr. James\" ''') \n",
    "passengers = c.fetchall()\n",
    "\n",
    "for passenger in passengers:\n",
    "    print(passenger)\n",
    "    print('='*30)\n",
    "conn.close()\n",
    "\n"
   ]
  },
  {
   "cell_type": "markdown",
   "metadata": {},
   "source": [
    "### Step 5: Delete the row containing \"Sjostedt, Mr. Ernst Adolf\""
   ]
  },
  {
   "cell_type": "code",
   "execution_count": 110,
   "metadata": {},
   "outputs": [
    {
     "output_type": "stream",
     "name": "stdout",
     "text": [
      "Record deleted successfully \n"
     ]
    }
   ],
   "source": [
    "conn = sqlite3.connect('titanic.db')\n",
    "c = conn.cursor()\n",
    "\n",
    " # Deleting single record now\n",
    "sql_delete_query = \"\"\"DELETE from passengers WHERE Name = \"Sjostedt, Mr. Ernst Adolf\" \"\"\"\n",
    "c.execute(sql_delete_query)\n",
    "conn.commit()\n",
    "conn.close()\n",
    "print(\"Record deleted successfully \")"
   ]
  },
  {
   "cell_type": "markdown",
   "metadata": {},
   "source": [
    "### (Bonus) : Calculate the average age of all the passengers "
   ]
  },
  {
   "cell_type": "code",
   "execution_count": 113,
   "metadata": {
    "tags": []
   },
   "outputs": [
    {
     "output_type": "stream",
     "name": "stdout",
     "text": [
      "23.815921348314603\n"
     ]
    }
   ],
   "source": [
    "import statistics\n",
    "\n",
    "conn = sqlite3.connect('titanic.db')\n",
    "c = conn.cursor()\n",
    "\n",
    "c.execute(\"\"\"SELECT Age FROM passengers\"\"\")\n",
    "data = c.fetchall()\n",
    "total = 0\n",
    "for i in data:\n",
    "    if (i[0] != \"\"):\n",
    "        total = total + float(i[0])\n",
    "avg = total / len(data)\n",
    "print(avg)\n"
   ]
  },
  {
   "cell_type": "code",
   "execution_count": null,
   "metadata": {},
   "outputs": [],
   "source": []
  }
 ],
 "metadata": {
  "kernelspec": {
   "name": "python3",
   "display_name": "Python 3.9.5 64-bit"
  },
  "language_info": {
   "codemirror_mode": {
    "name": "ipython",
    "version": 3
   },
   "file_extension": ".py",
   "mimetype": "text/x-python",
   "name": "python",
   "nbconvert_exporter": "python",
   "pygments_lexer": "ipython3",
   "version": "3.9.5"
  },
  "interpreter": {
   "hash": "b0fa6594d8f4cbf19f97940f81e996739fb7646882a419484c72d19e05852a7e"
  }
 },
 "nbformat": 4,
 "nbformat_minor": 4
}