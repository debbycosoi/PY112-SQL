{
 "cells": [
  {
   "cell_type": "markdown",
   "metadata": {},
   "source": [
    "<a href=\"https://codeimmersives.com\"><img src = \"https://www.codeimmersives.com/wp-content/uploads/2019/09/CodeImmersives_Logo_RGB_NYC_BW.png\" width = 400> </a>\n",
    "\n",
    "\n",
    "<h1 align=center><font size = 5>Agenda</font></h1>"
   ]
  },
  {
   "cell_type": "markdown",
   "metadata": {},
   "source": [
    "### Agenda\n",
    "<div class=\"alert alert-block alert-info\" style=\"margin-top: 20px\">\n",
    "\n",
    "1.  [Review](#0)<br>\n",
    "2.  [memory]\n",
    "3.  [SELECT DISTINCT](#2)<br>\n",
    "4.  [COUNT](#4) <br>\n",
    "5.  [ALTER TABLE](#6) <br>     \n",
    "6.  [MIN and CAST](#8) <br> \n",
    "7.  [MAX](#10) <br>\n",
    "8.  [AVG](#12) <br>\n",
    "9.  [SUM](#12) <br>\n",
    "10. [Exercise 1](#14) <br>    \n",
    "11. [Exercise 2](#16) <br>\n",
    "12. [Exercise 3](#18) <br>\n",
    "    \n",
    "</div>\n",
    "<hr>"
   ]
  },
  {
   "cell_type": "code",
   "execution_count": null,
   "metadata": {},
   "outputs": [],
   "source": []
  },
  {
   "cell_type": "code",
   "execution_count": null,
   "metadata": {},
   "outputs": [],
   "source": [
    "con = sqlite3.connect(\":memory:\")"
   ]
  },
  {
   "cell_type": "markdown",
   "metadata": {},
   "source": [
    "<h4>Back up the database</h4>"
   ]
  },
  {
   "cell_type": "code",
   "execution_count": 6,
   "metadata": {},
   "outputs": [
    {
     "output_type": "stream",
     "name": "stdout",
     "text": [
      "Copied 1 of 15 pages...\nCopied 2 of 15 pages...\nCopied 3 of 15 pages...\nCopied 4 of 15 pages...\nCopied 5 of 15 pages...\nCopied 6 of 15 pages...\nCopied 7 of 15 pages...\nCopied 8 of 15 pages...\nCopied 9 of 15 pages...\nCopied 10 of 15 pages...\nCopied 11 of 15 pages...\nCopied 12 of 15 pages...\nCopied 13 of 15 pages...\nCopied 14 of 15 pages...\nCopied 15 of 15 pages...\n"
     ]
    }
   ],
   "source": [
    "import sqlite3\n",
    "\n",
    "def progress(status, remaining, total):\n",
    "    print(f'Copied {total-remaining} of {total} pages...')\n",
    "\n",
    "conn = sqlite3.connect('titanic.db')\n",
    "bck = sqlite3.connect('backup.db')\n",
    "with bck:\n",
    "    conn.backup(bck, pages=1, progress=progress)\n",
    "bck.close()\n",
    "conn.close()"
   ]
  },
  {
   "cell_type": "markdown",
   "metadata": {},
   "source": [
    "<h4>Copy a database to memory</h4>"
   ]
  },
  {
   "cell_type": "code",
   "execution_count": 83,
   "metadata": {},
   "outputs": [],
   "source": [
    "import sqlite3\n",
    "\n",
    "source = sqlite3.connect('existing_db.db')\n",
    "dest = sqlite3.connect(':memory:')\n",
    "source.backup(dest)"
   ]
  },
  {
   "cell_type": "markdown",
   "metadata": {},
   "source": [
    "<h4>Use executescript(sql) to run several scripts at once</h4> "
   ]
  },
  {
   "cell_type": "code",
   "execution_count": 7,
   "metadata": {},
   "outputs": [
    {
     "output_type": "stream",
     "name": "stdout",
     "text": [
      "(\"Dirk Gently's Holistic Detective Agency\", 'Douglas Adams', 1987)\nDirk Gently's Holistic Detective Agency\nDouglas Adams\n1987\n"
     ]
    }
   ],
   "source": [
    "import sqlite3\n",
    "\n",
    "conn = sqlite3.connect(\":memory:\")\n",
    "c = conn.cursor()\n",
    "c.executescript('''\n",
    "    create table person(\n",
    "        firstname,\n",
    "        lastname,\n",
    "        age\n",
    "    );\n",
    "\n",
    "    create table book(\n",
    "        title,\n",
    "        author,\n",
    "        published\n",
    "    );\n",
    "\n",
    "    insert into book(title, author, published)\n",
    "    values (\n",
    "        'Dirk Gently''s Holistic Detective Agency',\n",
    "        'Douglas Adams',\n",
    "        1987\n",
    "    );\n",
    " ''')\n",
    "conn.commit()\n",
    "c.close()   # <=== cursor is closed\n",
    "# conn.row_factory = sqlite3.Row\n",
    "c = conn.cursor()\n",
    "c.execute('select * from book')\n",
    "r = c.fetchone()\n",
    "print(r)\n",
    "for member in r:\n",
    "    print(member)"
   ]
  },
  {
   "cell_type": "markdown",
   "metadata": {},
   "source": [
    "<h4>Exercise<br>\n",
    "Create a database called Library.db<br>\n",
    "Create a table named 'Books' it has 3 fields (id TEXT, Title TEXT and Author TEXT)<br>\n",
    "id, Title, Author<br>\n",
    "001, Outliers, Malcolm Gladwell<br>\n",
    "002, Humble Pie, Matt Parker<br>\n",
    "003, 52 Small Changes, Brett Blumenthal<br>\n",
    "004, Blink, Malcolm Gladwell<br>\n",
    "005, The Tipping Point, Malcolm Gladwell<br>\n",
    "006, All the Powers of Earth, Sidney Blumenthal\n",
    "\n",
    "\n",
    "</h4>"
   ]
  },
  {
   "cell_type": "code",
   "execution_count": 85,
   "metadata": {},
   "outputs": [
    {
     "output_type": "error",
     "ename": "IntegrityError",
     "evalue": "UNIQUE constraint failed: books.id",
     "traceback": [
      "\u001b[0;31m---------------------------------------------------------------------------\u001b[0m",
      "\u001b[0;31mIntegrityError\u001b[0m                            Traceback (most recent call last)",
      "\u001b[0;32m<ipython-input-85-ac9bc30fed40>\u001b[0m in \u001b[0;36m<module>\u001b[0;34m\u001b[0m\n\u001b[1;32m     18\u001b[0m     \u001b[0;34m(\u001b[0m\u001b[0;34m\"006\"\u001b[0m\u001b[0;34m,\u001b[0m \u001b[0;34m\"All the Powers of Earth\"\u001b[0m\u001b[0;34m,\u001b[0m \u001b[0;34m\"Sidney Blumenthal\"\u001b[0m\u001b[0;34m)\u001b[0m\u001b[0;34m,\u001b[0m\u001b[0;34m\u001b[0m\u001b[0;34m\u001b[0m\u001b[0m\n\u001b[1;32m     19\u001b[0m ]\n\u001b[0;32m---> 20\u001b[0;31m \u001b[0mc\u001b[0m\u001b[0;34m.\u001b[0m\u001b[0mexecutemany\u001b[0m\u001b[0;34m(\u001b[0m\u001b[0;34m\"\"\"INSERT INTO books VALUES (?,?,?)\"\"\"\u001b[0m\u001b[0;34m,\u001b[0m \u001b[0mall_books\u001b[0m\u001b[0;34m)\u001b[0m\u001b[0;34m\u001b[0m\u001b[0;34m\u001b[0m\u001b[0m\n\u001b[0m\u001b[1;32m     21\u001b[0m \u001b[0mconn\u001b[0m\u001b[0;34m.\u001b[0m\u001b[0mcommit\u001b[0m\u001b[0;34m(\u001b[0m\u001b[0;34m)\u001b[0m\u001b[0;34m\u001b[0m\u001b[0;34m\u001b[0m\u001b[0m\n\u001b[1;32m     22\u001b[0m \u001b[0mconn\u001b[0m\u001b[0;34m.\u001b[0m\u001b[0mclose\u001b[0m\u001b[0;34m(\u001b[0m\u001b[0;34m)\u001b[0m\u001b[0;34m\u001b[0m\u001b[0;34m\u001b[0m\u001b[0m\n",
      "\u001b[0;31mIntegrityError\u001b[0m: UNIQUE constraint failed: books.id"
     ]
    }
   ],
   "source": [
    "import sqlite3\n",
    "conn = sqlite3.connect(\"Library.db\")\n",
    "c = conn.cursor()\n",
    "\n",
    "c.execute(\"\"\"CREATE TABLE IF NOT EXISTS books(\n",
    "    id TEXT,\n",
    "    Title TEXT,\n",
    "    Author TEXT,\n",
    "    Primary Key(id))\n",
    "\"\"\")\n",
    "\n",
    "all_books = [\n",
    "    (\"001\", \"Outliers\", \"Malcolm Gladwell\"),\n",
    "    (\"002\", \"Humble Pie\", \"Matt Parker\"),\n",
    "    (\"003\", \"52 Small Changes\", \"Brett Blumenthal\"),\n",
    "    (\"004\", \"Blink\", \"Malcolm Gladwell\"),\n",
    "    (\"005\", \"The Tipping Point\", \"Malcolm Gladwell\"),\n",
    "    (\"006\", \"All the Powers of Earth\", \"Sidney Blumenthal\"),\n",
    "]\n",
    "c.executemany(\"\"\"INSERT INTO books VALUES (?,?,?)\"\"\", all_books)\n",
    "conn.commit()\n",
    "conn.close()\n",
    "\n",
    "\n",
    "\n"
   ]
  },
  {
   "cell_type": "code",
   "execution_count": 86,
   "metadata": {},
   "outputs": [
    {
     "output_type": "stream",
     "name": "stdout",
     "text": [
      "[('001', 'Outliers', 'Malcolm Gladwell'), ('002', 'Humble Pie', 'Matt Parker'), ('003', '52 Small Changes', 'Brett Blumenthal'), ('004', 'Blink', 'Malcolm Gladwell'), ('005', 'The Tipping Point', 'Malcolm Gladwell'), ('006', 'All the Powers of Earth', 'Sidney Blumenthal')]\n"
     ]
    }
   ],
   "source": [
    "conn = sqlite3.connect('Library.db')\n",
    "c = conn.cursor()\n",
    "\n",
    "c.execute('SELECT * FROM books')\n",
    "data = c.fetchall()\n",
    "print(data)\n",
    "\n",
    "conn.commit()\n",
    "conn.close()\n"
   ]
  },
  {
   "cell_type": "markdown",
   "metadata": {},
   "source": [
    "<h4>Every time you run the code the inserts are repeated<br>\n",
    "To get a unduplicated list of the book use:<br>\n",
    "SELECT DISTINCT id,title,author FROM books"
   ]
  },
  {
   "cell_type": "code",
   "execution_count": 87,
   "metadata": {},
   "outputs": [
    {
     "output_type": "stream",
     "name": "stdout",
     "text": [
      "('001', 'Outliers', 'Malcolm Gladwell')\n==============================\n('002', 'Humble Pie', 'Matt Parker')\n==============================\n('003', '52 Small Changes', 'Brett Blumenthal')\n==============================\n('004', 'Blink', 'Malcolm Gladwell')\n==============================\n('005', 'The Tipping Point', 'Malcolm Gladwell')\n==============================\n('006', 'All the Powers of Earth', 'Sidney Blumenthal')\n==============================\n"
     ]
    }
   ],
   "source": [
    "conn = sqlite3.connect('Library.db')\n",
    "c = conn.cursor()\n",
    "c.execute(\"SELECT DISTINCT id, title, author FROM books\")\n",
    "books = c.fetchall()\n",
    "\n",
    "for i in books:\n",
    "    print(i)\n",
    "    print(30*\"=\")\n",
    "\n",
    "conn.close()\n"
   ]
  },
  {
   "cell_type": "markdown",
   "metadata": {},
   "source": [
    "<h4>Use the SELECT count() to add a total count of all items in the table with or without a qualifier"
   ]
  },
  {
   "cell_type": "code",
   "execution_count": 14,
   "metadata": {},
   "outputs": [
    {
     "output_type": "stream",
     "name": "stdout",
     "text": [
      "(6,)\n"
     ]
    }
   ],
   "source": [
    "import sqlite3\n",
    "\n",
    "conn = sqlite3.connect(r\"library.db\")\n",
    "c = conn.cursor()\n",
    "c.execute('SELECT count() FROM books')  # Counts all values in the table based on the expression\n",
    "totalBooks = c.fetchone()\n",
    "print(totalBooks)\n",
    "#\n",
    "# for book in totalBooks:\n",
    "#     print(book)\n",
    "#     print('='*30)\n",
    "conn.close()"
   ]
  },
  {
   "cell_type": "code",
   "execution_count": 60,
   "metadata": {},
   "outputs": [
    {
     "output_type": "stream",
     "name": "stdout",
     "text": [
      "(6,)\n==============================\n"
     ]
    }
   ],
   "source": [
    "import sqlite3\n",
    "\n",
    "conn = sqlite3.connect(r\"library.db\")\n",
    "c = conn.cursor()\n",
    "c.execute('SELECT count(DISTINCT id) FROM books')  # Counts all values in the table based on the expression\n",
    "books = c.fetchall()\n",
    "#\n",
    "for book in books:\n",
    "    print(book)\n",
    "    print('='*30)\n",
    "conn.close()"
   ]
  },
  {
   "cell_type": "markdown",
   "metadata": {},
   "source": [
    "<h4>ALTER TABLE</H4>"
   ]
  },
  {
   "cell_type": "markdown",
   "metadata": {},
   "source": [
    "<H4>ALTER TABLE to rename a table</H4>"
   ]
  },
  {
   "cell_type": "code",
   "execution_count": 16,
   "metadata": {},
   "outputs": [
    {
     "output_type": "stream",
     "name": "stdout",
     "text": [
      "('001', 'Outliers', 'Malcolm Gladwell')\n==============================\n('002', 'Humble Pie', 'Matt Parker')\n==============================\n('003', '52 Small Changes', 'Brett Blumenthal')\n==============================\n('004', 'Blink', 'Malcolm Gladwell')\n==============================\n('005', 'The Tipping Point', 'Malcolm Gladwell')\n==============================\n('006', 'All the Powers of Earth', 'Sidney Blumenthal')\n==============================\n"
     ]
    }
   ],
   "source": [
    "import sqlite3\n",
    "\n",
    "conn = sqlite3.connect(r\"library.db\")\n",
    "c = conn.cursor()\n",
    "\n",
    "# c.execute('ALTER TABLE my_books RENAME TO books')  \n",
    "# conn.commit()\n",
    "\n",
    "c.execute('ALTER TABLE books RENAME TO my_books')  \n",
    "conn.commit()\n",
    "c.execute('SELECT * FROM my_books')  \n",
    "books = c.fetchall()\n",
    "#\n",
    "for book in books:\n",
    "    print(book)\n",
    "    print('='*30)\n",
    "\n",
    "# Rename it back to books\n",
    "c.execute('ALTER TABLE my_books RENAME TO books')  \n",
    "conn.commit()\n",
    "conn.close()\n"
   ]
  },
  {
   "cell_type": "markdown",
   "metadata": {},
   "source": [
    "<H4>ALTER TABLE RENAME|ADD COLUMN</H4>\n",
    "NOTE: DROP COLUMN is not supported in SQLite!!!"
   ]
  },
  {
   "cell_type": "code",
   "execution_count": null,
   "metadata": {},
   "outputs": [],
   "source": [
    "import sqlite3\n",
    "\n",
    "conn = sqlite3.connect(r\"library.db\")\n",
    "c = conn.cursor()\n",
    "c.execute('ALTER TABLE books RENAME COLUMN title TO sub_title')\n",
    "conn.commit()\n",
    "c.execute('SELECT * FROM books')\n",
    "books = c.fetchall()\n",
    "#\n",
    "for book in books:\n",
    "    print(book)\n",
    "    print('='*30)\n",
    "    \n",
    "# Rename it back\n",
    "c.execute('ALTER TABLE books RENAME COLUMN sub_title TO title')  \n",
    "conn.commit()\n",
    "c.execute('SELECT * FROM books')\n",
    "books = c.fetchall()\n",
    "#\n",
    "for book in books:\n",
    "    print(book)\n",
    "    print('='*30)\n",
    "conn.close()"
   ]
  },
  {
   "cell_type": "code",
   "execution_count": 17,
   "metadata": {},
   "outputs": [
    {
     "output_type": "stream",
     "name": "stdout",
     "text": [
      "('001', 'Outliers', 'Malcolm Gladwell', None, None)\n==============================\n('002', 'Humble Pie', 'Matt Parker', None, None)\n==============================\n('003', '52 Small Changes', 'Brett Blumenthal', None, None)\n==============================\n('004', 'Blink', 'Malcolm Gladwell', None, None)\n==============================\n('005', 'The Tipping Point', 'Malcolm Gladwell', None, None)\n==============================\n('006', 'All the Powers of Earth', 'Sidney Blumenthal', None, None)\n==============================\n"
     ]
    }
   ],
   "source": [
    "import sqlite3\n",
    "\n",
    "conn = sqlite3.connect(r\"library.db\")\n",
    "c = conn.cursor()\n",
    "c.execute('ALTER TABLE books ADD COLUMN price TEXT') # This can be REAL type as well\n",
    "conn.commit()\n",
    "c.execute('ALTER TABLE books ADD COLUMN ebook_price TEXT') # This can be REAL type as well\n",
    "conn.commit()\n",
    "c.execute('SELECT * FROM books')\n",
    "books = c.fetchall()\n",
    "#\n",
    "for book in books:\n",
    "    print(book)\n",
    "    print('='*30)\n",
    "    \n",
    "conn.close()"
   ]
  },
  {
   "cell_type": "markdown",
   "metadata": {},
   "source": [
    "<H4>Exercise</H4>\n",
    "Set price of all Gladwell books at 12.99<br>\n",
    "Set the price of all Blumnethal books at 9.99<br>\n",
    "Set the price of Matt Parker's book at 7.99<br>"
   ]
  },
  {
   "cell_type": "code",
   "execution_count": 21,
   "metadata": {},
   "outputs": [
    {
     "output_type": "stream",
     "name": "stdout",
     "text": [
      "('001', 'Outliers', 'Malcolm Gladwell', '12.99', None)\n==============================\n('002', 'Humble Pie', 'Matt Parker', '7.99', None)\n==============================\n('003', '52 Small Changes', 'Brett Blumenthal', '9.99', None)\n==============================\n('004', 'Blink', 'Malcolm Gladwell', '12.99', None)\n==============================\n('005', 'The Tipping Point', 'Malcolm Gladwell', '12.99', None)\n==============================\n('006', 'All the Powers of Earth', 'Sidney Blumenthal', '9.99', None)\n==============================\n"
     ]
    }
   ],
   "source": [
    "import sqlite3\n",
    "\n",
    "conn = sqlite3.connect(r\"library.db\")\n",
    "c = conn.cursor()\n",
    "c.execute('''\n",
    "UPDATE  books SET\n",
    "price = 12.99\n",
    "WHERE author = 'Malcolm Gladwell'\n",
    "''')\n",
    "c.execute('''\n",
    "UPDATE  books SET\n",
    "price = 9.99\n",
    "WHERE author LIKE '%Blumenthal'\n",
    "''')\n",
    "c.execute('''\n",
    "UPDATE  books SET\n",
    "price = 7.99\n",
    "WHERE author = 'Matt Parker'\n",
    "''')\n",
    "conn.commit()\n",
    "c.execute('SELECT * FROM books')\n",
    "books = c.fetchall()\n",
    "#\n",
    "for book in books:\n",
    "    print(book)\n",
    "    print('='*30)\n",
    "    \n",
    "conn.close()\n"
   ]
  },
  {
   "cell_type": "markdown",
   "metadata": {},
   "source": [
    "<h4>MIN, MAX, CAST</H4>"
   ]
  },
  {
   "cell_type": "code",
   "execution_count": 22,
   "metadata": {},
   "outputs": [
    {
     "output_type": "stream",
     "name": "stdout",
     "text": [
      "(7.99,)\n==============================\n(12.99,)\n==============================\n"
     ]
    }
   ],
   "source": [
    "import sqlite3\n",
    "\n",
    "conn = sqlite3.connect(r\"library.db\")\n",
    "c = conn.cursor()\n",
    "c.execute('SELECT MIN(CAST(price as REAL)) FROM books')\n",
    "books = c.fetchall()\n",
    "#\n",
    "for book in books:\n",
    "    print(book)\n",
    "    print('='*30)\n",
    "c.execute('SELECT MAX(CAST(price as REAL)) FROM books')\n",
    "books = c.fetchall()\n",
    "#\n",
    "for book in books:\n",
    "    print(book)\n",
    "    print('='*30)\n",
    "conn.close()"
   ]
  },
  {
   "cell_type": "markdown",
   "metadata": {},
   "source": [
    "<h4>SUM, AVG</H4>"
   ]
  },
  {
   "cell_type": "code",
   "execution_count": 24,
   "metadata": {},
   "outputs": [
    {
     "output_type": "stream",
     "name": "stdout",
     "text": [
      "(66.94,)\n==============================\n(11.156666666666666,)\n==============================\n"
     ]
    }
   ],
   "source": [
    "import sqlite3\n",
    "\n",
    "conn = sqlite3.connect(r\"library.db\")\n",
    "c = conn.cursor()\n",
    "c.execute('SELECT SUM(CAST(price as REAL)) FROM books')\n",
    "books = c.fetchall()\n",
    "#\n",
    "for book in books:\n",
    "    print(book)\n",
    "    print('='*30)\n",
    "c.execute('SELECT AVG(CAST(price as REAL)) FROM books')\n",
    "books = c.fetchall()\n",
    "#\n",
    "for book in books:\n",
    "    print(book)\n",
    "    print('='*30)\n",
    "conn.close()"
   ]
  },
  {
   "cell_type": "markdown",
   "metadata": {},
   "source": [
    "This notebook is part of a course at www.codeimmersives.com called SQL-NOSQL. If you accessed this notebook outside the course, you can get more information about this course online by clicking here."
   ]
  },
  {
   "cell_type": "markdown",
   "metadata": {},
   "source": [
    "<hr>\n",
    "\n",
    "Copyright &copy; 2021  Code Immersives"
   ]
  }
 ],
 "metadata": {
  "kernelspec": {
   "name": "python3",
   "display_name": "Python 3.9.5 64-bit"
  },
  "language_info": {
   "codemirror_mode": {
    "name": "ipython",
    "version": 3
   },
   "file_extension": ".py",
   "mimetype": "text/x-python",
   "name": "python",
   "nbconvert_exporter": "python",
   "pygments_lexer": "ipython3",
   "version": "3.9.5"
  },
  "interpreter": {
   "hash": "b0fa6594d8f4cbf19f97940f81e996739fb7646882a419484c72d19e05852a7e"
  }
 },
 "nbformat": 4,
 "nbformat_minor": 4
}