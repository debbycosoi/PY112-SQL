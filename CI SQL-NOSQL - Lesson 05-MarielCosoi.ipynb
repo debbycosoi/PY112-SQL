{
 "cells": [
  {
   "cell_type": "markdown",
   "metadata": {},
   "source": [
    "<a href=\"https://codeimmersives.com\"><img src = \"https://www.codeimmersives.com/wp-content/uploads/2019/09/CodeImmersives_Logo_RGB_NYC_BW.png\" width = 400> </a>\n",
    "\n",
    "\n",
    "<h1 align=center><font size = 5>Agenda</font></h1>"
   ]
  },
  {
   "cell_type": "markdown",
   "metadata": {},
   "source": [
    "## SQL Operations using Python\n",
    "\n",
    "### Agenda\n",
    "<div class=\"alert alert-block alert-info\" style=\"margin-top: 20px\">\n",
    "\n",
    "1.  [Review](#0)<br>\n",
    "2.  [Base Python Exercise 1](#1)<br>\n",
    "3.  [Base Python Exercise 2](#2)<br>\n",
    "4.  [Base Python Exercise 3](#3)<br>\n",
    "5.  [SQLite Exercises 1](#10)<br>    \n",
    "6.  [SQLite Exercises 2](#12)<br>\n",
    "7.  [Exercises](#14)<br>\n",
    "</div>\n",
    "<hr>"
   ]
  },
  {
   "cell_type": "markdown",
   "metadata": {},
   "source": [
    "<h2>Base Python Exercise 1</h2>\n",
    "Calculate the mean, median, and mode of the following data set:<br>\n",
    "<code>\n",
    "numList = [88,89,90,93,84,86,88,91,88,87]\n",
    "\n",
    "def calcMean(numList):\n",
    "    pass\n",
    "def calcMode(numList):\n",
    "    pass\n",
    "def calcMedian(numList):\n",
    "    pass\n",
    "\"\"\"\n",
    "Call all of the functions below\n",
    "\"\"\"\n",
    "</code>"
   ]
  },
  {
   "cell_type": "markdown",
   "metadata": {},
   "source": [
    "<h4>Solution</h4>"
   ]
  },
  {
   "cell_type": "code",
   "execution_count": 89,
   "metadata": {},
   "outputs": [
    {
     "output_type": "stream",
     "name": "stdout",
     "text": [
      "Mean:\n88.4\nMedian:\n88.0\nMode:\n88\n"
     ]
    }
   ],
   "source": [
    "import math\n",
    "import statistics\n",
    "numList = [88,89,90,93,84,86,88,91,88,87]\n",
    "\n",
    "def mean(numList):\n",
    "    sumNums = 0\n",
    "    for i in range (len(numList)):\n",
    "        sumNums = sumNums + numList[i]\n",
    "    return (sumNums/(len(numList)))\n",
    "print(\"Mean:\")\n",
    "print(mean(numList))\n",
    "\n",
    "def median(numList):\n",
    "    numList = [88,89,90,93,84,86,88,91,88,87]\n",
    "    length = len(numList)\n",
    "    halfLen = int(length/2)\n",
    "    numList.sort()\n",
    "    if ( length%2 == 0):\n",
    "        med = (numList[halfLen]+numList[halfLen-1])/2\n",
    "    else:\n",
    "        med = numList[math.ceil(halfLen)]\n",
    "    return med\n",
    "\n",
    "print(\"Median:\")\n",
    "print(median(numList))\n",
    "    \n",
    "def mode(numList):\n",
    "    maxCount = 0\n",
    "    for i in range (len(numList)):\n",
    "        if(numList.count(numList[i]) > maxCount):\n",
    "            maxCount = numList.count(numList[i])\n",
    "            mode = numList[i]\n",
    "        return mode\n",
    "\n",
    "print(\"Mode:\")\n",
    "print(mode(numList))\n",
    "\n",
    "\n",
    "\n",
    "# x = statistics.mean(numList)\n",
    "# y = statistics.median(numList)\n",
    "# z = statistics.mode(numList)\n",
    "# print(f\"mean: {x}\")\n",
    "# print(f\"median: {y}\")\n",
    "# print(f\"mode: {z}\")\n",
    "\n"
   ]
  },
  {
   "cell_type": "markdown",
   "metadata": {},
   "source": [
    "<h2>Base Python Exercise 2</h2>\n",
    "Write code to identify all prime numbers from 1000 through 1100"
   ]
  },
  {
   "cell_type": "code",
   "execution_count": 39,
   "metadata": {
    "tags": []
   },
   "outputs": [],
   "source": [
    "# def isPrime(n):\n",
    "#     for j in range (2, 1001): \n",
    "#         if (n % j == 0):\n",
    "#             return False\n",
    "#     return True\n",
    "\n",
    "# for i in range (1000, 1101):\n",
    "#     if isPrime(i):\n",
    "#         print(i)\n",
    "\n",
    "primeNums = []\n",
    "for i in range (1000,1101):\n",
    "    isPrime = True\n",
    "    for j in range (2,1001):\n",
    "        if (i % j == 0):\n",
    "            isPrime = False\n",
    "    if (isPrime):\n",
    "        primeNums.append(i) "
   ]
  },
  {
   "cell_type": "markdown",
   "metadata": {},
   "source": [
    "<h2>Base Python Exercise 3</h2>\n",
    "Using the code from above determine which prime numbers from above where the sum<br>\n",
    "of their digits is also prime?<br>"
   ]
  },
  {
   "cell_type": "code",
   "execution_count": 52,
   "metadata": {},
   "outputs": [
    {
     "output_type": "stream",
     "name": "stdout",
     "text": [
      "[1009, 1013, 1019, 1021, 1031, 1033, 1039, 1049, 1051, 1061, 1063, 1069, 1087, 1091, 1093, 1097]\n0\n"
     ]
    }
   ],
   "source": [
    "print(primeNums)\n",
    "print(str(primeNums[0])[1])"
   ]
  },
  {
   "cell_type": "code",
   "execution_count": 57,
   "metadata": {},
   "outputs": [
    {
     "output_type": "stream",
     "name": "stdout",
     "text": [
      "1009 10 False\n1013 5 True\n1019 11 True\n1021 4 False\n1031 5 True\n1033 7 True\n1039 13 True\n1049 14 False\n1051 7 True\n1061 8 False\n1063 10 False\n1069 16 False\n1087 16 False\n1091 11 True\n1093 13 True\n1097 17 True\n"
     ]
    }
   ],
   "source": [
    "for primeN in primeNums:\n",
    "    primeNStr = str(primeN)\n",
    "    sumPrimeN = [int(primeNStr[i]) for i in range (0,4)]\n",
    "    totalNum = sum(sumPrimeN)\n",
    "    isPrime = True\n",
    "    for divider in range (2, 100): \n",
    "        if (totalNum != divider and totalNum % divider == 0):\n",
    "            isPrime = False\n",
    "    print(primeN, totalNum, isPrime)\n",
    "        \n",
    "\n",
    "    \n",
    "\n"
   ]
  },
  {
   "cell_type": "code",
   "execution_count": null,
   "metadata": {},
   "outputs": [],
   "source": [
    "1009 10 False\n",
    "1013 5 True\n",
    "1019 11 True\n",
    "1021 4 False\n",
    "1031 5 True\n",
    "1033 7 True\n",
    "1039 13 True\n",
    "1049 14 False\n",
    "1051 7 True\n",
    "1061 8 False\n",
    "1063 10 False\n",
    "1069 16 False\n",
    "1087 16 False\n",
    "1091 11 True\n",
    "1093 13 True\n",
    "1097 17 True"
   ]
  },
  {
   "cell_type": "markdown",
   "metadata": {},
   "source": [
    "<h2>Base Python Exercise 4</h2>\n",
    "How do you select 5 volunteers from a list of students?<br>\n",
    "students = ['Renee','Julia','Warren','Stacey','Charles','Linda','Dwight','Ann','Franklin','George','Walter','Susan']\n",
    "<br>\n",
    "Which students remained?"
   ]
  },
  {
   "cell_type": "markdown",
   "metadata": {},
   "source": [
    "<h4>Solution</h4>"
   ]
  },
  {
   "cell_type": "code",
   "execution_count": 61,
   "metadata": {},
   "outputs": [
    {
     "output_type": "stream",
     "name": "stdout",
     "text": [
      "George was picked\n['Renee', 'Julia', 'Warren', 'Stacey', 'Charles', 'Linda', 'Dwight', 'Ann', 'Franklin', 'George', 'Walter', 'Susan']\nSusan was picked\n['Renee', 'Julia', 'Warren', 'Stacey', 'Charles', 'Linda', 'Dwight', 'Ann', 'Franklin', 'Walter', 'Susan']\nWalter was picked\n['Renee', 'Julia', 'Warren', 'Stacey', 'Charles', 'Linda', 'Dwight', 'Ann', 'Franklin', 'Walter']\nDwight was picked\n['Renee', 'Julia', 'Warren', 'Stacey', 'Charles', 'Linda', 'Dwight', 'Ann', 'Franklin']\nJulia was picked\n['Renee', 'Julia', 'Warren', 'Stacey', 'Charles', 'Linda', 'Ann', 'Franklin']\nI randomly picked the following students: ['George', 'Susan', 'Walter', 'Dwight', 'Julia']\nRemaining studients: ['Renee', 'Warren', 'Stacey', 'Charles', 'Linda', 'Ann', 'Franklin']\n"
     ]
    }
   ],
   "source": [
    "import random\n",
    "students = ['Renee','Julia','Warren','Stacey','Charles','Linda','Dwight','Ann','Franklin','George','Walter','Susan']\n",
    "elected = []\n",
    "for i in range (0,5):\n",
    "    randomStudent = random.choice(students)\n",
    "    elected.append(randomStudent)\n",
    "    print(f\"{randomStudent} was picked\")\n",
    "    print(students)\n",
    "    students.remove(randomStudent)\n",
    "print(f\"I randomly picked the following students: {elected}\")\n",
    "print(f\"Remaining studients: {students}\")\n",
    "\n"
   ]
  },
  {
   "cell_type": "markdown",
   "metadata": {},
   "source": [
    "<h2>Exercise</h2>\n",
    "Open the file World_country_populations<br>\n",
    "And answer the following questions:<br>\n",
    "1 - Print the top 20 countries by population - Output in millions.<br>\n",
    "2 - What is the total world population<br>\n",
    "3 - Top 10 countries by median age<br>\n",
    "4 - Top 10 countries where people left<br>\n",
    "5 - Top 10 countries who took in migrants<br>\n",
    "6 - Which countries with a population less than 10 million had the largest year_change pct<br>"
   ]
  },
  {
   "cell_type": "code",
   "execution_count": 47,
   "metadata": {},
   "outputs": [
    {
     "output_type": "stream",
     "name": "stdout",
     "text": [
      "235,Holy See ,801,0.0025,2,2003,0,,N.A. ,N.A. ,N.A. ,0\n\n234,Tokelau ,1357,0.0127,17,136,10,,N.A. ,N.A. ,0,0\n\n233,Niue ,1626,0.0068,11,6,260,,N.A. ,N.A. ,0.46,0\n\n232,Falkland Islands ,3480,0.0305,103,0,12170,,N.A. ,N.A. ,0.66,0\n\n231,Montserrat ,4992,0.0006,3,50,100,,N.A. ,N.A. ,0.1,0\n\n230,Saint Pierre & Miquelon ,5794,-0.0048,-28,25,230,,N.A. ,N.A. ,1,0\n\n229,Saint Helena ,6077,0.003,18,16,390,,N.A. ,N.A. ,0.27,0\n\n228,Saint Barthelemy ,9877,0.003,30,470,21,,N.A. ,N.A. ,0,0\n\n227,Nauru ,10824,0.0063,68,541,20,,N.A. ,N.A. ,N.A. ,0\n\n226,Wallis & Futuna ,11239,-0.0169,-193,80,140,,N.A. ,N.A. ,0,0\n\n225,Tuvalu ,11792,0.0125,146,393,30,,N.A. ,N.A. ,0.62,0\n\n224,Anguilla ,15003,0.009,134,167,90,,N.A. ,N.A. ,N.A. ,0\n\n223,Cook Islands ,17564,0.0009,16,73,240,,N.A. ,N.A. ,0.75,0\n\n222,Palau ,18094,0.0048,86,39,460,,N.A. ,N.A. ,N.A. ,0\n\n221,Caribbean Netherlands ,26223,0.0094,244,80,328,,N.A. ,N.A. ,0.75,0\n\n220,British Virgin Islands ,30231,0.0067,201,202,150,,N.A. ,N.A. ,0.52,0\n\n219,Gibraltar ,33691,-0.0003,-10,3369,10,,N.A. ,N.A. ,N.A. ,0\n\n218,San Marino ,33931,0.0021,71,566,60,,N.A. ,N.A. ,0.97,0\n\n217,Liechtenstein ,38128,0.0029,109,238,160,,N.A. ,N.A. ,0.15,0\n\n216,Saint Martin ,38666,0.0175,664,730,53,,N.A. ,N.A. ,0,0\n\n215,Turks and Caicos ,38717,0.0138,526,41,950,,N.A. ,N.A. ,0.89,0\n\n214,Monaco ,39242,0.0071,278,26337,1,,N.A. ,N.A. ,N.A. ,0\n\n213,Sint Maarten ,42876,0.0115,488,1261,34,,N.A. ,N.A. ,0.96,0\n\n212,Faeroe Islands ,48863,0.0038,185,35,1396,,N.A. ,N.A. ,0.43,0\n\n211,Saint Kitts & Nevis ,53199,0.0071,376,205,260,,N.A. ,N.A. ,0.33,0\n\n210,American Samoa ,55191,-0.0022,-121,276,200,,N.A. ,N.A. ,0.88,0\n\n209,Greenland ,56770,0.0017,98,0,410450,,N.A. ,N.A. ,0.87,0\n\n208,Northern Mariana Islands ,57559,0.006,343,125,460,,N.A. ,N.A. ,0.88,0\n\n207,Marshall Islands ,59190,0.0068,399,329,180,,N.A. ,N.A. ,0.7,0\n\n206,Bermuda ,62278,-0.0036,-228,1246,50,,N.A. ,N.A. ,0.97,0\n\n205,Cayman Islands ,65722,0.0119,774,274,240,,N.A. ,N.A. ,0.97,0\n\n204,Dominica ,71986,0.0025,178,96,750,,N.A. ,N.A. ,0.74,0\n\n203,Andorra ,77265,0.0016,123,164,470,,N.A. ,N.A. ,0.88,0\n\n202,Isle of Man ,85033,0.0053,449,149,570,,N.A. ,N.A. ,0.53,0\n\n201,Antigua and Barbuda ,97929,0.0084,811,223,440,0,2,34,0.26,0\n\n200,Seychelles ,98347,0.0062,608,214,460,-200,2.5,34,0.56,0\n\n199,U.S. Virgin Islands ,104425,-0.0015,-153,298,350,-451,2,43,0.96,0\n\n198,Tonga ,105695,0.0115,1201,147,720,-800,3.6,22,0.24,0\n\n197,Aruba ,106766,0.0043,452,593,180,201,1.9,41,0.44,0\n\n196,St. Vincent & Grenadines ,110940,0.0032,351,284,390,-200,1.9,33,0.53,0\n\n195,Grenada ,112523,0.0046,520,331,340,-200,2.1,32,0.35,0\n\n194,Kiribati ,119449,0.0157,1843,147,810,-800,3.6,23,0.57,0\n\n193,Curaçao ,164093,0.0041,669,370,444,515,1.8,42,0.89,0\n\n192,Guam ,168775,0.0089,1481,313,540,-506,2.3,31,0.95,0\n\n191,Channel Islands ,173863,0.0093,1604,915,190,1351,1.5,43,0.3,0\n\n190,Saint Lucia ,183627,0.0046,837,301,610,0,1.4,34,0.19,0\n\n189,Samoa ,198414,0.0067,1317,70,2830,-2803,3.9,22,0.18,0\n\n188,Sao Tome & Principe ,219159,0.0191,4103,228,960,-1680,4.4,19,0.74,0\n\n187,Mayotte ,272815,0.025,6665,728,375,0,3.7,20,0.46,0\n\n186,French Polynesia ,280908,0.0058,1621,77,3660,-1000,2,34,0.64,0\n\n185,New Caledonia ,285498,0.0097,2748,16,18280,502,2,34,0.72,0\n\n184,Barbados ,287375,0.0012,350,668,430,-79,1.6,40,0.31,0\n\n183,French Guiana ,298682,0.027,7850,4,82200,1200,3.4,25,0.87,0\n\n182,Vanuatu ,307145,0.0242,7263,25,12190,120,3.8,21,0.24,0\n\n181,Iceland ,341243,0.0065,2212,3,100250,380,1.8,37,0.94,0\n\n180,Martinique ,375265,-0.0008,-289,354,1060,-960,1.9,47,0.92,0\n\n179,Bahamas ,393244,0.0097,3762,39,10010,1000,1.8,32,0.86,0.0001\n\n178,Belize ,397628,0.0186,7275,17,22810,1200,2.3,25,0.46,0.0001\n\n177,Guadeloupe ,400124,0.0002,68,237,1690,-1440,2.2,44,N.A. ,0.0001\n\n176,Brunei ,437479,0.0097,4194,83,5270,0,1.8,32,0.8,0.0001\n\n175,Malta ,441543,0.0027,1171,1380,320,900,1.5,43,0.93,0.0001\n\n174,Maldives ,540544,0.0181,9591,1802,300,11370,1.9,30,0.35,0.0001\n\n173,Micronesia ,548914,0.01,5428,784,700,-2957,2.9,27,0.68,0.0001\n\n172,Cabo Verde ,555987,0.011,6052,138,4030,-1342,2.3,28,0.68,0.0001\n\n171,Suriname ,586632,0.009,5260,4,156000,-1000,2.4,29,0.65,0.0001\n\n170,Western Sahara ,597339,0.0255,14876,2,266000,5582,2.4,28,0.87,0.0001\n\n169,Luxembourg ,625978,0.0166,10249,242,2590,9741,1.5,40,0.88,0.0001\n\n168,Montenegro ,628066,0.0001,79,47,13450,-480,1.8,39,0.68,0.0001\n\n167,Macao ,649335,0.0139,8890,21645,30,5000,1.2,39,N.A. ,0.0001\n\n166,Solomon Islands ,686884,0.0255,17061,25,27990,-1600,4.4,20,0.23,0.0001\n\n165,Bhutan ,771608,0.0112,8516,20,38117,320,2,28,0.46,0.0001\n\n164,Guyana ,786552,0.0048,3786,4,196850,-6000,2.5,27,0.27,0.0001\n\n163,Comoros ,869601,0.022,18715,467,1861,-2000,4.2,20,0.29,0.0001\n\n162,Réunion ,895312,0.0072,6385,358,2500,-1256,2.3,36,1,0.0001\n\n161,Fiji ,896445,0.0073,6492,49,18270,-6202,2.8,28,0.59,0.0001\n\n160,Djibouti ,988000,0.0148,14440,43,23180,900,2.8,27,0.79,0.0001\n\n159,Eswatini ,1160164,0.0105,12034,67,17200,-8353,3,21,0.3,0.0001\n\n158,Cyprus ,1207359,0.0073,8784,131,9240,5000,1.3,37,0.67,0.0002\n\n157,Mauritius ,1271768,0.0017,2100,626,2030,0,1.4,37,0.41,0.0002\n\n156,Timor-Leste ,1318445,0.0196,25326,89,14870,-5385,4.1,21,0.33,0.0002\n\n155,Estonia ,1326535,0.0007,887,31,42390,3911,1.6,42,0.68,0.0002\n\n154,Trinidad and Tobago ,1399488,0.0032,4515,273,5130,-800,1.7,36,0.52,0.0002\n\n153,Equatorial Guinea ,1402985,0.0347,46999,50,28050,16000,4.6,22,0.73,0.0002\n\n152,Bahrain ,1701575,0.0368,60403,2239,760,47800,2,32,0.89,0.0002\n\n151,Latvia ,1886198,-0.0108,-20545,30,62200,-14837,1.7,44,0.69,0.0002\n\n150,Guinea-Bissau ,1968001,0.0245,47079,70,28120,-1399,4.5,19,0.45,0.0003\n\n149,Slovenia ,2078938,0.0001,284,103,20140,2000,1.6,45,0.55,0.0003\n\n148,North Macedonia ,2083374,0,-85,83,25220,-1000,1.5,39,0.59,0.0003\n\n147,Lesotho ,2142249,0.008,16981,71,30360,-10047,3.2,24,0.31,0.0003\n\n146,Gabon ,2225734,0.0245,53155,9,257670,3260,4,23,0.87,0.0003\n\n145,Botswana ,2351627,0.0208,47930,4,566730,3000,2.9,24,0.73,0.0003\n\n144,Gambia ,2416668,0.0294,68962,239,10120,-3087,5.3,18,0.59,0.0003\n\n143,Namibia ,2540905,0.0186,46375,3,823290,-4806,3.4,22,0.55,0.0003\n\n142,Lithuania ,2722289,-0.0135,-37338,43,62674,-32780,1.7,45,0.71,0.0003\n\n141,Puerto Rico ,2860853,-0.0247,-72555,323,8870,-97986,1.2,44,N.A. ,0.0004\n\n140,Albania ,2877797,-0.0011,-3120,105,27400,-14000,1.6,36,0.63,0.0004\n\n139,Qatar ,2881053,0.0173,48986,248,11610,40000,1.9,32,0.96,0.0004\n\n138,Jamaica ,2961167,0.0044,12888,273,10830,-11332,2,31,0.55,0.0004\n\n137,Armenia ,2963243,0.0019,5512,104,28470,-4998,1.8,35,0.63,0.0004\n\n136,Mongolia ,3278290,0.0165,53123,2,1553560,-852,2.9,28,0.67,0.0004\n\n135,Bosnia and Herzegovina ,3280819,-0.0061,-20181,64,51000,-21585,1.3,43,0.52,0.0004\n\n134,Uruguay ,3473730,0.0035,11996,20,175020,-3000,2,36,0.96,0.0004\n\n133,Eritrea ,3546421,0.0141,49304,35,101000,-39858,4.1,19,0.63,0.0005\n\n132,Georgia ,3989167,-0.0019,-7598,57,69490,-10000,2.1,38,0.58,0.0005\n\n131,Moldova ,4033963,-0.0023,-9300,123,32850,-1387,1.3,38,0.43,0.0005\n\n130,Croatia ,4105267,-0.0061,-25037,73,55960,-8001,1.4,44,0.58,0.0005\n\n129,Kuwait ,4270571,0.0151,63488,240,17820,39520,2.1,37,N.A. ,0.0005\n\n128,Panama ,4314767,0.0161,68328,58,74340,11200,2.5,30,0.68,0.0006\n\n127,Mauritania ,4649658,0.0274,123962,5,1030700,5000,4.6,20,0.57,0.0006\n\n126,New Zealand ,4822233,0.0082,39170,18,263310,14881,1.9,38,0.87,0.0006\n\n125,Central African Republic ,4829767,0.0178,84582,8,622980,-40000,4.8,18,0.43,0.0006\n\n124,Ireland ,4937786,0.0113,55291,72,68890,23604,1.8,38,0.63,0.0006\n\n123,Liberia ,5057681,0.0244,120307,53,96320,-5000,4.4,19,0.53,0.0006\n\n122,Costa Rica ,5094118,0.0092,46557,100,51060,4200,1.8,33,0.8,0.0007\n\n121,State of Palestine ,5101414,0.0241,119994,847,6020,-10563,3.7,21,0.8,0.0007\n\n120,Oman ,5106626,0.0265,131640,16,309500,87400,2.9,31,0.87,0.0007\n\n119,Norway ,5421241,0.0079,42384,15,365268,28000,1.7,40,0.83,0.0007\n\n118,Slovakia ,5459642,0.0005,2629,114,48088,1485,1.5,41,0.54,0.0007\n\n117,Congo ,5518087,0.0256,137579,16,341500,-4000,4.5,19,0.7,0.0007\n\n116,Finland ,5540720,0.0015,8564,18,303890,14000,1.5,43,0.86,0.0007\n\n115,Denmark ,5792202,0.0035,20326,137,42430,15200,1.8,42,0.88,0.0007\n\n114,Singapore ,5850342,0.0079,46005,8358,700,27028,1.2,42,N.A. ,0.0008\n\n113,Turkmenistan ,6031200,0.015,89111,13,469930,-5000,2.8,27,0.53,0.0008\n\n112,El Salvador ,6486205,0.0051,32652,313,20720,-40539,2.1,28,0.73,0.0008\n\n111,Kyrgyzstan ,6524195,0.0169,108345,34,191800,-4000,3,26,0.36,0.0008\n\n110,Nicaragua ,6624554,0.0121,79052,55,120340,-21272,2.4,26,0.57,0.0008\n\n109,Lebanon ,6825445,-0.0044,-30268,667,10230,-30012,2.1,30,0.78,0.0009\n\n108,Libya ,6871292,0.0138,93840,4,1759540,-1999,2.3,29,0.78,0.0009\n\n107,Bulgaria ,6948445,-0.0074,-51674,64,108560,-4800,1.6,45,0.76,0.0009\n\n106,Paraguay ,7132538,0.0125,87902,18,397300,-16556,2.4,26,0.62,0.0009\n\n105,Laos ,7275560,0.0148,106105,32,230800,-14704,2.7,24,0.36,0.0009\n\n104,Hong Kong ,7496981,0.0082,60827,7140,1050,29308,1.3,45,N.A. ,0.001\n\n103,Sierra Leone ,7976983,0.021,163768,111,72180,-4200,4.3,19,0.43,0.001\n\n102,Togo ,8278724,0.0243,196358,152,54390,-2000,4.4,19,0.43,0.0011\n\n101,Switzerland ,8654622,0.0074,63257,219,39516,52000,1.5,43,0.74,0.0011\n\n100,Israel ,8655535,0.016,136158,400,21640,10000,3,30,0.93,0.0011\n\n99,Serbia ,8737371,-0.004,-34864,100,87460,4000,1.5,42,0.56,0.0011\n\n98,Papua New Guinea ,8947024,0.0195,170915,20,452860,-800,3.6,22,0.13,0.0011\n\n97,Austria ,9006398,0.0057,51296,109,82409,65000,1.5,43,0.57,0.0012\n\n96,Belarus ,9449323,-0.0003,-3088,47,202910,8730,1.7,40,0.79,0.0012\n\n95,Tajikistan ,9537645,0.0232,216627,68,139960,-20000,3.6,22,0.27,0.0012\n\n94,Hungary ,9660351,-0.0025,-24328,107,90530,6000,1.5,43,0.72,0.0012\n\n93,United Arab Emirates ,9890402,0.0123,119873,118,83600,40000,1.4,33,0.86,0.0013\n\n92,Honduras ,9904607,0.0163,158490,89,111890,-6800,2.5,24,0.57,0.0013\n\n91,Sweden ,10099265,0.0063,62886,25,410340,40000,1.9,41,0.88,0.0013\n\n90,Azerbaijan ,10139177,0.0091,91459,123,82658,1200,2.1,32,0.56,0.0013\n\n89,Portugal ,10196709,-0.0029,-29478,111,91590,-6000,1.3,46,0.66,0.0013\n\n88,Jordan ,10203134,0.01,101440,115,88780,10220,2.8,24,0.91,0.0013\n\n87,Greece ,10423054,-0.0048,-50401,81,128900,-16000,1.3,46,0.85,0.0013\n\n86,Czech Republic (Czechia) ,10708981,0.0018,19772,139,77240,22011,1.6,43,0.74,0.0014\n\n85,Dominican Republic ,10847910,0.0101,108952,225,48320,-30000,2.4,28,0.85,0.0014\n\n84,South Sudan ,11193725,0.0119,131612,18,610952,-174200,4.7,19,0.25,0.0014\n\n83,Cuba ,11326616,-0.0006,-6867,106,106440,-14400,1.6,42,0.78,0.0015\n\n82,Haiti ,11402528,0.0124,139451,414,27560,-35000,3,24,0.57,0.0015\n\n81,Belgium ,11589623,0.0044,50295,383,30280,48000,1.7,42,0.98,0.0015\n\n80,Bolivia ,11673021,0.0139,159921,11,1083300,-9504,2.8,26,0.69,0.0015\n\n79,Tunisia ,11818619,0.0106,123900,76,155360,-4000,2.2,33,0.7,0.0015\n\n78,Burundi ,11890784,0.0312,360204,463,25680,2001,5.5,17,0.14,0.0015\n\n77,Benin ,12123200,0.0273,322049,108,112760,-2000,4.9,19,0.48,0.0016\n\n76,Rwanda ,12952218,0.0258,325268,525,24670,-9000,4.1,20,0.18,0.0017\n\n75,Guinea ,13132795,0.0283,361549,53,245720,-4000,4.7,18,0.39,0.0017\n\n74,Zimbabwe ,14862924,0.0148,217456,38,386850,-116858,3.6,19,0.38,0.0019\n\n73,Somalia ,15893222,0.0292,450317,25,627340,-40000,6.1,17,0.47,0.002\n\n72,Chad ,16425864,0.03,478988,13,1259200,2000,5.8,17,0.23,0.0021\n\n71,Cambodia ,16718965,0.0141,232423,95,176520,-30000,2.5,26,0.24,0.0021\n\n70,Senegal ,16743927,0.0275,447563,87,192530,-20000,4.7,19,0.49,0.0021\n\n69,Netherlands ,17134872,0.0022,37742,508,33720,16000,1.7,43,0.92,0.0022\n\n68,Syria ,17500658,0.0252,430523,95,183630,-427391,2.8,26,0.6,0.0022\n\n67,Ecuador ,17643054,0.0155,269392,71,248360,36400,2.4,28,0.63,0.0023\n\n66,Guatemala ,17915568,0.019,334096,167,107160,-9215,2.9,23,0.52,0.0023\n\n65,Zambia ,18383955,0.0293,522925,25,743390,-8000,4.7,18,0.45,0.0024\n\n64,Kazakhstan ,18776707,0.0121,225280,7,2699700,-18000,2.8,31,0.58,0.0024\n\n63,Chile ,19116201,0.0087,164163,26,743532,111708,1.7,35,0.85,0.0025\n\n62,Malawi ,19129952,0.0269,501205,203,94280,-16053,4.3,18,0.18,0.0025\n\n61,Romania ,19237691,-0.0066,-126866,84,230170,-73999,1.6,43,0.55,0.0025\n\n60,Mali ,20250833,0.0302,592802,17,1220190,-40000,5.9,16,0.44,0.0026\n\n59,Burkina Faso ,20903273,0.0286,581895,76,273600,-25000,5.2,18,0.31,0.0027\n\n58,Sri Lanka ,21413249,0.0042,89516,341,62710,-97986,2.2,34,0.18,0.0027\n\n57,Taiwan ,23816775,0.0018,42899,673,35410,30001,1.2,42,0.79,0.0031\n\n56,Niger ,24206644,0.0384,895929,19,1266700,4000,7,15,0.17,0.0031\n\n55,Australia ,25499884,0.0118,296686,3,7682300,158246,1.8,38,0.86,0.0033\n\n54,North Korea ,25778816,0.0044,112655,214,120410,-5403,1.9,35,0.63,0.0033\n\n53,Côte d'Ivoire ,26378274,0.0257,661730,83,318000,-8000,4.7,19,0.51,0.0034\n\n52,Cameroon ,26545863,0.0259,669483,56,472710,-4800,4.6,19,0.56,0.0034\n\n51,Madagascar ,27691018,0.0268,721711,48,581795,-1500,4.1,20,0.39,0.0036\n\n50,Venezuela ,28435940,-0.0028,-79889,32,882050,-653249,2.3,30,N.A. ,0.0036\n\n49,Nepal ,29136808,0.0185,528098,203,143350,41710,1.9,25,0.21,0.0037\n\n48,Yemen ,29825964,0.0228,664042,56,527970,-30000,3.8,20,0.38,0.0038\n\n47,Ghana ,31072940,0.0215,655084,137,227540,-10000,3.9,22,0.57,0.004\n\n46,Mozambique ,31255435,0.0293,889399,40,786380,-5000,4.9,18,0.38,0.004\n\n45,Malaysia ,32365999,0.013,416222,99,328550,50000,2,30,0.78,0.0042\n\n44,Angola ,32866272,0.0327,1040977,26,1246700,6413,5.6,17,0.67,0.0042\n\n43,Peru ,32971854,0.0142,461401,26,1280000,99069,2.3,31,0.79,0.0042\n\n42,Uzbekistan ,33469203,0.0148,487487,79,425400,-8863,2.4,28,0.5,0.0043\n\n41,Saudi Arabia ,34813871,0.0159,545343,16,2149690,134979,2.3,32,0.84,0.0045\n\n40,Morocco ,36910560,0.012,438791,83,446300,-51419,2.4,30,0.64,0.0047\n\n39,Canada ,37742154,0.0089,331107,4,9093510,242032,1.5,41,0.81,0.0048\n\n38,Poland ,37846611,-0.0011,-41157,124,306230,-29395,1.4,42,0.6,0.0049\n\n37,Afghanistan ,38928346,0.0233,886592,60,652860,-62920,4.6,18,0.25,0.005\n\n36,Iraq ,40222493,0.0232,912710,93,434320,7834,3.7,21,0.73,0.0052\n\n35,Ukraine ,43733762,-0.0059,-259876,75,579320,10000,1.4,41,0.69,0.0056\n\n34,Sudan ,43849260,0.0242,1036022,25,1765048,-50000,4.4,20,0.35,0.0056\n\n33,Algeria ,43851044,0.0185,797990,18,2381740,-10000,3.1,29,0.73,0.0056\n\n32,Argentina ,45195774,0.0093,415097,17,2736690,4800,2.3,32,0.93,0.0058\n\n31,Uganda ,45741007,0.0332,1471413,229,199810,168694,5,17,0.26,0.0059\n\n30,Spain ,46754778,0.0004,18002,94,498800,40000,1.3,45,0.8,0.006\n\n29,Colombia ,50882891,0.0108,543448,46,1109500,204796,1.8,31,0.8,0.0065\n\n28,South Korea ,51269185,0.0009,43877,527,97230,11731,1.1,44,0.82,0.0066\n\n27,Kenya ,53771296,0.0228,1197323,94,569140,-10000,3.5,20,0.28,0.0069\n\n26,Myanmar ,54409800,0.0067,364380,83,653290,-163313,2.2,29,0.31,0.007\n\n25,South Africa ,59308690,0.0128,750420,49,1213090,145405,2.4,28,0.67,0.0076\n\n24,Tanzania ,59734218,0.0298,1728755,67,885800,-40076,4.9,18,0.37,0.0077\n\n23,Italy ,60461826,-0.0015,-88249,206,294140,148943,1.3,47,0.69,0.0078\n\n22,France ,65273511,0.0022,143783,119,547557,36527,1.9,42,0.82,0.0084\n\n21,United Kingdom ,67886011,0.0053,355839,281,241930,260650,1.8,40,0.83,0.0087\n\n20,Thailand ,69799978,0.0025,174396,137,510890,19444,1.5,40,0.51,0.009\n\n19,Germany ,83783942,0.0032,266897,240,348560,543822,1.6,46,0.76,0.0107\n\n18,Iran ,83992949,0.013,1079043,52,1628550,-55000,2.2,32,0.76,0.0108\n\n17,Turkey ,84339067,0.0109,909452,110,769630,283922,2.1,32,0.76,0.0108\n\n16,DR Congo ,89561403,0.0319,2770836,40,2267050,23861,6,17,0.46,0.0115\n\n15,Vietnam ,97338579,0.0091,876473,314,310070,-80000,2.1,32,0.38,0.0125\n\n14,Egypt ,102334404,0.0194,1946331,103,995450,-38033,3.3,25,0.43,0.0131\n\n13,Philippines ,109581078,0.0135,1464463,368,298170,-67152,2.6,26,0.47,0.0141\n\n12,Ethiopia ,114963588,0.0257,2884858,115,1000000,30000,4.3,19,0.21,0.0147\n\n11,Japan ,126476461,-0.003,-383840,347,364555,71560,1.4,48,0.92,0.0162\n\n10,Mexico ,128932753,0.0106,1357224,66,1943950,-60000,2.1,29,0.84,0.0165\n\n9,Russia ,145934462,0.0004,62206,9,16376870,182456,1.8,40,0.74,0.0187\n\n8,Bangladesh ,164689383,0.0101,1643222,1265,130170,-369501,2.1,28,0.39,0.0211\n\n7,Nigeria ,206139589,0.0258,5175990,226,910770,-60000,5.4,18,0.52,0.0264\n\n6,Brazil ,212559417,0.0072,1509890,25,8358140,21200,1.7,33,0.88,0.0273\n\n5,Pakistan ,220892340,0.02,4327022,287,770880,-233379,3.6,23,0.35,0.0283\n\n4,Indonesia ,273523615,0.0107,2898047,151,1811570,-98955,2.3,30,0.56,0.0351\n\n3,United States ,331002651,0.0059,1937734,36,9147420,954806,1.8,38,0.83,0.0425\n\n2,India ,1380004385,0.0099,13586631,464,2973190,-532687,2.2,28,0.35,0.177\n\n1,China ,1439323776,0.0039,5540090,153,9388211,-348399,1.7,38,0.61,0.1847\n\n"
     ]
    }
   ],
   "source": [
    "import os\n",
    "filePath = r'/Users/debbycosoi/Desktop/Code Immersives/SQL NoSQL/PY112-SQL/World_country_populations.csv'\n",
    "with open(filePath,'r') as fh:\n",
    "    line = fh.readline()\n",
    "    i = 0\n",
    "    while line:\n",
    "        if i > 0:\n",
    "            print(line)\n",
    "        line = fh.readline()\n",
    "        i += 1"
   ]
  },
  {
   "cell_type": "code",
   "execution_count": 3,
   "metadata": {},
   "outputs": [],
   "source": [
    "import os\n",
    "import sqlite3\n",
    "\n",
    "conn = sqlite3.connect(\"World_populations.db\")\n",
    "c = conn.cursor()\n",
    "\n",
    "# c.execute(\"\"\"DROP TABLE allCountries\"\"\")\n",
    "c.execute(\"\"\"CREATE TABLE IF NOT EXISTS allCountries (\n",
    "    num TEXT,\n",
    "    Country TEXT,\n",
    "    population TEXT,\n",
    "    year_change TEXT,\n",
    "    net_change TEXT,\n",
    "    density TEXT,\n",
    "    land_area_km2 TEXT,\n",
    "    migrants TEXT,\n",
    "    fertility_rate TEXT,\n",
    "    Median_age TEXT,\n",
    "    Urban_pop_pct TEXT,\n",
    "    World_share TEXT\n",
    ");\n",
    "\"\"\")\n",
    "conn.commit()\n",
    "conn.close() \n",
    "\n"
   ]
  },
  {
   "cell_type": "code",
   "execution_count": 203,
   "metadata": {},
   "outputs": [
    {
     "output_type": "stream",
     "name": "stdout",
     "text": [
      "('Holy See ',)\n('Tokelau ',)\n('Niue ',)\n('Falkland Islands ',)\n('Montserrat ',)\n('Saint Pierre & Miquelon ',)\n('Saint Helena ',)\n('Saint Barthelemy ',)\n('Nauru ',)\n('Wallis & Futuna ',)\n('Tuvalu ',)\n('Anguilla ',)\n('Cook Islands ',)\n('Palau ',)\n('Caribbean Netherlands ',)\n('British Virgin Islands ',)\n('Gibraltar ',)\n('San Marino ',)\n('Liechtenstein ',)\n('Saint Martin ',)\n('Turks and Caicos ',)\n('Monaco ',)\n('Sint Maarten ',)\n('Faeroe Islands ',)\n('Saint Kitts & Nevis ',)\n('American Samoa ',)\n('Greenland ',)\n('Northern Mariana Islands ',)\n('Marshall Islands ',)\n('Bermuda ',)\n('Cayman Islands ',)\n('Dominica ',)\n('Andorra ',)\n('Isle of Man ',)\n('Antigua and Barbuda ',)\n('Seychelles ',)\n('U.S. Virgin Islands ',)\n('Tonga ',)\n('Aruba ',)\n('St. Vincent & Grenadines ',)\n('Grenada ',)\n('Kiribati ',)\n('Curaçao ',)\n('Guam ',)\n('Channel Islands ',)\n('Saint Lucia ',)\n('Samoa ',)\n('Sao Tome & Principe ',)\n('Mayotte ',)\n('French Polynesia ',)\n('New Caledonia ',)\n('Barbados ',)\n('French Guiana ',)\n('Vanuatu ',)\n('Iceland ',)\n('Martinique ',)\n('Bahamas ',)\n('Belize ',)\n('Guadeloupe ',)\n('Brunei ',)\n('Malta ',)\n('Maldives ',)\n('Micronesia ',)\n('Cabo Verde ',)\n('Suriname ',)\n('Western Sahara ',)\n('Luxembourg ',)\n('Montenegro ',)\n('Macao ',)\n('Solomon Islands ',)\n('Bhutan ',)\n('Guyana ',)\n('Comoros ',)\n('Réunion ',)\n('Fiji ',)\n('Djibouti ',)\n('Eswatini ',)\n('Cyprus ',)\n('Mauritius ',)\n('Timor-Leste ',)\n('Estonia ',)\n('Trinidad and Tobago ',)\n('Equatorial Guinea ',)\n('Bahrain ',)\n('Latvia ',)\n('Guinea-Bissau ',)\n('Slovenia ',)\n('North Macedonia ',)\n('Lesotho ',)\n('Gabon ',)\n('Botswana ',)\n('Gambia ',)\n('Namibia ',)\n('Lithuania ',)\n('Puerto Rico ',)\n('Albania ',)\n('Qatar ',)\n('Jamaica ',)\n('Armenia ',)\n('Mongolia ',)\n('Bosnia and Herzegovina ',)\n('Uruguay ',)\n('Eritrea ',)\n('Georgia ',)\n('Moldova ',)\n('Croatia ',)\n('Kuwait ',)\n('Panama ',)\n('Mauritania ',)\n('New Zealand ',)\n('Central African Republic ',)\n('Ireland ',)\n('Liberia ',)\n('Costa Rica ',)\n('State of Palestine ',)\n('Oman ',)\n('Norway ',)\n('Slovakia ',)\n('Congo ',)\n('Finland ',)\n('Denmark ',)\n('Singapore ',)\n('Turkmenistan ',)\n('El Salvador ',)\n('Kyrgyzstan ',)\n('Nicaragua ',)\n('Lebanon ',)\n('Libya ',)\n('Bulgaria ',)\n('Paraguay ',)\n('Laos ',)\n('Hong Kong ',)\n('Sierra Leone ',)\n('Togo ',)\n('Switzerland ',)\n('Israel ',)\n('Serbia ',)\n('Papua New Guinea ',)\n('Austria ',)\n('Belarus ',)\n('Tajikistan ',)\n('Hungary ',)\n('United Arab Emirates ',)\n('Honduras ',)\n('Sweden ',)\n('Azerbaijan ',)\n('Portugal ',)\n('Jordan ',)\n('Greece ',)\n('Czech Republic (Czechia) ',)\n('Dominican Republic ',)\n('South Sudan ',)\n('Cuba ',)\n('Haiti ',)\n('Belgium ',)\n('Bolivia ',)\n('Tunisia ',)\n('Burundi ',)\n('Benin ',)\n('Rwanda ',)\n('Guinea ',)\n('Zimbabwe ',)\n('Somalia ',)\n('Chad ',)\n('Cambodia ',)\n('Senegal ',)\n('Netherlands ',)\n('Syria ',)\n('Ecuador ',)\n('Guatemala ',)\n('Zambia ',)\n('Kazakhstan ',)\n('Chile ',)\n('Malawi ',)\n('Romania ',)\n('Mali ',)\n('Burkina Faso ',)\n('Sri Lanka ',)\n('Taiwan ',)\n('Niger ',)\n('Australia ',)\n('North Korea ',)\n('Côte dIvoire ',)\n('Cameroon ',)\n('Madagascar ',)\n('Venezuela ',)\n('Nepal ',)\n('Yemen ',)\n('Ghana ',)\n('Mozambique ',)\n('Malaysia ',)\n('Angola ',)\n('Peru ',)\n('Uzbekistan ',)\n('Saudi Arabia ',)\n('Morocco ',)\n('Canada ',)\n('Poland ',)\n('Afghanistan ',)\n('Iraq ',)\n('Ukraine ',)\n('Sudan ',)\n('Algeria ',)\n('Argentina ',)\n('Uganda ',)\n('Spain ',)\n('Colombia ',)\n('South Korea ',)\n('Kenya ',)\n('Myanmar ',)\n('South Africa ',)\n('Tanzania ',)\n('Italy ',)\n('France ',)\n('United Kingdom ',)\n('Thailand ',)\n('Germany ',)\n('Iran ',)\n('Turkey ',)\n('DR Congo ',)\n('Vietnam ',)\n('Egypt ',)\n('Philippines ',)\n('Ethiopia ',)\n('Japan ',)\n('Mexico ',)\n('Russia ',)\n('Bangladesh ',)\n('Nigeria ',)\n('Brazil ',)\n('Pakistan ',)\n('Indonesia ',)\n('United States ',)\n('India ',)\n('China ',)\n"
     ]
    }
   ],
   "source": [
    "conn = sqlite3.connect(\"World_populations.db\")\n",
    "c = conn.cursor()\n",
    "filePath = r'/Users/debbycosoi/Desktop/Code Immersives/SQL NoSQL/PY112-SQL/World_country_populations.csv'\n",
    "with open(filePath, 'r', encoding='UTF8') as f:\n",
    "    # create the csv writer\n",
    "    dr = csv.DictReader(f)\n",
    "    #create lambda for cleaning inner quotes\n",
    "    clean = lambda x: x.replace(\"'\", \"\")\n",
    "    #clean \"normalize\" field names and entries\n",
    "    #map -> apply a function to every value in the list\n",
    "    entries = [tuple(map(clean, entry.values())) for entry in dr]\n",
    "    fieldnames = list(map(clean, dr.fieldnames)) \n",
    "    #create sql statement and execute \n",
    "    sql = f\"\"\"INSERT INTO allCountries ({\",\".join(fieldnames)}) \n",
    "            VALUES (?,?,?,?,?,?,?,?,?,?,?,?)\"\"\"    \n",
    "    c.executemany(sql, entries)\n",
    "    for row in c.execute(\"SELECT country FROM allCountries\").fetchall():\n",
    "        print(row)\n",
    "\n",
    "conn.commit()\n",
    "conn.close()"
   ]
  },
  {
   "cell_type": "markdown",
   "metadata": {},
   "source": [
    "1 - Print the top 20 countries by population - Output in millions."
   ]
  },
  {
   "cell_type": "code",
   "execution_count": 12,
   "metadata": {},
   "outputs": [
    {
     "output_type": "stream",
     "name": "stdout",
     "text": [
      "China  the population in mm is 1439.323776\nIndia  the population in mm is 1380.004385\nUnited States  the population in mm is 331.002651\nIndonesia  the population in mm is 273.523615\nPakistan  the population in mm is 220.89234\nBrazil  the population in mm is 212.559417\nNigeria  the population in mm is 206.139589\nBangladesh  the population in mm is 164.689383\nRussia  the population in mm is 145.934462\nMexico  the population in mm is 128.932753\nJapan  the population in mm is 126.476461\nEthiopia  the population in mm is 114.963588\nPhilippines  the population in mm is 109.581078\nEgypt  the population in mm is 102.334404\nVietnam  the population in mm is 97.338579\nDR Congo  the population in mm is 89.561403\nTurkey  the population in mm is 84.339067\nIran  the population in mm is 83.992949\nGermany  the population in mm is 83.783942\nThailand  the population in mm is 69.799978\n"
     ]
    }
   ],
   "source": [
    "import os\n",
    "import sqlite3\n",
    "\n",
    "conn = sqlite3.connect(\"World_populations.db\")\n",
    "c = conn.cursor()\n",
    "\n",
    "# c.execute(\"SELECT country, population FROM allCountries ORDER BY CAST(population as REAL) DESC LIMIT 20\")\n",
    "# countries = c.fetchall()\n",
    "# for country in countries:\n",
    "#     print(f\"{country[0]} - population in mm {float(country[1])/1000000}\")\n",
    "\n",
    "c.execute(\"SELECT country, population FROM allCountries\")\n",
    "countries = c.fetchall()\n",
    "sortedCountries = sorted(countries, key=lambda tup: float(tup[1]), reverse=True)\n",
    "for i in range (20):\n",
    "    print(f\"{sortedCountries[i][0]} the population in mm is {float(sortedCountries[i][1])/1000000}\" )\n",
    "\n",
    "\n",
    "conn.commit()\n",
    "conn.close()\n"
   ]
  },
  {
   "cell_type": "code",
   "execution_count": 5,
   "metadata": {},
   "outputs": [
    {
     "output_type": "stream",
     "name": "stdout",
     "text": [
      "7795232630\n"
     ]
    }
   ],
   "source": [
    "# 2 - What is the total world population\n",
    "\n",
    "# c.execute(\"SELECT population FROM allCountries\")\n",
    "# popCountries = c.fetchall()\n",
    "# totalPopulation = 0\n",
    "# for pop in popCountries:\n",
    "#     totalPopulation = totalPopulation + int(pop[0])\n",
    "# print(totalPopulation)\n",
    "\n",
    "c.execute(\"SELECT SUM(population) FROM allCountries\")\n",
    "totalPopulation = c.fetchone()\n",
    "print(totalPopulation[0])\n"
   ]
  },
  {
   "cell_type": "code",
   "execution_count": null,
   "metadata": {},
   "outputs": [],
   "source": [
    "7795232630"
   ]
  },
  {
   "cell_type": "markdown",
   "metadata": {},
   "source": [
    "3 - Top 10 countries by median age<br>"
   ]
  },
  {
   "cell_type": "code",
   "execution_count": 6,
   "metadata": {},
   "outputs": [
    {
     "output_type": "stream",
     "name": "stdout",
     "text": [
      "Japan  - median age 48.0\nMartinique  - median age 47.0\nItaly  - median age 47.0\nPortugal  - median age 46.0\nGreece  - median age 46.0\nGermany  - median age 46.0\nSlovenia  - median age 45.0\nLithuania  - median age 45.0\nBulgaria  - median age 45.0\nHong Kong  - median age 45.0\n"
     ]
    }
   ],
   "source": [
    "import os\n",
    "import sqlite3\n",
    "\n",
    "c.execute(\"SELECT country, Median_age FROM allCountries ORDER BY CAST(Median_age as REAL) DESC LIMIT 10\")\n",
    "countries = c.fetchall()\n",
    "for country in countries:\n",
    "    print(f\"{country[0]} - median age {float(country[1])}\")\n"
   ]
  },
  {
   "cell_type": "markdown",
   "metadata": {},
   "source": [
    "4 - Top 10 countries where people left<br>"
   ]
  },
  {
   "cell_type": "code",
   "execution_count": 17,
   "metadata": {},
   "outputs": [
    {
     "output_type": "stream",
     "name": "stdout",
     "text": [
      "Japan  - people who left -383840.0\nUkraine  - people who left -259876.0\nRomania  - people who left -126866.0\nItaly  - people who left -88249.0\nVenezuela  - people who left -79889.0\nPuerto Rico  - people who left -72555.0\nBulgaria  - people who left -51674.0\nGreece  - people who left -50401.0\nPoland  - people who left -41157.0\nLithuania  - people who left -37338.0\n"
     ]
    }
   ],
   "source": [
    "import os\n",
    "import sqlite3\n",
    "\n",
    "conn = sqlite3.connect(\"World_populations.db\")\n",
    "c = conn.cursor()\n",
    "\n",
    "c.execute(\"SELECT country, net_change FROM allCountries  ORDER BY CAST(net_change as REAL) ASC LIMIT 10\")\n",
    "countries = c.fetchall()\n",
    "for country in countries:\n",
    "    print(f\"{country[0]} - people who left {float(country[1])}\")"
   ]
  },
  {
   "cell_type": "code",
   "execution_count": null,
   "metadata": {},
   "outputs": [],
   "source": [
    "Japan - people who left -383840\n",
    "Ukraine - people who left -259876\n",
    "Romania - people who left -126866\n",
    "Italy - people who left -88249\n",
    "Venezuela - people who left -79889\n",
    "Puerto Rico - people who left -72555\n",
    "Bulgaria - people who left -51674\n",
    "Greece - people who left -50401\n",
    "Poland - people who left -41157\n",
    "Lithuania - people who left -37338"
   ]
  },
  {
   "cell_type": "markdown",
   "metadata": {},
   "source": [
    "5 - Top 10 countries who took in migrants<br>"
   ]
  },
  {
   "cell_type": "code",
   "execution_count": 8,
   "metadata": {},
   "outputs": [
    {
     "output_type": "stream",
     "name": "stdout",
     "text": [
      "United States  - migrants 954806\nGermany  - migrants 543822\nTurkey  - migrants 283922\nUnited Kingdom  - migrants 260650\nCanada  - migrants 242032\nColombia  - migrants 204796\nRussia  - migrants 182456\nUganda  - migrants 168694\nAustralia  - migrants 158246\nItaly  - migrants 148943\n"
     ]
    }
   ],
   "source": [
    "import os\n",
    "import sqlite3\n",
    "\n",
    "\n",
    "c.execute(\"SELECT country, migrants FROM allCountries ORDER BY CAST(migrants as REAL) DESC LIMIT 10\")\n",
    "countries = c.fetchall()\n",
    "for country in countries:\n",
    "    print(f\"{country[0]} - migrants {int(country[1])}\")"
   ]
  },
  {
   "cell_type": "code",
   "execution_count": null,
   "metadata": {},
   "outputs": [],
   "source": [
    "United States - migrants 954806\n",
    "Germany - migrants 543822\n",
    "Turkey - migrants 283922\n",
    "United Kingdom - migrants 260650\n",
    "Canada - migrants 242032\n",
    "Colombia - migrants 204796\n",
    "Russia - migrants 182456\n",
    "Uganda - migrants 168694\n",
    "Australia - migrants 158246\n",
    "Italy - migrants 148943"
   ]
  },
  {
   "cell_type": "markdown",
   "metadata": {},
   "source": [
    "6 - Which countries with a population less than 10 million had the largest year_change pct<br>"
   ]
  },
  {
   "cell_type": "code",
   "execution_count": 1,
   "metadata": {},
   "outputs": [],
   "source": [
    "import os\n",
    "import sqlite3\n",
    "\n",
    "conn = sqlite3.connect(\"World_populations.db\")\n",
    "c = conn.cursor()\n",
    "\n",
    "c.execute('''SELECT country, population, year_change FROM allCountries WHERE population < 10000000 ORDER BY year_change DESC LIMIT 10''')\n",
    "rows = c.fetchall()\n",
    "for row in rows:\n",
    "    print(f'{row[0]} - year change {row[2]} - population - {row[1]}') \n",
    "conn.close()\n",
    "\n"
   ]
  },
  {
   "cell_type": "markdown",
   "metadata": {},
   "source": [
    "<h2>Exercise</h2>\n",
    "Find the position of the 2 character string '20' \n",
    "in the following:\n",
    "<br>\n",
    "<code>\n",
    "stringOfNumbers = '32040230213340205020112'\n",
    "</code>"
   ]
  },
  {
   "cell_type": "markdown",
   "metadata": {},
   "source": [
    "<h4>Solution</h4>"
   ]
  },
  {
   "cell_type": "code",
   "execution_count": 159,
   "metadata": {},
   "outputs": [
    {
     "output_type": "stream",
     "name": "stdout",
     "text": [
      "There are 3 - 20's found in the following positions [1, 14, 18]\n"
     ]
    }
   ],
   "source": [
    "stringOfNumbers = '32040230213340205020112'\n",
    "position = []\n",
    "length = len(stringOfNumbers)\n",
    "for i in range (length-1):\n",
    "    if (stringOfNumbers[i] == \"2\" and stringOfNumbers[i+1] == \"0\"):\n",
    "        position.append(i)\n",
    "numberOf20s = len(position)\n",
    "print(f\"There are {numberOf20s} - 20's found in the following positions {position}\")\n",
    "             \n"
   ]
  },
  {
   "cell_type": "code",
   "execution_count": null,
   "metadata": {},
   "outputs": [],
   "source": [
    "1 20\n",
    "2 20\n",
    "3 20\n",
    "There are 3 - 20's found in the following positions [1, 14, 18]"
   ]
  },
  {
   "cell_type": "markdown",
   "metadata": {},
   "source": [
    "This notebook is part of a course at www.codeimmersives.com called SQL-NOSQL. If you accessed this notebook outside the course, you can get more information about this course online by clicking here."
   ]
  },
  {
   "cell_type": "code",
   "execution_count": null,
   "metadata": {},
   "outputs": [],
   "source": [
    "# in class problem / HW \n",
    "# G7 countries Canada, France, Germany, Italy, Japan, the UK and the United States\n",
    "# 1)total number of migrants from G7 nations, 2) total ratio of G7 against total intake of migrants (What percentage?)"
   ]
  },
  {
   "cell_type": "code",
   "execution_count": 11,
   "metadata": {},
   "outputs": [
    {
     "output_type": "error",
     "ename": "TypeError",
     "evalue": "unsupported operand type(s) for -: 'int' and 'NoneType'",
     "traceback": [
      "\u001b[0;31m---------------------------------------------------------------------------\u001b[0m",
      "\u001b[0;31mTypeError\u001b[0m                                 Traceback (most recent call last)",
      "\u001b[0;32m<ipython-input-11-0dcc72d9fc22>\u001b[0m in \u001b[0;36m<module>\u001b[0;34m\u001b[0m\n\u001b[1;32m     11\u001b[0m \u001b[0mc\u001b[0m\u001b[0;34m.\u001b[0m\u001b[0mexecute\u001b[0m\u001b[0;34m(\u001b[0m\u001b[0;34m\"\"\"select sum(migrants) from allCountries where migrants > 0\"\"\"\u001b[0m\u001b[0;34m)\u001b[0m\u001b[0;34m\u001b[0m\u001b[0;34m\u001b[0m\u001b[0m\n\u001b[1;32m     12\u001b[0m \u001b[0mtotal_migrants_world_wide\u001b[0m \u001b[0;34m=\u001b[0m  \u001b[0mc\u001b[0m\u001b[0;34m.\u001b[0m\u001b[0mfetchone\u001b[0m\u001b[0;34m(\u001b[0m\u001b[0;34m)\u001b[0m\u001b[0;34m[\u001b[0m\u001b[0;36m0\u001b[0m\u001b[0;34m]\u001b[0m\u001b[0;34m\u001b[0m\u001b[0;34m\u001b[0m\u001b[0m\n\u001b[0;32m---> 13\u001b[0;31m \u001b[0mtotal_migrants_rest_of_world\u001b[0m \u001b[0;34m=\u001b[0m \u001b[0mtotal_migrants_world_wide\u001b[0m \u001b[0;34m-\u001b[0m \u001b[0mtotal_g7_migrants\u001b[0m\u001b[0;34m\u001b[0m\u001b[0;34m\u001b[0m\u001b[0m\n\u001b[0m\u001b[1;32m     14\u001b[0m \u001b[0;31m#total_migrants_rest_of_world_ratio = 100 - round((total_g7_migrants/total_migrants_world_wide)*100,2)\u001b[0m\u001b[0;34m\u001b[0m\u001b[0;34m\u001b[0m\u001b[0;34m\u001b[0m\u001b[0m\n\u001b[1;32m     15\u001b[0m \u001b[0mprint\u001b[0m\u001b[0;34m(\u001b[0m\u001b[0;34mf\"Percentage of migrants G7 takes {round((total_g7_migrants/total_migrants_world_wide)*100,2)}\"\u001b[0m\u001b[0;34m)\u001b[0m\u001b[0;34m\u001b[0m\u001b[0;34m\u001b[0m\u001b[0m\n",
      "\u001b[0;31mTypeError\u001b[0m: unsupported operand type(s) for -: 'int' and 'NoneType'"
     ]
    }
   ],
   "source": [
    "import os\n",
    "import sqlite3\n",
    "\n",
    "conn = sqlite3.connect(\"World_populations.db\")\n",
    "c = conn.cursor()\n",
    "\n",
    "\n",
    "countries = ('Canada', 'France','Germany','Italy','United States','United Kingdom','Japan')\n",
    "c.execute(\"\"\"select sum(migrants) from allCountries where country in {0} and migrants > 0\"\"\".format(countries))\n",
    "total_g7_migrants = c.fetchone()[0]\n",
    "c.execute(\"\"\"select sum(migrants) from allCountries where migrants > 0\"\"\")\n",
    "total_migrants_world_wide =  c.fetchone()[0]\n",
    "total_migrants_rest_of_world = total_migrants_world_wide - total_g7_migrants\n",
    "#total_migrants_rest_of_world_ratio = 100 - round((total_g7_migrants/total_migrants_world_wide)*100,2) \n",
    "print(f\"Percentage of migrants G7 takes {round((total_g7_migrants/total_migrants_world_wide)*100,2)}\")\n",
    "print(f\"Percentage of migrants the rest of the world takes {round((total_migrants_rest_of_world/total_migrants_world_wide)*100,2)}\")\n",
    "\n",
    "for country in countries:\n",
    "    c.execute(\"\"\"select sum(migrants) from allCountries where country = '{0}' and migrants > 0\"\"\".format(country))\n",
    "    g_country_count = c.fetchone()[0]\n",
    "    print(f\"Percentage of migrants {country} takes: { round((g_country_count/total_g7_migrants)*100,2 ) }\")"
   ]
  },
  {
   "cell_type": "markdown",
   "metadata": {},
   "source": [
    "<hr>\n",
    "\n",
    "Copyright &copy; 2021  Code Immersives"
   ]
  }
 ],
 "metadata": {
  "kernelspec": {
   "name": "python3",
   "display_name": "Python 3.9.5 64-bit"
  },
  "language_info": {
   "codemirror_mode": {
    "name": "ipython",
    "version": 3
   },
   "file_extension": ".py",
   "mimetype": "text/x-python",
   "name": "python",
   "nbconvert_exporter": "python",
   "pygments_lexer": "ipython3",
   "version": "3.9.5"
  },
  "interpreter": {
   "hash": "b0fa6594d8f4cbf19f97940f81e996739fb7646882a419484c72d19e05852a7e"
  }
 },
 "nbformat": 4,
 "nbformat_minor": 4
}