{
 "cells": [
  {
   "cell_type": "markdown",
   "metadata": {},
   "source": [
    "<a href=\"https://codeimmersives.com\"><img src = \"https://www.codeimmersives.com/wp-content/uploads/2019/09/CodeImmersives_Logo_RGB_NYC_BW.png\" width = 400> </a>\n",
    "\n",
    "\n",
    "<h1 align=center><font size = 5>Agenda</font></h1>"
   ]
  },
  {
   "cell_type": "code",
   "execution_count": null,
   "metadata": {},
   "outputs": [],
   "source": []
  },
  {
   "cell_type": "code",
   "execution_count": null,
   "metadata": {},
   "outputs": [],
   "source": []
  },
  {
   "cell_type": "markdown",
   "metadata": {},
   "source": [
    "<h2>Iteration</h2>\n",
    "There are at least 4 ways of iterate over the following data structures:<br>\n",
    "strings<br>\n",
    "lists<br>\n",
    "tuples<br>\n",
    "dictionaries<br>"
   ]
  },
  {
   "cell_type": "markdown",
   "metadata": {},
   "source": [
    "<h2>METHOD 1 - Using the range object</h2>\n",
    "This is the least favorable method of iterating over an object if one of the <br>\n",
    "other methods are available."
   ]
  },
  {
   "cell_type": "markdown",
   "metadata": {},
   "source": [
    "<h4>A string</h4>\n",
    "To iterate over the following string - type:<br>\n",
    "<code>\n",
    "phrase = 'Python is a great programming language'\n",
    "for i in range(len(phrase)):\n",
    "    print(phrase[i], end=',')   # <==== Indexing used to access the elements\n",
    "print()\n",
    "</code><br>\n",
    "In order to access the elements of the string you must use indexing!!!!"
   ]
  },
  {
   "cell_type": "code",
   "execution_count": 2,
   "metadata": {},
   "outputs": [
    {
     "name": "stdout",
     "output_type": "stream",
     "text": [
      "P,y,t,h,o,n, ,i,s, ,a, ,g,r,e,a,t, ,p,r,o,g,r,a,m,m,i,n,g, ,l,a,n,g,u,a,g,e,\n"
     ]
    }
   ],
   "source": [
    "phrase = 'Python is a great programming language'\n",
    "#python converts strings in character arrays\n",
    "#str.toCharArray()\n",
    "for i in range(len(phrase)):\n",
    "    print(phrase[i], end=',')   # <==== Indexing used to access the elements \n",
    "print()"
   ]
  },
  {
   "cell_type": "markdown",
   "metadata": {},
   "source": [
    "<h4>A list and tuple</h4>\n",
    "<code>\n",
    "a_lst = ['A','B','C','D','E','F']\n",
    "a_tpl = ('oranges','apples','pears','grapes','kiwi')\n",
    "\n",
    "\"\"\"iterate\"\"\"\n",
    "for i in range(len(a_lst)):\n",
    "    print(a_lst[i], end=',')   # <==== Indexing used to access the elements \n",
    "                                           \n",
    "for i in range(len(a_tpl)):\n",
    "    print(a_tpl[i], end=',')   # <==== Indexing used to access the elements                                                                          \n",
    "</code>"
   ]
  },
  {
   "cell_type": "code",
   "execution_count": 4,
   "metadata": {},
   "outputs": [
    {
     "name": "stdout",
     "output_type": "stream",
     "text": [
      "A,B,C,D,E,F,\n",
      "oranges,apples,pears,grapes,kiwi,\n"
     ]
    }
   ],
   "source": [
    "a_lst = ['A','B','C','D','E','F']\n",
    "a_tpl = ('oranges','apples','pears','grapes','kiwi')\n",
    "\n",
    "for i in range(len(a_lst)):\n",
    "    print(a_lst[i], end=',')   # <==== Indexing used to access the elements \n",
    "print()                                           \n",
    "for i in range(len(a_tpl)):\n",
    "    print(a_tpl[i], end=',')   # <==== Indexing used to access the elements\n",
    "print()"
   ]
  },
  {
   "cell_type": "markdown",
   "metadata": {},
   "source": [
    "<h4>Side Note - Create a dictionary from 2 lists</h4>\n",
    "You can create a dictionary from 2 lists by using the <br>\n",
    "zip and dict functions.  See below:<br>\n",
    "<code>\n",
    "a_lst = range(100,106)\n",
    "a_tpl = ('oranges','apples','pears','grapes','kiwi')\n",
    "a_dict = zip(a_lst,a_tpl)  # <=== Create a zip object\n",
    "print(a_dict)\n",
    "print(type(a_dict))\n",
    "a_dict = dict(a_dict)      # <==== converts the zip object to a dictionary\n",
    "print('='*35)\n",
    "print(a_dict)\n",
    "print(type(a_dict))\n",
    "</code>"
   ]
  },
  {
   "cell_type": "code",
   "execution_count": 2,
   "metadata": {},
   "outputs": [
    {
     "name": "stdout",
     "output_type": "stream",
     "text": [
      "[(100, 'oranges'), (101, 'apples'), (102, 'pears'), (103, 'grapes'), (104, 'kiwi')]\n",
      "[(100, 'oranges'), (101, 'apples'), (102, 'pears'), (103, 'grapes'), (104, 'kiwi')]\n",
      "<class 'zip'>\n",
      "===================================\n",
      "{}\n",
      "<class 'dict'>\n"
     ]
    }
   ],
   "source": [
    "a_lst = range(100,105)\n",
    "a_tpl = ('oranges','apples','pears','grapes','kiwi')\n",
    "a_tpl2 = ('oranges','apples','pears','grapes','kiwi', 'grapefruit')\n",
    "#zip both lists have to be the same length\n",
    "a_dict = zip(a_lst,a_tpl)\n",
    "a_dict2 = zip(a_lst,a_tpl2)\n",
    "print(list(a_dict))\n",
    "print(list(a_dict2))\n",
    "print(type(a_dict))\n",
    "a_dict = dict(a_dict)\n",
    "print('='*35)\n",
    "print(a_dict)\n",
    "print(type(a_dict))"
   ]
  },
  {
   "cell_type": "markdown",
   "metadata": {},
   "source": [
    "<h4>A dictionary</h4>\n",
    "If the keys are numeric values you can iterate over a dictionary using a range<br>\n",
    "object.  Only if the keys are values that can be produced by the range object<br>\n",
    "<br>\n",
    "<code>\n",
    "a_lst = range(100,105)\n",
    "a_tpl = ('oranges','apples','pears','grapes','kiwi')\n",
    "a_dict = zip(a_lst,a_tpl)\n",
    "\n",
    "\"\"\"iterate\"\"\"\n",
    "for i in range(100,100+len(a_dict)):\n",
    "    print(a_dict[i], end=',')   # <==== Indexing used to access the keys \n",
    "</code>"
   ]
  },
  {
   "cell_type": "code",
   "execution_count": 23,
   "metadata": {},
   "outputs": [
    {
     "name": "stdout",
     "output_type": "stream",
     "text": [
      "oranges\n",
      "100 oranges,101 apples,102 pears,103 grapes,104 kiwi,"
     ]
    }
   ],
   "source": [
    "#just make sure they are the same length\n",
    "a_lst = range(100,105)\n",
    "a_tpl = ('oranges','apples','pears','grapes','kiwi')\n",
    "a_dict = dict(zip(a_lst,a_tpl))\n",
    "\n",
    "print(a_dict[100])\n",
    "\"\"\"iterate\"\"\"\n",
    "for i in range(100,100+len(a_dict)):\n",
    "    print(i,a_dict[i], end=',')   # <==== Indexing used to access the keys "
   ]
  },
  {
   "cell_type": "markdown",
   "metadata": {},
   "source": [
    "\n",
    "\n",
    "\n",
    "<h2>METHOD 2 - The in operator</h2>"
   ]
  },
  {
   "cell_type": "markdown",
   "metadata": {},
   "source": [
    "You can use the in operator to iterate over the 4 data structures<br>\n",
    "<code>\n",
    "phrase = 'Python is a great programming language'      # <=== String\n",
    "a_lst = ['A','B','C','D','E','F']                      # <=== list\n",
    "a_tpl = ('oranges','apples','pears','grapes','kiwi')   # <=== tuple\n",
    "a_dict = {'011X':'4K TV',\n",
    "         '023B':'Air fryer',\n",
    "         '99AB': 'Instapot'}                           # <=== dictionary\n",
    "\n",
    "print('String '+'*'*15)\n",
    "for i in phrase:   # <=== String\n",
    "    print(i, end = ',')\n",
    "print()\n",
    "#\n",
    "print('List '+'*'*15)\n",
    "for i in a_lst:   # <=== list\n",
    "    print(i, end = ',')\n",
    "print()\n",
    "#\n",
    "print('Tuple '+'*'*15)\n",
    "for i in a_tpl:   # <=== Tuple\n",
    "    print(i, end = ',')\n",
    "print()\n",
    "#\n",
    "print('Dictionary '+'*'*15)\n",
    "for k,v in a_dict.items():   # <=== dictionary\n",
    "    print(f'They key is {k}, The value is {v}')\n",
    "print()\n",
    "#\n",
    "</code>"
   ]
  },
  {
   "cell_type": "code",
   "execution_count": 3,
   "metadata": {},
   "outputs": [
    {
     "name": "stdout",
     "output_type": "stream",
     "text": [
      "String ***************\n",
      "P,y,t,h,o,n, ,i,s, ,a, ,g,r,e,a,t, ,p,r,o,g,r,a,m,m,i,n,g, ,l,a,n,g,u,a,g,e,\n",
      "List ***************\n",
      "A,B,C,D,E,F,\n",
      "Tuple ***************\n",
      "oranges,apples,pears,grapes,kiwi,\n",
      "Dictionary ***************\n",
      "They key is 011X, The value is 4K TV\n",
      "They key is 023B, The value is Air fryer\n",
      "They key is 99AB, The value is Instapot\n",
      "\n"
     ]
    }
   ],
   "source": [
    "phrase = 'Python is a great programming language'      # <=== String\n",
    "a_lst = ['A','B','C','D','E','F']                      # <=== list\n",
    "a_tpl = ('oranges','apples','pears','grapes','kiwi')   # <=== tuple\n",
    "a_dict = {'011X':'4K TV',\n",
    "         '023B':'Air fryer',\n",
    "         '99AB': 'Instapot'}                           # <=== dictionary\n",
    "\n",
    "print('String '+'*'*15)\n",
    "for i in phrase:   # <=== String\n",
    "    print(i, end = ',')\n",
    "print()\n",
    "#\n",
    "print('List '+'*'*15)\n",
    "for i in a_lst:   # <=== list\n",
    "    print(i, end = ',')\n",
    "print()\n",
    "#\n",
    "print('Tuple '+'*'*15)\n",
    "for i in a_tpl:   # <=== Tuple\n",
    "    print(i, end = ',')\n",
    "print()\n",
    "#\n",
    "print('Dictionary '+'*'*15)\n",
    "for k,v in a_dict.items():   # <=== dictionary\n",
    "    print(f'They key is {k}, The value is {v}')\n",
    "print()"
   ]
  },
  {
   "cell_type": "markdown",
   "metadata": {},
   "source": [
    "<h2>METHOD 3 - Enumerate</h2>\n",
    "We use enumerate when it is necessary to have the index of the item as<br>\n",
    "we iterate over it.\n",
    "<code>\n",
    "phrase = 'Python is a great programming language'      # <=== String\n",
    "a_lst = ['A','B','C','D','E','F']                      # <=== list\n",
    "a_tpl = ('oranges','apples','pears','grapes','kiwi')   # <=== tuple\n",
    "a_dict = {'011X':'4K TV',\n",
    "         '023B':'Air fryer',\n",
    "         '99AB': 'Instapot'}                           # <=== dictionary\n",
    "\n",
    "print('String '+'*'*15)\n",
    "for i,char in enumerate(phrase):   # <=== String\n",
    "    print(f'The character at index {i} is {char}')\n",
    "print()\n",
    "#\n",
    "print('List '+'*'*15)\n",
    "for i,item in enumerate(a_lst):   # <=== list\n",
    "    print(f'The character at index {i} is {item}')\n",
    "print()\n",
    "#\n",
    "print('Tuple '+'*'*15)\n",
    "for i,item in enumerate(a_tpl):   # <=== Tuple\n",
    "    print(f'The item at index {i} is {item}')\n",
    "print()\n",
    "#\n",
    "print('Dictionary '+'*'*15)\n",
    "for i,val in enumerate(a_dict):   # <=== dictionary ****\n",
    "    print(f'The index is {i}, The key is {val}')\n",
    "print()\n",
    "</code>\n",
    "<br>\n",
    "<br>\n",
    "NOTE: We can enumerate over a dictionary.  When we unpack the return from<br>\n",
    "the enumeration it gives us the index and the keys back.  Use the key to obtain<br>\n",
    "the values."
   ]
  },
  {
   "cell_type": "code",
   "execution_count": 6,
   "metadata": {},
   "outputs": [
    {
     "name": "stdout",
     "output_type": "stream",
     "text": [
      "String ***************\n",
      "The character at index 0 is P\n",
      "The character at index 1 is y\n",
      "The character at index 2 is t\n",
      "The character at index 3 is h\n",
      "The character at index 4 is o\n",
      "The character at index 5 is n\n",
      "The character at index 6 is  \n",
      "The character at index 7 is i\n",
      "The character at index 8 is s\n",
      "The character at index 9 is  \n",
      "The character at index 10 is a\n",
      "The character at index 11 is  \n",
      "The character at index 12 is g\n",
      "The character at index 13 is r\n",
      "The character at index 14 is e\n",
      "The character at index 15 is a\n",
      "The character at index 16 is t\n",
      "The character at index 17 is  \n",
      "The character at index 18 is p\n",
      "The character at index 19 is r\n",
      "The character at index 20 is o\n",
      "The character at index 21 is g\n",
      "The character at index 22 is r\n",
      "The character at index 23 is a\n",
      "The character at index 24 is m\n",
      "The character at index 25 is m\n",
      "The character at index 26 is i\n",
      "The character at index 27 is n\n",
      "The character at index 28 is g\n",
      "The character at index 29 is  \n",
      "The character at index 30 is l\n",
      "The character at index 31 is a\n",
      "The character at index 32 is n\n",
      "The character at index 33 is g\n",
      "The character at index 34 is u\n",
      "The character at index 35 is a\n",
      "The character at index 36 is g\n",
      "The character at index 37 is e\n",
      "\n",
      "string starts with P\n",
      "List ***************\n",
      "The character at index 0 is A\n",
      "The character at index 1 is B\n",
      "The character at index 2 is C\n",
      "The character at index 3 is D\n",
      "The character at index 4 is E\n",
      "The character at index 5 is F\n",
      "\n",
      "Tuple ***************\n",
      "The item at index 0 is oranges\n",
      "The item at index 1 is apples\n",
      "The item at index 2 is pears\n",
      "The item at index 3 is grapes\n",
      "The item at index 4 is kiwi\n",
      "\n",
      "Dictionary ***************\n",
      "The index is 0, The key is 011X\n",
      "The index is 1, The key is 023B\n",
      "The index is 2, The key is 99AB\n",
      "\n"
     ]
    }
   ],
   "source": [
    "phrase = 'Python is a great programming language'      # <=== String\n",
    "a_lst = ['A','B','C','D','E','F']                      # <=== list\n",
    "a_tpl = ('oranges','apples','pears','grapes','kiwi')   # <=== tuple\n",
    "a_dict = {'011X':'4K TV',\n",
    "         '023B':'Air fryer',\n",
    "         '99AB': 'Instapot'}                           # <=== dictionary\n",
    "\n",
    "print('String '+'*'*15)\n",
    "for i,char in enumerate(phrase):   # <=== String\n",
    "    print(f'The character at index {i} is {char}')\n",
    "print()\n",
    "\n",
    "for index, char in enumerate(phrase):\n",
    "    if char == 'P' and index == 0:\n",
    "        print(\"string starts with P\")\n",
    "#\n",
    "print('List '+'*'*15)\n",
    "for i,item in enumerate(a_lst):   # <=== list\n",
    "    print(f'The character at index {i} is {item}')\n",
    "print()\n",
    "#\n",
    "print('Tuple '+'*'*15)\n",
    "for i,item in enumerate(a_tpl):   # <=== Tuple\n",
    "    print(f'The item at index {i} is {item}')\n",
    "print()\n",
    "#\n",
    "print('Dictionary '+'*'*15)\n",
    "for i,val in enumerate(a_dict):   # <=== dictionary ****\n",
    "    print(f'The index is {i}, The key is {val}')\n",
    "print()\n"
   ]
  },
  {
   "cell_type": "markdown",
   "metadata": {},
   "source": [
    "<h2>Exercise</h2>\n",
    "You have 2 lists that are related.  The first is the chapters in a python book<br>\n",
    "The 2nd list is the name of the chapter or subject. <br>\n",
    "Iterate over both lists at 1 time and print the chapter name and the subject matter on 1 line<br>\n",
    "<code>\n",
    "chapters = ['Chapter 1','Chapter 2','Chapter 3','Chapter 4','Chapter 5']\n",
    "subject = ['Declaring variables','Data structures','Iteration','List comprehension',\n",
    "    'Object Oriented programming']\n",
    "</code>\n",
    "<br>"
   ]
  },
  {
   "cell_type": "markdown",
   "metadata": {},
   "source": [
    "<h4>Solution</h4>"
   ]
  },
  {
   "cell_type": "code",
   "execution_count": 12,
   "metadata": {},
   "outputs": [
    {
     "name": "stdout",
     "output_type": "stream",
     "text": [
      "['Chapter', 'Chapter', 'Chapter', 'Chapter', 'Chapter']\n",
      "Chapter 1-Declaring variables\n",
      "Chapter 2-Data structures\n",
      "Chapter 3-Iteration\n",
      "Chapter 4-List comprehension\n",
      "Chapter 5-Object Oriented programming\n"
     ]
    }
   ],
   "source": [
    "#chapters = ['Chapter 1','Chapter 2','Chapter 3','Chapter 4','Chapter 5']\n",
    "subject = ['Declaring variables','Data structures','Iteration','List comprehension',\n",
    "    'Object Oriented programming']\n",
    "\n",
    "chapters2 = ['Chapter' for i in range(5)]\n",
    "print(chapters2)\n",
    "\n",
    "\n",
    "for i,item in enumerate(chapters2):\n",
    "    print(f'{item} {i + 1}-{subject[i]}')\n",
    "            \n",
    "#problem: add back chapter numbers"
   ]
  },
  {
   "cell_type": "code",
   "execution_count": 14,
   "metadata": {},
   "outputs": [
    {
     "name": "stdout",
     "output_type": "stream",
     "text": [
      "['Chapter', 'Chapter', 'Chapter', 'Chapter', 'Chapter']\n",
      "[0, 2, 4]\n"
     ]
    }
   ],
   "source": [
    "from itertools import repeat\n",
    "print(list(repeat(\"Chapter\",5)))\n",
    "\n",
    "\n"
   ]
  },
  {
   "cell_type": "markdown",
   "metadata": {},
   "source": [
    "# Practice problems with enumerate \n",
    "## 1) write a list comprehension that  prints all even numbers up to n \n",
    "## 2) write a list comprehension that  prints all odd numbers up to n\n",
    "\n",
    "\n",
    "\n",
    "\n"
   ]
  },
  {
   "cell_type": "code",
   "execution_count": 23,
   "metadata": {},
   "outputs": [
    {
     "name": "stdout",
     "output_type": "stream",
     "text": [
      "char a is at an even index\n",
      "char b is at an odd index\n",
      "char c is at an even index\n",
      "char d is at an odd index\n",
      "char e is at an even index\n",
      "char f is at an odd index\n",
      "char g is at an even index\n",
      "char h is at an odd index\n",
      "char i is at an even index\n",
      "char j is at an odd index\n",
      "char k is at an even index\n",
      "char l is at an odd index\n",
      "char m is at an even index\n",
      "char n is at an odd index\n",
      "char o is at an even index\n",
      "char p is at an odd index\n",
      "char q is at an even index\n",
      "char r is at an odd index\n",
      "char s is at an even index\n",
      "char t is at an odd index\n",
      "char u is at an even index\n",
      "char v is at an odd index\n",
      "char w is at an even index\n",
      "char x is at an odd index\n",
      "char y is at an even index\n",
      "char z is at an odd index\n",
      "char A is at an even index\n",
      "char B is at an odd index\n",
      "char C is at an even index\n",
      "char D is at an odd index\n",
      "char E is at an even index\n",
      "char F is at an odd index\n",
      "char G is at an even index\n",
      "char H is at an odd index\n",
      "char I is at an even index\n",
      "char J is at an odd index\n",
      "char K is at an even index\n",
      "char L is at an odd index\n",
      "char M is at an even index\n",
      "char N is at an odd index\n",
      "char O is at an even index\n",
      "char P is at an odd index\n",
      "char Q is at an even index\n",
      "char R is at an odd index\n",
      "char S is at an even index\n",
      "char T is at an odd index\n",
      "char U is at an even index\n",
      "char V is at an odd index\n",
      "char W is at an even index\n",
      "char X is at an odd index\n",
      "char Y is at an even index\n",
      "char Z is at an odd index\n",
      "['a', 'c', 'e', 'g', 'i', 'k', 'm', 'o', 'q', 's', 'u', 'w', 'y', 'A', 'C', 'E', 'G', 'I', 'K', 'M', 'O', 'Q', 'S', 'U', 'W', 'Y']\n",
      "[0, 2, 4, 6, 8]\n"
     ]
    }
   ],
   "source": [
    "import string\n",
    "\n",
    "letters = string.ascii_letters\n",
    "\n",
    "#print out all the letters and even indicies \n",
    "#print out all the letters at odd indicies \n",
    "#using enumerate \n",
    "\n",
    "for index, char in enumerate(letters):\n",
    "    if index % 2 == 0:\n",
    "        print(f\"char {char} is at an even index\")\n",
    "    else:\n",
    "        print(f\"char {char} is at an odd index\")\n",
    "        \n",
    "letters_at_even_positions = [char for index, char in enumerate(letters) if index % 2 == 0 ]\n",
    "print(letters_at_even_positions)\n",
    "letters_at_odd_positions = [char for index, char in enumerate(letters) if index % 2 == 1 ]\n",
    "\n",
    "print(even)"
   ]
  },
  {
   "cell_type": "code",
   "execution_count": null,
   "metadata": {},
   "outputs": [],
   "source": []
  },
  {
   "cell_type": "markdown",
   "metadata": {},
   "source": [
    "This notebook is part of a course at www.codeimmersives.com . If you accessed this notebook outside the course, you can get more information about this course online by clicking here."
   ]
  },
  {
   "cell_type": "markdown",
   "metadata": {},
   "source": [
    "<hr>\n",
    "\n",
    "Copyright &copy; 2021  Code Immersives"
   ]
  }
 ],
 "metadata": {
  "kernelspec": {
   "display_name": "Python 3",
   "language": "python",
   "name": "python3"
  },
  "language_info": {
   "codemirror_mode": {
    "name": "ipython",
    "version": 3
   },
   "file_extension": ".py",
   "mimetype": "text/x-python",
   "name": "python",
   "nbconvert_exporter": "python",
   "pygments_lexer": "ipython3",
   "version": "3.9.5"
  }
 },
 "nbformat": 4,
 "nbformat_minor": 4
}