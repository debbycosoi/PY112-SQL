{
 "cells": [
  {
   "cell_type": "code",
   "execution_count": 5,
   "metadata": {},
   "outputs": [
    {
     "output_type": "stream",
     "name": "stdout",
     "text": [
      "('Luís', 1, 'Brazil')\n('Leonie', 2, 'Germany')\n('François', 3, 'Canada')\n('Bjørn', 4, 'Norway')\n('František', 5, 'Czech Republic')\n('Helena', 6, 'Czech Republic')\n('Astrid', 7, 'Austria')\n('Daan', 8, 'Belgium')\n('Kara', 9, 'Denmark')\n('Eduardo', 10, 'Brazil')\n('Alexandre', 11, 'Brazil')\n('Roberto', 12, 'Brazil')\n('Fernanda', 13, 'Brazil')\n('Mark', 14, 'Canada')\n('Jennifer', 15, 'Canada')\n('Robert', 29, 'Canada')\n('Edward', 30, 'Canada')\n('Martha', 31, 'Canada')\n('Aaron', 32, 'Canada')\n('Ellie', 33, 'Canada')\n('João', 34, 'Portugal')\n('Madalena', 35, 'Portugal')\n('Hannah', 36, 'Germany')\n('Fynn', 37, 'Germany')\n('Niklas', 38, 'Germany')\n('Camille', 39, 'France')\n('Dominique', 40, 'France')\n('Marc', 41, 'France')\n('Wyatt', 42, 'France')\n('Isabelle', 43, 'France')\n('Terhi', 44, 'Finland')\n('Ladislav', 45, 'Hungary')\n('Hugh', 46, 'Ireland')\n('Lucas', 47, 'Italy')\n('Johannes', 48, 'Netherlands')\n('Stanisław', 49, 'Poland')\n('Enrique', 50, 'Spain')\n('Joakim', 51, 'Sweden')\n('Emma', 52, 'United Kingdom')\n('Phil', 53, 'United Kingdom')\n('Steve', 54, 'United Kingdom')\n('Mark', 55, 'Australia')\n('Diego', 56, 'Argentina')\n('Luis', 57, 'Chile')\n('Manoj', 58, 'India')\n('Puja', 59, 'India')\n"
     ]
    }
   ],
   "source": [
    "# 1) Provide a query showing Customers (just their full names, customer ID and country) who are not in the US.\n",
    "import mysql.connector\n",
    "from dotenv import dotenv_values\n",
    "\n",
    "mydb = mysql.connector.connect(\n",
    "  host='localhost',\n",
    "  user='root',\n",
    "  password='arito 123',\n",
    "  database='Chinook'\n",
    ")\n",
    "\n",
    "mycursor = mydb.cursor()\n",
    "\n",
    "mycursor.execute('''\n",
    "SELECT FirstName, CustomerId, Country\n",
    "FROM Customer\n",
    "WHERE Country != \"USA\";\n",
    "''')\n",
    "\n",
    "# mycursor.execute('''\n",
    "# SELECT DISTINCT country from Customer;\n",
    "# ''')\n",
    "\n",
    "for x in mycursor:\n",
    "  print(x)\n",
    "mydb.close()\n",
    "\n"
   ]
  },
  {
   "cell_type": "code",
   "execution_count": 8,
   "metadata": {},
   "outputs": [
    {
     "output_type": "stream",
     "name": "stdout",
     "text": [
      "(1, 'Luís', 'Gonçalves', 'Embraer - Empresa Brasileira de Aeronáutica S.A.', 'Av. Brigadeiro Faria Lima, 2170', 'São José dos Campos', 'SP', 'Brazil', '12227-000', '+55 (12) 3923-5555', '+55 (12) 3923-5566', 'luisg@embraer.com.br', 3)\n(10, 'Eduardo', 'Martins', 'Woodstock Discos', 'Rua Dr. Falcão Filho, 155', 'São Paulo', 'SP', 'Brazil', '01007-010', '+55 (11) 3033-5446', '+55 (11) 3033-4564', 'eduardo@woodstock.com.br', 4)\n(11, 'Alexandre', 'Rocha', 'Banco do Brasil S.A.', 'Av. Paulista, 2022', 'São Paulo', 'SP', 'Brazil', '01310-200', '+55 (11) 3055-3278', '+55 (11) 3055-8131', 'alero@uol.com.br', 5)\n(12, 'Roberto', 'Almeida', 'Riotur', 'Praça Pio X, 119', 'Rio de Janeiro', 'RJ', 'Brazil', '20040-020', '+55 (21) 2271-7000', '+55 (21) 2271-7070', 'roberto.almeida@riotur.gov.br', 3)\n(13, 'Fernanda', 'Ramos', None, 'Qe 7 Bloco G', 'Brasília', 'DF', 'Brazil', '71020-677', '+55 (61) 3363-5547', '+55 (61) 3363-7855', 'fernadaramos4@uol.com.br', 4)\n"
     ]
    }
   ],
   "source": [
    "# 2) Provide a query only showing the Customers from Brazil.\n",
    "import mysql.connector\n",
    "from dotenv import dotenv_values\n",
    "\n",
    "mydb = mysql.connector.connect(\n",
    "  host='localhost',\n",
    "  user='root',\n",
    "  password='arito 123',\n",
    "  database='Chinook'\n",
    ")\n",
    "\n",
    "mycursor = mydb.cursor()\n",
    "\n",
    "mycursor.execute('''\n",
    "SELECT *\n",
    "FROM Customer\n",
    "WHERE Country = \"Brazil\";\n",
    "''')\n",
    "\n",
    "# mycursor.execute('''\n",
    "# SELECT DISTINCT country from Customer;\n",
    "# ''')\n",
    "\n",
    "for x in mycursor:\n",
    "  print(x)\n",
    "mydb.close()"
   ]
  },
  {
   "cell_type": "code",
   "execution_count": 1,
   "metadata": {},
   "outputs": [
    {
     "output_type": "stream",
     "name": "stdout",
     "text": [
      "(1, 'Luís', 'Gonçalves', 'Embraer - Empresa Brasileira de Aeronáutica S.A.', 'Av. Brigadeiro Faria Lima, 2170', 'São José dos Campos', 'SP', 'Brazil', '12227-000', '+55 (12) 3923-5555', '+55 (12) 3923-5566', 'luisg@embraer.com.br', 3)\n(2, 'Leonie', 'Köhler', None, 'Theodor-Heuss-Straße 34', 'Stuttgart', None, 'Germany', '70174', '+49 0711 2842222', None, 'leonekohler@surfeu.de', 5)\n(3, 'François', 'Tremblay', None, '1498 rue Bélanger', 'Montréal', 'QC', 'Canada', 'H2G 1A7', '+1 (514) 721-4711', None, 'ftremblay@gmail.com', 3)\n(4, 'Bjørn', 'Hansen', None, 'Ullevålsveien 14', 'Oslo', None, 'Norway', '0171', '+47 22 44 22 22', None, 'bjorn.hansen@yahoo.no', 4)\n(5, 'František', 'Wichterlová', 'JetBrains s.r.o.', 'Klanova 9/506', 'Prague', None, 'Czech Republic', '14700', '+420 2 4172 5555', '+420 2 4172 5555', 'frantisekw@jetbrains.com', 4)\n(6, 'Helena', 'Holý', None, 'Rilská 3174/6', 'Prague', None, 'Czech Republic', '14300', '+420 2 4177 0449', None, 'hholy@gmail.com', 5)\n(7, 'Astrid', 'Gruber', None, 'Rotenturmstraße 4, 1010 Innere Stadt', 'Vienne', None, 'Austria', '1010', '+43 01 5134505', None, 'astrid.gruber@apple.at', 5)\n(8, 'Daan', 'Peeters', None, 'Grétrystraat 63', 'Brussels', None, 'Belgium', '1000', '+32 02 219 03 03', None, 'daan_peeters@apple.be', 4)\n(9, 'Kara', 'Nielsen', None, 'Sønder Boulevard 51', 'Copenhagen', None, 'Denmark', '1720', '+453 3331 9991', None, 'kara.nielsen@jubii.dk', 4)\n(10, 'Eduardo', 'Martins', 'Woodstock Discos', 'Rua Dr. Falcão Filho, 155', 'São Paulo', 'SP', 'Brazil', '01007-010', '+55 (11) 3033-5446', '+55 (11) 3033-4564', 'eduardo@woodstock.com.br', 4)\n==============================\n(1, 2, datetime.datetime(2009, 1, 1, 0, 0), 'Theodor-Heuss-Straße 34', 'Stuttgart', None, 'Germany', '70174', Decimal('1.98'))\n(2, 4, datetime.datetime(2009, 1, 2, 0, 0), 'Ullevålsveien 14', 'Oslo', None, 'Norway', '0171', Decimal('3.96'))\n(3, 8, datetime.datetime(2009, 1, 3, 0, 0), 'Grétrystraat 63', 'Brussels', None, 'Belgium', '1000', Decimal('5.94'))\n(4, 14, datetime.datetime(2009, 1, 6, 0, 0), '8210 111 ST NW', 'Edmonton', 'AB', 'Canada', 'T6G 2C7', Decimal('8.91'))\n(5, 23, datetime.datetime(2009, 1, 11, 0, 0), '69 Salem Street', 'Boston', 'MA', 'USA', '2113', Decimal('13.86'))\n(6, 37, datetime.datetime(2009, 1, 19, 0, 0), 'Berger Straße 10', 'Frankfurt', None, 'Germany', '60316', Decimal('0.99'))\n(7, 38, datetime.datetime(2009, 2, 1, 0, 0), 'Barbarossastraße 19', 'Berlin', None, 'Germany', '10779', Decimal('1.98'))\n(8, 40, datetime.datetime(2009, 2, 1, 0, 0), '8, Rue Hanovre', 'Paris', None, 'France', '75002', Decimal('1.98'))\n(9, 42, datetime.datetime(2009, 2, 2, 0, 0), '9, Place Louis Barthou', 'Bordeaux', None, 'France', '33000', Decimal('3.96'))\n(10, 46, datetime.datetime(2009, 2, 3, 0, 0), '3 Chatham Street', 'Dublin', 'Dublin', 'Ireland', None, Decimal('5.94'))\n==============================\n('Luís', 'Gonçalves', 98, datetime.datetime(2010, 3, 11, 0, 0), 'Brazil')\n('Luís', 'Gonçalves', 121, datetime.datetime(2010, 6, 13, 0, 0), 'Brazil')\n('Luís', 'Gonçalves', 143, datetime.datetime(2010, 9, 15, 0, 0), 'Brazil')\n('Luís', 'Gonçalves', 195, datetime.datetime(2011, 5, 6, 0, 0), 'Brazil')\n('Luís', 'Gonçalves', 316, datetime.datetime(2012, 10, 27, 0, 0), 'Brazil')\n('Luís', 'Gonçalves', 327, datetime.datetime(2012, 12, 7, 0, 0), 'Brazil')\n('Luís', 'Gonçalves', 382, datetime.datetime(2013, 8, 7, 0, 0), 'Brazil')\n('Leonie', 'Köhler', 1, datetime.datetime(2009, 1, 1, 0, 0), 'Germany')\n('Leonie', 'Köhler', 12, datetime.datetime(2009, 2, 11, 0, 0), 'Germany')\n('Leonie', 'Köhler', 67, datetime.datetime(2009, 10, 12, 0, 0), 'Germany')\n"
     ]
    }
   ],
   "source": [
    "# 3) Provide a query showing the Invoices of customers who are from Brazil. The resultant table should show the customer's full name, Invoice ID, Date of the invoice and billing country.\n",
    "\n",
    "import mysql.connector\n",
    "from dotenv import dotenv_values\n",
    "\n",
    "mydb = mysql.connector.connect(\n",
    "  host='localhost',\n",
    "  user='root',\n",
    "  password='arito 123',\n",
    "  database='Chinook'\n",
    ")\n",
    "\n",
    "mycursor = mydb.cursor()\n",
    "\n",
    "mycursor.execute(\"SELECT * FROM Customer LIMIT 10\")\n",
    "for x in mycursor:\n",
    "  print(x)\n",
    "print(\"=\" * 30)\n",
    "\n",
    "mycursor.execute(\"SELECT * FROM Invoice LIMIT 10\")\n",
    "for x in mycursor:\n",
    "  print(x)\n",
    "print(\"=\" * 30)\n",
    "\n",
    "mycursor.execute('''\n",
    "SELECT a.FirstName, a.LastName, b.InvoiceID, b.InvoiceDate, b.BillingCountry\n",
    "FROM Customer AS a\n",
    "INNER JOIN Invoice AS b\n",
    "ON a.CustomerId = b.CustomerId\n",
    "LIMIT 10\n",
    "''')\n",
    "for x in mycursor:\n",
    "    print(x)\n",
    "\n",
    "\n",
    "mydb.close()"
   ]
  },
  {
   "cell_type": "code",
   "execution_count": 1,
   "metadata": {},
   "outputs": [
    {
     "output_type": "stream",
     "name": "stdout",
     "text": [
      "(3, 'Peacock', 'Jane', 'Sales Support Agent', 2, datetime.datetime(1973, 8, 29, 0, 0), datetime.datetime(2002, 4, 1, 0, 0), '1111 6 Ave SW', 'Calgary', 'AB', 'Canada', 'T2P 5M5', '+1 (403) 262-3443', '+1 (403) 262-6712', 'jane@chinookcorp.com')\n(4, 'Park', 'Margaret', 'Sales Support Agent', 2, datetime.datetime(1947, 9, 19, 0, 0), datetime.datetime(2003, 5, 3, 0, 0), '683 10 Street SW', 'Calgary', 'AB', 'Canada', 'T2P 5G3', '+1 (403) 263-4423', '+1 (403) 263-4289', 'margaret@chinookcorp.com')\n(5, 'Johnson', 'Steve', 'Sales Support Agent', 2, datetime.datetime(1965, 3, 3, 0, 0), datetime.datetime(2003, 10, 17, 0, 0), '7727B 41 Ave', 'Calgary', 'AB', 'Canada', 'T3B 1Y7', '1 (780) 836-9987', '1 (780) 836-9543', 'steve@chinookcorp.com')\n"
     ]
    }
   ],
   "source": [
    "# 4) Provide a query showing only the Employees who are Sales Agents.\n",
    "import mysql.connector\n",
    "from dotenv import dotenv_values\n",
    "\n",
    "mydb = mysql.connector.connect(\n",
    "  host='localhost',\n",
    "  user='root',\n",
    "  password='arito 123',\n",
    "  database='Chinook'\n",
    ")\n",
    "\n",
    "mycursor = mydb.cursor()\n",
    "\n",
    "mycursor.execute('''\n",
    "SELECT *\n",
    "FROM Employee\n",
    "WHERE Title = \"Sales Support Agent\";\n",
    "''')\n",
    "\n",
    "\n",
    "for x in mycursor:\n",
    "  print(x)\n",
    "mydb.close()"
   ]
  },
  {
   "cell_type": "code",
   "execution_count": 8,
   "metadata": {},
   "outputs": [
    {
     "output_type": "stream",
     "name": "stdout",
     "text": [
      "[('Germany',), ('Norway',), ('Belgium',), ('Canada',), ('USA',), ('France',), ('Ireland',), ('United Kingdom',), ('Australia',), ('Chile',), ('India',), ('Brazil',), ('Portugal',), ('Netherlands',), ('Spain',), ('Sweden',), ('Czech Republic',), ('Finland',), ('Denmark',), ('Italy',), ('Poland',), ('Austria',), ('Hungary',), ('Argentina',)]\n"
     ]
    },
    {
     "output_type": "error",
     "ename": "AttributeError",
     "evalue": "'tuple' object has no attribute 'values'",
     "traceback": [
      "\u001b[0;31m---------------------------------------------------------------------------\u001b[0m",
      "\u001b[0;31mAttributeError\u001b[0m                            Traceback (most recent call last)",
      "\u001b[0;32m<ipython-input-8-548ec17c7ebc>\u001b[0m in \u001b[0;36m<module>\u001b[0;34m\u001b[0m\n\u001b[1;32m     27\u001b[0m \u001b[0mclean\u001b[0m \u001b[0;34m=\u001b[0m \u001b[0;32mlambda\u001b[0m \u001b[0mx\u001b[0m\u001b[0;34m:\u001b[0m \u001b[0mx\u001b[0m\u001b[0;34m.\u001b[0m\u001b[0mreplace\u001b[0m\u001b[0;34m(\u001b[0m\u001b[0;34m\"'\"\u001b[0m\u001b[0;34m,\u001b[0m \u001b[0;34m\"\"\u001b[0m\u001b[0;34m)\u001b[0m\u001b[0;34m\u001b[0m\u001b[0;34m\u001b[0m\u001b[0m\n\u001b[1;32m     28\u001b[0m \u001b[0mcleanComma\u001b[0m \u001b[0;34m=\u001b[0m  \u001b[0mclean\u001b[0m \u001b[0;34m=\u001b[0m \u001b[0;32mlambda\u001b[0m \u001b[0mx\u001b[0m\u001b[0;34m:\u001b[0m \u001b[0mx\u001b[0m\u001b[0;34m.\u001b[0m\u001b[0mreplace\u001b[0m\u001b[0;34m(\u001b[0m\u001b[0;34m\",\"\u001b[0m\u001b[0;34m,\u001b[0m \u001b[0;34m\"\"\u001b[0m\u001b[0;34m)\u001b[0m\u001b[0;34m\u001b[0m\u001b[0;34m\u001b[0m\u001b[0m\n\u001b[0;32m---> 29\u001b[0;31m \u001b[0mentries\u001b[0m \u001b[0;34m=\u001b[0m \u001b[0;34m[\u001b[0m\u001b[0mtuple\u001b[0m\u001b[0;34m(\u001b[0m\u001b[0mmap\u001b[0m\u001b[0;34m(\u001b[0m\u001b[0mclean\u001b[0m\u001b[0;34m,\u001b[0m \u001b[0mentry\u001b[0m\u001b[0;34m.\u001b[0m\u001b[0mvalues\u001b[0m\u001b[0;34m(\u001b[0m\u001b[0;34m)\u001b[0m\u001b[0;34m)\u001b[0m\u001b[0;34m)\u001b[0m \u001b[0;32mfor\u001b[0m \u001b[0mentry\u001b[0m \u001b[0;32min\u001b[0m \u001b[0mbillingCount\u001b[0m\u001b[0;34m]\u001b[0m\u001b[0;34m\u001b[0m\u001b[0;34m\u001b[0m\u001b[0m\n\u001b[0m\u001b[1;32m     30\u001b[0m \u001b[0mfieldnames\u001b[0m \u001b[0;34m=\u001b[0m \u001b[0mlist\u001b[0m\u001b[0;34m(\u001b[0m\u001b[0mmap\u001b[0m\u001b[0;34m(\u001b[0m\u001b[0mclean\u001b[0m\u001b[0;34m,\u001b[0m \u001b[0mbillingCount\u001b[0m\u001b[0;34m)\u001b[0m\u001b[0;34m)\u001b[0m\u001b[0;34m\u001b[0m\u001b[0;34m\u001b[0m\u001b[0m\n\u001b[1;32m     31\u001b[0m \u001b[0;34m\u001b[0m\u001b[0m\n",
      "\u001b[0;32m<ipython-input-8-548ec17c7ebc>\u001b[0m in \u001b[0;36m<listcomp>\u001b[0;34m(.0)\u001b[0m\n\u001b[1;32m     27\u001b[0m \u001b[0mclean\u001b[0m \u001b[0;34m=\u001b[0m \u001b[0;32mlambda\u001b[0m \u001b[0mx\u001b[0m\u001b[0;34m:\u001b[0m \u001b[0mx\u001b[0m\u001b[0;34m.\u001b[0m\u001b[0mreplace\u001b[0m\u001b[0;34m(\u001b[0m\u001b[0;34m\"'\"\u001b[0m\u001b[0;34m,\u001b[0m \u001b[0;34m\"\"\u001b[0m\u001b[0;34m)\u001b[0m\u001b[0;34m\u001b[0m\u001b[0;34m\u001b[0m\u001b[0m\n\u001b[1;32m     28\u001b[0m \u001b[0mcleanComma\u001b[0m \u001b[0;34m=\u001b[0m  \u001b[0mclean\u001b[0m \u001b[0;34m=\u001b[0m \u001b[0;32mlambda\u001b[0m \u001b[0mx\u001b[0m\u001b[0;34m:\u001b[0m \u001b[0mx\u001b[0m\u001b[0;34m.\u001b[0m\u001b[0mreplace\u001b[0m\u001b[0;34m(\u001b[0m\u001b[0;34m\",\"\u001b[0m\u001b[0;34m,\u001b[0m \u001b[0;34m\"\"\u001b[0m\u001b[0;34m)\u001b[0m\u001b[0;34m\u001b[0m\u001b[0;34m\u001b[0m\u001b[0m\n\u001b[0;32m---> 29\u001b[0;31m \u001b[0mentries\u001b[0m \u001b[0;34m=\u001b[0m \u001b[0;34m[\u001b[0m\u001b[0mtuple\u001b[0m\u001b[0;34m(\u001b[0m\u001b[0mmap\u001b[0m\u001b[0;34m(\u001b[0m\u001b[0mclean\u001b[0m\u001b[0;34m,\u001b[0m \u001b[0mentry\u001b[0m\u001b[0;34m.\u001b[0m\u001b[0mvalues\u001b[0m\u001b[0;34m(\u001b[0m\u001b[0;34m)\u001b[0m\u001b[0;34m)\u001b[0m\u001b[0;34m)\u001b[0m \u001b[0;32mfor\u001b[0m \u001b[0mentry\u001b[0m \u001b[0;32min\u001b[0m \u001b[0mbillingCount\u001b[0m\u001b[0;34m]\u001b[0m\u001b[0;34m\u001b[0m\u001b[0;34m\u001b[0m\u001b[0m\n\u001b[0m\u001b[1;32m     30\u001b[0m \u001b[0mfieldnames\u001b[0m \u001b[0;34m=\u001b[0m \u001b[0mlist\u001b[0m\u001b[0;34m(\u001b[0m\u001b[0mmap\u001b[0m\u001b[0;34m(\u001b[0m\u001b[0mclean\u001b[0m\u001b[0;34m,\u001b[0m \u001b[0mbillingCount\u001b[0m\u001b[0;34m)\u001b[0m\u001b[0;34m)\u001b[0m\u001b[0;34m\u001b[0m\u001b[0;34m\u001b[0m\u001b[0m\n\u001b[1;32m     31\u001b[0m \u001b[0;34m\u001b[0m\u001b[0m\n",
      "\u001b[0;31mAttributeError\u001b[0m: 'tuple' object has no attribute 'values'"
     ]
    }
   ],
   "source": [
    "# 5) Provide a query showing a unique list of billing countries from the Invoice table.\n",
    "import mysql.connector\n",
    "from dotenv import dotenv_values\n",
    "\n",
    "mydb = mysql.connector.connect(\n",
    "  host='localhost',\n",
    "  user='root',\n",
    "  password='arito 123',\n",
    "  database='Chinook'\n",
    ")\n",
    "\n",
    "mycursor = mydb.cursor()\n",
    "\n",
    "mycursor.execute('''\n",
    "SELECT DISTINCT BillingCountry\n",
    "FROM Invoice;\n",
    "''')\n",
    "\n",
    "billingCount = []\n",
    "for x in mycursor:\n",
    "  billingCount.append(x)\n",
    "print(billingCount)\n",
    "clean = lambda x: x.replace(\"'\", \"\")\n",
    "cleanComma =  clean = lambda x: x.replace(\",\", \"\")\n",
    "entries = [tuple(map(clean, entry.values())) for entry in billingCount]\n",
    "fieldnames = list(map(clean, billingCount)) \n",
    "\n",
    "mydb.close()"
   ]
  },
  {
   "cell_type": "code",
   "execution_count": 11,
   "metadata": {},
   "outputs": [
    {
     "output_type": "stream",
     "name": "stdout",
     "text": [
      "(1, 'Luís', 'Gonçalves', 'Embraer - Empresa Brasileira de Aeronáutica S.A.', 'Av. Brigadeiro Faria Lima, 2170', 'São José dos Campos', 'SP', 'Brazil', '12227-000', '+55 (12) 3923-5555', '+55 (12) 3923-5566', 'luisg@embraer.com.br', 3)\n(2, 'Leonie', 'Köhler', None, 'Theodor-Heuss-Straße 34', 'Stuttgart', None, 'Germany', '70174', '+49 0711 2842222', None, 'leonekohler@surfeu.de', 5)\n(3, 'François', 'Tremblay', None, '1498 rue Bélanger', 'Montréal', 'QC', 'Canada', 'H2G 1A7', '+1 (514) 721-4711', None, 'ftremblay@gmail.com', 3)\n(4, 'Bjørn', 'Hansen', None, 'Ullevålsveien 14', 'Oslo', None, 'Norway', '0171', '+47 22 44 22 22', None, 'bjorn.hansen@yahoo.no', 4)\n(5, 'František', 'Wichterlová', 'JetBrains s.r.o.', 'Klanova 9/506', 'Prague', None, 'Czech Republic', '14700', '+420 2 4172 5555', '+420 2 4172 5555', 'frantisekw@jetbrains.com', 4)\n(6, 'Helena', 'Holý', None, 'Rilská 3174/6', 'Prague', None, 'Czech Republic', '14300', '+420 2 4177 0449', None, 'hholy@gmail.com', 5)\n(7, 'Astrid', 'Gruber', None, 'Rotenturmstraße 4, 1010 Innere Stadt', 'Vienne', None, 'Austria', '1010', '+43 01 5134505', None, 'astrid.gruber@apple.at', 5)\n(8, 'Daan', 'Peeters', None, 'Grétrystraat 63', 'Brussels', None, 'Belgium', '1000', '+32 02 219 03 03', None, 'daan_peeters@apple.be', 4)\n(9, 'Kara', 'Nielsen', None, 'Sønder Boulevard 51', 'Copenhagen', None, 'Denmark', '1720', '+453 3331 9991', None, 'kara.nielsen@jubii.dk', 4)\n(10, 'Eduardo', 'Martins', 'Woodstock Discos', 'Rua Dr. Falcão Filho, 155', 'São Paulo', 'SP', 'Brazil', '01007-010', '+55 (11) 3033-5446', '+55 (11) 3033-4564', 'eduardo@woodstock.com.br', 4)\n==============================\n(1, 2, datetime.datetime(2009, 1, 1, 0, 0), 'Theodor-Heuss-Straße 34', 'Stuttgart', None, 'Germany', '70174', Decimal('1.98'))\n(2, 4, datetime.datetime(2009, 1, 2, 0, 0), 'Ullevålsveien 14', 'Oslo', None, 'Norway', '0171', Decimal('3.96'))\n(3, 8, datetime.datetime(2009, 1, 3, 0, 0), 'Grétrystraat 63', 'Brussels', None, 'Belgium', '1000', Decimal('5.94'))\n(4, 14, datetime.datetime(2009, 1, 6, 0, 0), '8210 111 ST NW', 'Edmonton', 'AB', 'Canada', 'T6G 2C7', Decimal('8.91'))\n(5, 23, datetime.datetime(2009, 1, 11, 0, 0), '69 Salem Street', 'Boston', 'MA', 'USA', '2113', Decimal('13.86'))\n(6, 37, datetime.datetime(2009, 1, 19, 0, 0), 'Berger Straße 10', 'Frankfurt', None, 'Germany', '60316', Decimal('0.99'))\n(7, 38, datetime.datetime(2009, 2, 1, 0, 0), 'Barbarossastraße 19', 'Berlin', None, 'Germany', '10779', Decimal('1.98'))\n(8, 40, datetime.datetime(2009, 2, 1, 0, 0), '8, Rue Hanovre', 'Paris', None, 'France', '75002', Decimal('1.98'))\n(9, 42, datetime.datetime(2009, 2, 2, 0, 0), '9, Place Louis Barthou', 'Bordeaux', None, 'France', '33000', Decimal('3.96'))\n(10, 46, datetime.datetime(2009, 2, 3, 0, 0), '3 Chatham Street', 'Dublin', 'Dublin', 'Ireland', None, Decimal('5.94'))\n==============================\n('Luís', 'Gonçalves', 98, datetime.datetime(2010, 3, 11, 0, 0), 'Brazil', Decimal('3.98'))\n('Luís', 'Gonçalves', 121, datetime.datetime(2010, 6, 13, 0, 0), 'Brazil', Decimal('3.96'))\n('Luís', 'Gonçalves', 143, datetime.datetime(2010, 9, 15, 0, 0), 'Brazil', Decimal('5.94'))\n('Luís', 'Gonçalves', 195, datetime.datetime(2011, 5, 6, 0, 0), 'Brazil', Decimal('0.99'))\n('Luís', 'Gonçalves', 316, datetime.datetime(2012, 10, 27, 0, 0), 'Brazil', Decimal('1.98'))\n('Luís', 'Gonçalves', 327, datetime.datetime(2012, 12, 7, 0, 0), 'Brazil', Decimal('13.86'))\n('Luís', 'Gonçalves', 382, datetime.datetime(2013, 8, 7, 0, 0), 'Brazil', Decimal('8.91'))\n('Eduardo', 'Martins', 25, datetime.datetime(2009, 4, 9, 0, 0), 'Brazil', Decimal('8.91'))\n('Eduardo', 'Martins', 154, datetime.datetime(2010, 11, 14, 0, 0), 'Brazil', Decimal('1.98'))\n('Eduardo', 'Martins', 177, datetime.datetime(2011, 2, 16, 0, 0), 'Brazil', Decimal('3.96'))\n"
     ]
    }
   ],
   "source": [
    "# 6) Provide a query showing the invoices of customers who are from Brazil.\n",
    "from dotenv import dotenv_values\n",
    "\n",
    "mydb = mysql.connector.connect(\n",
    "  host='localhost',\n",
    "  user='root',\n",
    "  password='arito 123',\n",
    "  database='Chinook'\n",
    ")\n",
    "\n",
    "mycursor = mydb.cursor()\n",
    "\n",
    "mycursor.execute(\"SELECT * FROM Customer LIMIT 10\")\n",
    "for x in mycursor:\n",
    "  print(x)\n",
    "print(\"=\" * 30)\n",
    "\n",
    "mycursor.execute(\"SELECT * FROM Invoice LIMIT 10\")\n",
    "for x in mycursor:\n",
    "  print(x)\n",
    "print(\"=\" * 30)\n",
    "\n",
    "mycursor.execute('''\n",
    "SELECT a.FirstName, a.LastName, b.InvoiceID, b.InvoiceDate, b.BillingCountry, b.Total\n",
    "FROM Customer AS a\n",
    "INNER JOIN Invoice AS b\n",
    "ON a.CustomerId = b.CustomerId\n",
    "WHERE Country = \"Brazil\"\n",
    "LIMIT 10\n",
    "''')\n",
    "\n",
    "for x in mycursor:\n",
    "  print(x)\n",
    "mydb.close()"
   ]
  },
  {
   "cell_type": "code",
   "execution_count": null,
   "metadata": {},
   "outputs": [],
   "source": [
    "# 7) Provide a query that shows the invoices associated with each sales agent. The resultant table should include the Sales Agent's full name.\n",
    "# from dotenv import dotenv_values\n",
    "\n",
    "# mydb = mysql.connector.connect(\n",
    "#   host='localhost',\n",
    "#   user='root',\n",
    "#   password='arito 123',\n",
    "#   database='Chinook'\n",
    "# )\n",
    "\n",
    "# mycursor = mydb.cursor()\n",
    "\n",
    "# mycursor.execute(\"SELECT * FROM Employee LIMIT 10\")\n",
    "# for x in mycursor:\n",
    "#   print(x)\n",
    "# print(\"=\" * 30)\n",
    "\n",
    "# mycursor.execute(\"SELECT * FROM Invoice LIMIT 10\")\n",
    "# for x in mycursor:\n",
    "#   print(x)\n",
    "# print(\"=\" * 30)\n",
    "\n",
    "# mycursor.execute('''\n",
    "# SELECT a.FirstName, a.LastName, b.InvoiceID, b.InvoiceDate, b.BillingCountry, b.Total\n",
    "# FROM Customer AS a\n",
    "# INNER JOIN Invoice AS b\n",
    "# ON a.EmployeeID = b.CustomerId\n",
    "# LIMIT 10\n",
    "# ''')\n",
    "\n",
    "# for x in mycursor:\n",
    "#   print(x)\n",
    "# mydb.close()"
   ]
  },
  {
   "cell_type": "code",
   "execution_count": null,
   "metadata": {},
   "outputs": [],
   "source": [
    "# 8) Provide a query that shows the Invoice Total, Customer name, Country and Sale Agent name for all invoices and customers."
   ]
  },
  {
   "cell_type": "code",
   "execution_count": 23,
   "metadata": {},
   "outputs": [
    {
     "output_type": "stream",
     "name": "stdout",
     "text": [
      "(83, Decimal('449.46'))\n(83, Decimal('469.58'))\n"
     ]
    }
   ],
   "source": [
    "# 9) How many Invoices were there in 2009 and 2011? What are the respective total sales for each of those years?\n",
    "import mysql.connector\n",
    "from dotenv import dotenv_values\n",
    "\n",
    "mydb = mysql.connector.connect(\n",
    "  host='localhost',\n",
    "  user='root',\n",
    "  password='arito 123',\n",
    "  database='Chinook'\n",
    ")\n",
    "\n",
    "mycursor = mydb.cursor()\n",
    "\n",
    "mycursor.execute('''\n",
    "SELECT COUNT(InvoiceId), SUM(Total)\n",
    "FROM Invoice\n",
    "WHERE YEAR(InvoiceDate) = \"2009\";\n",
    "''')\n",
    "\n",
    "for x in mycursor:\n",
    "  print(x)\n",
    "\n",
    "mycursor.execute('''\n",
    "SELECT COUNT(Total), SUM(Total)\n",
    "FROM Invoice\n",
    "WHERE YEAR(InvoiceDate) = \"2011\";\n",
    "''')\n",
    "\n",
    "\n",
    "for x in mycursor:\n",
    "  print(x)\n",
    "mydb.close()"
   ]
  },
  {
   "cell_type": "code",
   "execution_count": 42,
   "metadata": {},
   "outputs": [
    {
     "output_type": "stream",
     "name": "stdout",
     "text": [
      "(37, 4)\n"
     ]
    }
   ],
   "source": [
    "# 10) Looking at the InvoiceLine table, provide a query that COUNTs the number of line items for Invoice ID 37.\n",
    "import mysql.connector\n",
    "from dotenv import dotenv_values\n",
    "\n",
    "mydb = mysql.connector.connect(\n",
    "  host='localhost',\n",
    "  user='root',\n",
    "  password='arito 123',\n",
    "  database='Chinook'\n",
    ")\n",
    "\n",
    "mycursor = mydb.cursor()\n",
    "\n",
    "mycursor.execute('''\n",
    "SELECT InvoiceId, COUNT(Quantity)\n",
    "FROM InvoiceLine\n",
    "WHERE InvoiceId = \"37\";\n",
    "''')\n",
    "\n",
    "\n",
    "for x in mycursor:\n",
    "  print(x)\n",
    "mydb.close()\n"
   ]
  },
  {
   "cell_type": "code",
   "execution_count": 40,
   "metadata": {},
   "outputs": [
    {
     "output_type": "stream",
     "name": "stdout",
     "text": [
      "(1, 2)\n(2, 4)\n(3, 6)\n(4, 9)\n(5, 14)\n(6, 1)\n(7, 2)\n(8, 2)\n(9, 4)\n(10, 6)\n(11, 9)\n(12, 14)\n(13, 1)\n(14, 2)\n(15, 2)\n(16, 4)\n(17, 6)\n(18, 9)\n(19, 14)\n(20, 1)\n(21, 2)\n(22, 2)\n(23, 4)\n(24, 6)\n(25, 9)\n(26, 14)\n(27, 1)\n(28, 2)\n(29, 2)\n(30, 4)\n(31, 6)\n(32, 9)\n(33, 14)\n(34, 1)\n(35, 2)\n(36, 2)\n(37, 4)\n(38, 6)\n(39, 9)\n(40, 14)\n(41, 1)\n(42, 2)\n(43, 2)\n(44, 4)\n(45, 6)\n(46, 9)\n(47, 14)\n(48, 1)\n(49, 2)\n(50, 2)\n(51, 4)\n(52, 6)\n(53, 9)\n(54, 14)\n(55, 1)\n(56, 2)\n(57, 2)\n(58, 4)\n(59, 6)\n(60, 9)\n(61, 14)\n(62, 1)\n(63, 2)\n(64, 2)\n(65, 4)\n(66, 6)\n(67, 9)\n(68, 14)\n(69, 1)\n(70, 2)\n(71, 2)\n(72, 4)\n(73, 6)\n(74, 9)\n(75, 14)\n(76, 1)\n(77, 2)\n(78, 2)\n(79, 4)\n(80, 6)\n(81, 9)\n(82, 14)\n(83, 1)\n(84, 2)\n(85, 2)\n(86, 4)\n(87, 6)\n(88, 9)\n(89, 14)\n(90, 1)\n(91, 2)\n(92, 2)\n(93, 4)\n(94, 6)\n(95, 9)\n(96, 14)\n(97, 1)\n(98, 2)\n(99, 2)\n(100, 4)\n(101, 6)\n(102, 9)\n(103, 14)\n(104, 1)\n(105, 2)\n(106, 2)\n(107, 4)\n(108, 6)\n(109, 9)\n(110, 14)\n(111, 1)\n(112, 2)\n(113, 2)\n(114, 4)\n(115, 6)\n(116, 9)\n(117, 14)\n(118, 1)\n(119, 2)\n(120, 2)\n(121, 4)\n(122, 6)\n(123, 9)\n(124, 14)\n(125, 1)\n(126, 2)\n(127, 2)\n(128, 4)\n(129, 6)\n(130, 9)\n(131, 14)\n(132, 1)\n(133, 2)\n(134, 2)\n(135, 4)\n(136, 6)\n(137, 9)\n(138, 14)\n(139, 1)\n(140, 2)\n(141, 2)\n(142, 4)\n(143, 6)\n(144, 9)\n(145, 14)\n(146, 1)\n(147, 2)\n(148, 2)\n(149, 4)\n(150, 6)\n(151, 9)\n(152, 14)\n(153, 1)\n(154, 2)\n(155, 2)\n(156, 4)\n(157, 6)\n(158, 9)\n(159, 14)\n(160, 1)\n(161, 2)\n(162, 2)\n(163, 4)\n(164, 6)\n(165, 9)\n(166, 14)\n(167, 1)\n(168, 2)\n(169, 2)\n(170, 4)\n(171, 6)\n(172, 9)\n(173, 14)\n(174, 1)\n(175, 2)\n(176, 2)\n(177, 4)\n(178, 6)\n(179, 9)\n(180, 14)\n(181, 1)\n(182, 2)\n(183, 2)\n(184, 4)\n(185, 6)\n(186, 9)\n(187, 14)\n(188, 1)\n(189, 2)\n(190, 2)\n(191, 4)\n(192, 6)\n(193, 9)\n(194, 14)\n(195, 1)\n(196, 2)\n(197, 2)\n(198, 4)\n(199, 6)\n(200, 9)\n(201, 14)\n(202, 1)\n(203, 2)\n(204, 2)\n(205, 4)\n(206, 6)\n(207, 9)\n(208, 14)\n(209, 1)\n(210, 2)\n(211, 2)\n(212, 4)\n(213, 6)\n(214, 9)\n(215, 14)\n(216, 1)\n(217, 2)\n(218, 2)\n(219, 4)\n(220, 6)\n(221, 9)\n(222, 14)\n(223, 1)\n(224, 2)\n(225, 2)\n(226, 4)\n(227, 6)\n(228, 9)\n(229, 14)\n(230, 1)\n(231, 2)\n(232, 2)\n(233, 4)\n(234, 6)\n(235, 9)\n(236, 14)\n(237, 1)\n(238, 2)\n(239, 2)\n(240, 4)\n(241, 6)\n(242, 9)\n(243, 14)\n(244, 1)\n(245, 2)\n(246, 2)\n(247, 4)\n(248, 6)\n(249, 9)\n(250, 14)\n(251, 1)\n(252, 2)\n(253, 2)\n(254, 4)\n(255, 6)\n(256, 9)\n(257, 14)\n(258, 1)\n(259, 2)\n(260, 2)\n(261, 4)\n(262, 6)\n(263, 9)\n(264, 14)\n(265, 1)\n(266, 2)\n(267, 2)\n(268, 4)\n(269, 6)\n(270, 9)\n(271, 14)\n(272, 1)\n(273, 2)\n(274, 2)\n(275, 4)\n(276, 6)\n(277, 9)\n(278, 14)\n(279, 1)\n(280, 2)\n(281, 2)\n(282, 4)\n(283, 6)\n(284, 9)\n(285, 14)\n(286, 1)\n(287, 2)\n(288, 2)\n(289, 4)\n(290, 6)\n(291, 9)\n(292, 14)\n(293, 1)\n(294, 2)\n(295, 2)\n(296, 4)\n(297, 6)\n(298, 9)\n(299, 14)\n(300, 1)\n(301, 2)\n(302, 2)\n(303, 4)\n(304, 6)\n(305, 9)\n(306, 14)\n(307, 1)\n(308, 2)\n(309, 2)\n(310, 4)\n(311, 6)\n(312, 9)\n(313, 14)\n(314, 1)\n(315, 2)\n(316, 2)\n(317, 4)\n(318, 6)\n(319, 9)\n(320, 14)\n(321, 1)\n(322, 2)\n(323, 2)\n(324, 4)\n(325, 6)\n(326, 9)\n(327, 14)\n(328, 1)\n(329, 2)\n(330, 2)\n(331, 4)\n(332, 6)\n(333, 9)\n(334, 14)\n(335, 1)\n(336, 2)\n(337, 2)\n(338, 4)\n(339, 6)\n(340, 9)\n(341, 14)\n(342, 1)\n(343, 2)\n(344, 2)\n(345, 4)\n(346, 6)\n(347, 9)\n(348, 14)\n(349, 1)\n(350, 2)\n(351, 2)\n(352, 4)\n(353, 6)\n(354, 9)\n(355, 14)\n(356, 1)\n(357, 2)\n(358, 2)\n(359, 4)\n(360, 6)\n(361, 9)\n(362, 14)\n(363, 1)\n(364, 2)\n(365, 2)\n(366, 4)\n(367, 6)\n(368, 9)\n(369, 14)\n(370, 1)\n(371, 2)\n(372, 2)\n(373, 4)\n(374, 6)\n(375, 9)\n(376, 14)\n(377, 1)\n(378, 2)\n(379, 2)\n(380, 4)\n(381, 6)\n(382, 9)\n(383, 14)\n(384, 1)\n(385, 2)\n(386, 2)\n(387, 4)\n(388, 6)\n(389, 9)\n(390, 14)\n(391, 1)\n(392, 2)\n(393, 2)\n(394, 4)\n(395, 6)\n(396, 9)\n(397, 14)\n(398, 1)\n(399, 2)\n(400, 2)\n(401, 4)\n(402, 6)\n(403, 9)\n(404, 14)\n(405, 1)\n(406, 2)\n(407, 2)\n(408, 4)\n(409, 6)\n(410, 9)\n(411, 14)\n(412, 1)\n"
     ]
    }
   ],
   "source": [
    "# 11) Looking at the InvoiceLine table, provide a query that COUNTs the number of line items for each Invoice. HINT: GROUP BY\n",
    "import mysql.connector\n",
    "from dotenv import dotenv_values\n",
    "\n",
    "mydb = mysql.connector.connect(\n",
    "  host='localhost',\n",
    "  user='root',\n",
    "  password='arito 123',\n",
    "  database='Chinook'\n",
    ")\n",
    "\n",
    "mycursor = mydb.cursor()\n",
    "\n",
    "mycursor.execute('''\n",
    "SELECT InvoiceId, COUNT(Quantity)\n",
    "FROM InvoiceLine\n",
    "GROUP BY InvoiceId;\n",
    "''')\n",
    "\n",
    "\n",
    "for x in mycursor:\n",
    "  print(x)\n",
    "mydb.close()"
   ]
  },
  {
   "cell_type": "code",
   "execution_count": 33,
   "metadata": {},
   "outputs": [
    {
     "output_type": "stream",
     "name": "stdout",
     "text": [
      "(1, 'For Those About To Rock (We Salute You)', 1, 1, 1, 'Angus Young, Malcolm Young, Brian Johnson', 343719, 11170334, Decimal('0.99'))\n(2, 'Balls to the Wall', 2, 2, 1, None, 342562, 5510424, Decimal('0.99'))\n(3, 'Fast As a Shark', 3, 2, 1, 'F. Baltes, S. Kaufman, U. Dirkscneider & W. Hoffman', 230619, 3990994, Decimal('0.99'))\n(4, 'Restless and Wild', 3, 2, 1, 'F. Baltes, R.A. Smith-Diesel, S. Kaufman, U. Dirkscneider & W. Hoffman', 252051, 4331779, Decimal('0.99'))\n(5, 'Princess of the Dawn', 3, 2, 1, 'Deaffy & R.A. Smith-Diesel', 375418, 6290521, Decimal('0.99'))\n(6, 'Put The Finger On You', 1, 1, 1, 'Angus Young, Malcolm Young, Brian Johnson', 205662, 6713451, Decimal('0.99'))\n(7, \"Let's Get It Up\", 1, 1, 1, 'Angus Young, Malcolm Young, Brian Johnson', 233926, 7636561, Decimal('0.99'))\n(8, 'Inject The Venom', 1, 1, 1, 'Angus Young, Malcolm Young, Brian Johnson', 210834, 6852860, Decimal('0.99'))\n(9, 'Snowballed', 1, 1, 1, 'Angus Young, Malcolm Young, Brian Johnson', 203102, 6599424, Decimal('0.99'))\n(10, 'Evil Walks', 1, 1, 1, 'Angus Young, Malcolm Young, Brian Johnson', 263497, 8611245, Decimal('0.99'))\n==============================\n(1, 1, 2, Decimal('0.99'), 1)\n(2, 1, 4, Decimal('0.99'), 1)\n(3, 2, 6, Decimal('0.99'), 1)\n(4, 2, 8, Decimal('0.99'), 1)\n(5, 2, 10, Decimal('0.99'), 1)\n(6, 2, 12, Decimal('0.99'), 1)\n(7, 3, 16, Decimal('0.99'), 1)\n(8, 3, 20, Decimal('0.99'), 1)\n(9, 3, 24, Decimal('0.99'), 1)\n(10, 3, 28, Decimal('0.99'), 1)\n==============================\n('Balls to the Wall', 1, 1, 2, Decimal('0.99'), 1)\n('Restless and Wild', 2, 1, 4, Decimal('0.99'), 1)\n('Put The Finger On You', 3, 2, 6, Decimal('0.99'), 1)\n('Inject The Venom', 4, 2, 8, Decimal('0.99'), 1)\n('Evil Walks', 5, 2, 10, Decimal('0.99'), 1)\n('Breaking The Rules', 6, 2, 12, Decimal('0.99'), 1)\n('Dog Eat Dog', 7, 3, 16, Decimal('0.99'), 1)\n('Overdose', 8, 3, 20, Decimal('0.99'), 1)\n('Love In An Elevator', 9, 3, 24, Decimal('0.99'), 1)\n(\"Janie's Got A Gun\", 10, 3, 28, Decimal('0.99'), 1)\n"
     ]
    }
   ],
   "source": [
    "# 12) Provide a query that includes the track name with each invoice line item.\n",
    "from dotenv import dotenv_values\n",
    "\n",
    "mydb = mysql.connector.connect(\n",
    "  host='localhost',\n",
    "  user='root',\n",
    "  password='arito 123',\n",
    "  database='Chinook'\n",
    ")\n",
    "\n",
    "mycursor = mydb.cursor()\n",
    "\n",
    "mycursor.execute(\"SELECT * FROM Track LIMIT 10\")\n",
    "for x in mycursor:\n",
    "  print(x)\n",
    "print(\"=\" * 30)\n",
    "\n",
    "mycursor.execute(\"SELECT * FROM InvoiceLine LIMIT 10\")\n",
    "for x in mycursor:\n",
    "  print(x)\n",
    "print(\"=\" * 30)\n",
    "\n",
    "mycursor.execute('''\n",
    "SELECT a.Name, b.InvoiceLineID, b.InvoiceID, b.TrackID, b.UnitPrice, b.Quantity\n",
    "FROM Track AS a\n",
    "INNER JOIN InvoiceLine AS b\n",
    "ON a.TrackId = b.TrackId\n",
    "LIMIT 10\n",
    "''')\n",
    "\n",
    "for x in mycursor:\n",
    "  print(x)\n",
    "mydb.close()"
   ]
  },
  {
   "cell_type": "code",
   "execution_count": 34,
   "metadata": {},
   "outputs": [
    {
     "output_type": "stream",
     "name": "stdout",
     "text": [
      "(1, 'For Those About To Rock (We Salute You)', 1, 1, 1, 'Angus Young, Malcolm Young, Brian Johnson', 343719, 11170334, Decimal('0.99'))\n(2, 'Balls to the Wall', 2, 2, 1, None, 342562, 5510424, Decimal('0.99'))\n(3, 'Fast As a Shark', 3, 2, 1, 'F. Baltes, S. Kaufman, U. Dirkscneider & W. Hoffman', 230619, 3990994, Decimal('0.99'))\n(4, 'Restless and Wild', 3, 2, 1, 'F. Baltes, R.A. Smith-Diesel, S. Kaufman, U. Dirkscneider & W. Hoffman', 252051, 4331779, Decimal('0.99'))\n(5, 'Princess of the Dawn', 3, 2, 1, 'Deaffy & R.A. Smith-Diesel', 375418, 6290521, Decimal('0.99'))\n(6, 'Put The Finger On You', 1, 1, 1, 'Angus Young, Malcolm Young, Brian Johnson', 205662, 6713451, Decimal('0.99'))\n(7, \"Let's Get It Up\", 1, 1, 1, 'Angus Young, Malcolm Young, Brian Johnson', 233926, 7636561, Decimal('0.99'))\n(8, 'Inject The Venom', 1, 1, 1, 'Angus Young, Malcolm Young, Brian Johnson', 210834, 6852860, Decimal('0.99'))\n(9, 'Snowballed', 1, 1, 1, 'Angus Young, Malcolm Young, Brian Johnson', 203102, 6599424, Decimal('0.99'))\n(10, 'Evil Walks', 1, 1, 1, 'Angus Young, Malcolm Young, Brian Johnson', 263497, 8611245, Decimal('0.99'))\n==============================\n(1, 1, 2, Decimal('0.99'), 1)\n(2, 1, 4, Decimal('0.99'), 1)\n(3, 2, 6, Decimal('0.99'), 1)\n(4, 2, 8, Decimal('0.99'), 1)\n(5, 2, 10, Decimal('0.99'), 1)\n(6, 2, 12, Decimal('0.99'), 1)\n(7, 3, 16, Decimal('0.99'), 1)\n(8, 3, 20, Decimal('0.99'), 1)\n(9, 3, 24, Decimal('0.99'), 1)\n(10, 3, 28, Decimal('0.99'), 1)\n==============================\n('Balls to the Wall', None, 1, 1, 2, Decimal('0.99'), 1)\n('Restless and Wild', 'F. Baltes, R.A. Smith-Diesel, S. Kaufman, U. Dirkscneider & W. Hoffman', 2, 1, 4, Decimal('0.99'), 1)\n('Put The Finger On You', 'Angus Young, Malcolm Young, Brian Johnson', 3, 2, 6, Decimal('0.99'), 1)\n('Inject The Venom', 'Angus Young, Malcolm Young, Brian Johnson', 4, 2, 8, Decimal('0.99'), 1)\n('Evil Walks', 'Angus Young, Malcolm Young, Brian Johnson', 5, 2, 10, Decimal('0.99'), 1)\n('Breaking The Rules', 'Angus Young, Malcolm Young, Brian Johnson', 6, 2, 12, Decimal('0.99'), 1)\n('Dog Eat Dog', 'AC/DC', 7, 3, 16, Decimal('0.99'), 1)\n('Overdose', 'AC/DC', 8, 3, 20, Decimal('0.99'), 1)\n('Love In An Elevator', 'Steven Tyler, Joe Perry', 9, 3, 24, Decimal('0.99'), 1)\n(\"Janie's Got A Gun\", 'Steven Tyler, Tom Hamilton', 10, 3, 28, Decimal('0.99'), 1)\n"
     ]
    }
   ],
   "source": [
    "# 13) Provide a query that includes the purchased track name AND artist name with each invoice line item.\n",
    "from dotenv import dotenv_values\n",
    "\n",
    "mydb = mysql.connector.connect(\n",
    "  host='localhost',\n",
    "  user='root',\n",
    "  password='arito 123',\n",
    "  database='Chinook'\n",
    ")\n",
    "\n",
    "mycursor = mydb.cursor()\n",
    "\n",
    "mycursor.execute(\"SELECT * FROM Track LIMIT 10\")\n",
    "for x in mycursor:\n",
    "  print(x)\n",
    "print(\"=\" * 30)\n",
    "\n",
    "mycursor.execute(\"SELECT * FROM InvoiceLine LIMIT 10\")\n",
    "for x in mycursor:\n",
    "  print(x)\n",
    "print(\"=\" * 30)\n",
    "\n",
    "mycursor.execute('''\n",
    "SELECT a.Name, a.Composer, b.InvoiceLineID, b.InvoiceID, b.TrackID, b.UnitPrice, b.Quantity\n",
    "FROM Track AS a\n",
    "INNER JOIN InvoiceLine AS b\n",
    "ON a.TrackId = b.TrackId\n",
    "LIMIT 10\n",
    "''')\n",
    "\n",
    "for x in mycursor:\n",
    "  print(x)\n",
    "mydb.close()"
   ]
  },
  {
   "cell_type": "code",
   "execution_count": 39,
   "metadata": {},
   "outputs": [
    {
     "output_type": "stream",
     "name": "stdout",
     "text": [
      "('Germany', 28)\n('Norway', 7)\n('Belgium', 7)\n('Canada', 56)\n('USA', 91)\n('France', 35)\n('Ireland', 7)\n('United Kingdom', 21)\n('Australia', 7)\n('Chile', 7)\n('India', 13)\n('Brazil', 35)\n('Portugal', 14)\n('Netherlands', 7)\n('Spain', 7)\n('Sweden', 7)\n('Czech Republic', 14)\n('Finland', 7)\n('Denmark', 7)\n('Italy', 7)\n('Poland', 7)\n('Austria', 7)\n('Hungary', 7)\n('Argentina', 7)\n"
     ]
    }
   ],
   "source": [
    "# 14) Provide a query that shows the # of invoices per country. HINT: GROUP BY\n",
    "import mysql.connector\n",
    "from dotenv import dotenv_values\n",
    "\n",
    "mydb = mysql.connector.connect(\n",
    "  host='localhost',\n",
    "  user='root',\n",
    "  password='arito 123',\n",
    "  database='Chinook'\n",
    ")\n",
    "\n",
    "mycursor = mydb.cursor()\n",
    "\n",
    "mycursor.execute('''\n",
    "SELECT BillingCountry, COUNT(Total)\n",
    "FROM Invoice\n",
    "GROUP BY BillingCountry;\n",
    "''')\n",
    "\n",
    "\n",
    "for x in mycursor:\n",
    "  print(x)\n",
    "mydb.close()"
   ]
  },
  {
   "cell_type": "code",
   "execution_count": 38,
   "metadata": {},
   "outputs": [
    {
     "output_type": "stream",
     "name": "stdout",
     "text": [
      "(1, 'Music')\n(2, 'Movies')\n(3, 'TV Shows')\n(4, 'Audiobooks')\n(5, '90’s Music')\n(6, 'Audiobooks')\n(7, 'Movies')\n(8, 'Music')\n(9, 'Music Videos')\n(10, 'TV Shows')\n==============================\n(1, 1)\n(8, 1)\n(17, 1)\n(1, 2)\n(8, 2)\n(17, 2)\n(1, 3)\n(5, 3)\n(8, 3)\n(17, 3)\n==============================\n('Music', 3290)\n('TV Shows', 213)\n('90’s Music', 1477)\n('Music', 3290)\n('Music Videos', 1)\n('TV Shows', 213)\n('Brazilian Music', 39)\n('Classical', 75)\n('Classical 101 - Deep Cuts', 25)\n('Classical 101 - Next Steps', 25)\n('Classical 101 - The Basics', 25)\n('Grunge', 15)\n('Heavy Metal Classic', 26)\n('On-The-Go 1', 1)\n"
     ]
    }
   ],
   "source": [
    "# 15) Provide a query that shows the total number of tracks in each playlist. The Playlist name should be include on the resultant table.\n",
    "from dotenv import dotenv_values\n",
    "\n",
    "mydb = mysql.connector.connect(\n",
    "  host='localhost',\n",
    "  user='root',\n",
    "  password='arito 123',\n",
    "  database='Chinook'\n",
    ")\n",
    "\n",
    "mycursor = mydb.cursor()\n",
    "\n",
    "mycursor.execute(\"SELECT * FROM Playlist LIMIT 10\")\n",
    "for x in mycursor:\n",
    "  print(x)\n",
    "print(\"=\" * 30)\n",
    "\n",
    "mycursor.execute(\"SELECT * FROM PlaylistTrack LIMIT 10\")\n",
    "for x in mycursor:\n",
    "  print(x)\n",
    "print(\"=\" * 30)\n",
    "\n",
    "mycursor.execute('''\n",
    "SELECT a.Name, COUNT(b.Trackid)\n",
    "FROM Playlist AS a\n",
    "INNER JOIN PlaylistTrack AS b\n",
    "ON a.Playlistid = b.Playlistid\n",
    "GROUP BY b.Playlistid;\n",
    "''')\n",
    "\n",
    "for x in mycursor:\n",
    "  print(x)\n",
    "mydb.close()"
   ]
  },
  {
   "cell_type": "code",
   "execution_count": 49,
   "metadata": {},
   "outputs": [
    {
     "output_type": "stream",
     "name": "stdout",
     "text": [
      "(1, 'For Those About To Rock (We Salute You)', 1, 1, 1, 'Angus Young, Malcolm Young, Brian Johnson', 343719, 11170334, Decimal('0.99'))\n(2, 'Balls to the Wall', 2, 2, 1, None, 342562, 5510424, Decimal('0.99'))\n(3, 'Fast As a Shark', 3, 2, 1, 'F. Baltes, S. Kaufman, U. Dirkscneider & W. Hoffman', 230619, 3990994, Decimal('0.99'))\n(4, 'Restless and Wild', 3, 2, 1, 'F. Baltes, R.A. Smith-Diesel, S. Kaufman, U. Dirkscneider & W. Hoffman', 252051, 4331779, Decimal('0.99'))\n(5, 'Princess of the Dawn', 3, 2, 1, 'Deaffy & R.A. Smith-Diesel', 375418, 6290521, Decimal('0.99'))\n(6, 'Put The Finger On You', 1, 1, 1, 'Angus Young, Malcolm Young, Brian Johnson', 205662, 6713451, Decimal('0.99'))\n(7, \"Let's Get It Up\", 1, 1, 1, 'Angus Young, Malcolm Young, Brian Johnson', 233926, 7636561, Decimal('0.99'))\n(8, 'Inject The Venom', 1, 1, 1, 'Angus Young, Malcolm Young, Brian Johnson', 210834, 6852860, Decimal('0.99'))\n(9, 'Snowballed', 1, 1, 1, 'Angus Young, Malcolm Young, Brian Johnson', 203102, 6599424, Decimal('0.99'))\n(10, 'Evil Walks', 1, 1, 1, 'Angus Young, Malcolm Young, Brian Johnson', 263497, 8611245, Decimal('0.99'))\n==============================\n(1, 'MPEG audio file')\n(2, 'Protected AAC audio file')\n(3, 'Protected MPEG-4 video file')\n(4, 'Purchased AAC audio file')\n(5, 'AAC audio file')\n==============================\n(1, 'For Those About To Rock We Salute You', 1)\n(2, 'Balls to the Wall', 2)\n(3, 'Restless and Wild', 2)\n(4, 'Let There Be Rock', 1)\n(5, 'Big Ones', 3)\n(6, 'Jagged Little Pill', 4)\n(7, 'Facelift', 5)\n(8, 'Warner 25 Anos', 6)\n(9, 'Plays Metallica By Four Cellos', 7)\n(10, 'Audioslave', 8)\n==============================\n(1, 'Rock')\n(2, 'Jazz')\n(3, 'Metal')\n(4, 'Alternative & Punk')\n(5, 'Rock And Roll')\n(6, 'Blues')\n(7, 'Latin')\n(8, 'Reggae')\n(9, 'Pop')\n(10, 'Soundtrack')\n==============================\n"
     ]
    },
    {
     "output_type": "error",
     "ename": "ProgrammingError",
     "evalue": "1054 (42S22): Unknown column 'd.name' in 'field list'",
     "traceback": [
      "\u001b[0;31m---------------------------------------------------------------------------\u001b[0m",
      "\u001b[0;31mProgrammingError\u001b[0m                          Traceback (most recent call last)",
      "\u001b[0;32m<ipython-input-49-d5c6fcbfa3b0>\u001b[0m in \u001b[0;36m<module>\u001b[0;34m\u001b[0m\n\u001b[1;32m     33\u001b[0m \u001b[0;31m# 16) Provide a query that shows all the Tracks, but displays no IDs. The resultant table should include the Album name, Media type and Genre.\u001b[0m\u001b[0;34m\u001b[0m\u001b[0;34m\u001b[0m\u001b[0;34m\u001b[0m\u001b[0m\n\u001b[1;32m     34\u001b[0m \u001b[0;34m\u001b[0m\u001b[0m\n\u001b[0;32m---> 35\u001b[0;31m mycursor.execute('''\n\u001b[0m\u001b[1;32m     36\u001b[0m \u001b[0mSELECT\u001b[0m \u001b[0mc\u001b[0m\u001b[0;34m.\u001b[0m\u001b[0mTitle\u001b[0m\u001b[0;34m,\u001b[0m \u001b[0mb\u001b[0m\u001b[0;34m.\u001b[0m\u001b[0mname\u001b[0m\u001b[0;34m,\u001b[0m \u001b[0md\u001b[0m\u001b[0;34m.\u001b[0m\u001b[0mname\u001b[0m\u001b[0;34m\u001b[0m\u001b[0;34m\u001b[0m\u001b[0m\n\u001b[1;32m     37\u001b[0m \u001b[0mFROM\u001b[0m \u001b[0mTrack\u001b[0m\u001b[0;34m\u001b[0m\u001b[0;34m\u001b[0m\u001b[0m\n",
      "\u001b[0;32m/opt/homebrew/lib/python3.9/site-packages/mysql/connector/cursor.py\u001b[0m in \u001b[0;36mexecute\u001b[0;34m(self, operation, params, multi)\u001b[0m\n\u001b[1;32m    566\u001b[0m \u001b[0;34m\u001b[0m\u001b[0m\n\u001b[1;32m    567\u001b[0m         \u001b[0;32mtry\u001b[0m\u001b[0;34m:\u001b[0m\u001b[0;34m\u001b[0m\u001b[0;34m\u001b[0m\u001b[0m\n\u001b[0;32m--> 568\u001b[0;31m             \u001b[0mself\u001b[0m\u001b[0;34m.\u001b[0m\u001b[0m_handle_result\u001b[0m\u001b[0;34m(\u001b[0m\u001b[0mself\u001b[0m\u001b[0;34m.\u001b[0m\u001b[0m_connection\u001b[0m\u001b[0;34m.\u001b[0m\u001b[0mcmd_query\u001b[0m\u001b[0;34m(\u001b[0m\u001b[0mstmt\u001b[0m\u001b[0;34m)\u001b[0m\u001b[0;34m)\u001b[0m\u001b[0;34m\u001b[0m\u001b[0;34m\u001b[0m\u001b[0m\n\u001b[0m\u001b[1;32m    569\u001b[0m         \u001b[0;32mexcept\u001b[0m \u001b[0merrors\u001b[0m\u001b[0;34m.\u001b[0m\u001b[0mInterfaceError\u001b[0m\u001b[0;34m:\u001b[0m\u001b[0;34m\u001b[0m\u001b[0;34m\u001b[0m\u001b[0m\n\u001b[1;32m    570\u001b[0m             \u001b[0;32mif\u001b[0m \u001b[0mself\u001b[0m\u001b[0;34m.\u001b[0m\u001b[0m_connection\u001b[0m\u001b[0;34m.\u001b[0m\u001b[0m_have_next_result\u001b[0m\u001b[0;34m:\u001b[0m  \u001b[0;31m# pylint: disable=W0212\u001b[0m\u001b[0;34m\u001b[0m\u001b[0;34m\u001b[0m\u001b[0m\n",
      "\u001b[0;32m/opt/homebrew/lib/python3.9/site-packages/mysql/connector/connection.py\u001b[0m in \u001b[0;36mcmd_query\u001b[0;34m(self, query, raw, buffered, raw_as_string)\u001b[0m\n\u001b[1;32m    684\u001b[0m             \u001b[0mquery\u001b[0m \u001b[0;34m=\u001b[0m \u001b[0mquery\u001b[0m\u001b[0;34m.\u001b[0m\u001b[0mencode\u001b[0m\u001b[0;34m(\u001b[0m\u001b[0;34m'utf-8'\u001b[0m\u001b[0;34m)\u001b[0m\u001b[0;34m\u001b[0m\u001b[0;34m\u001b[0m\u001b[0m\n\u001b[1;32m    685\u001b[0m         \u001b[0;32mtry\u001b[0m\u001b[0;34m:\u001b[0m\u001b[0;34m\u001b[0m\u001b[0;34m\u001b[0m\u001b[0m\n\u001b[0;32m--> 686\u001b[0;31m             \u001b[0mresult\u001b[0m \u001b[0;34m=\u001b[0m \u001b[0mself\u001b[0m\u001b[0;34m.\u001b[0m\u001b[0m_handle_result\u001b[0m\u001b[0;34m(\u001b[0m\u001b[0mself\u001b[0m\u001b[0;34m.\u001b[0m\u001b[0m_send_cmd\u001b[0m\u001b[0;34m(\u001b[0m\u001b[0mServerCmd\u001b[0m\u001b[0;34m.\u001b[0m\u001b[0mQUERY\u001b[0m\u001b[0;34m,\u001b[0m \u001b[0mquery\u001b[0m\u001b[0;34m)\u001b[0m\u001b[0;34m)\u001b[0m\u001b[0;34m\u001b[0m\u001b[0;34m\u001b[0m\u001b[0m\n\u001b[0m\u001b[1;32m    687\u001b[0m         \u001b[0;32mexcept\u001b[0m \u001b[0merrors\u001b[0m\u001b[0;34m.\u001b[0m\u001b[0mProgrammingError\u001b[0m \u001b[0;32mas\u001b[0m \u001b[0merr\u001b[0m\u001b[0;34m:\u001b[0m\u001b[0;34m\u001b[0m\u001b[0;34m\u001b[0m\u001b[0m\n\u001b[1;32m    688\u001b[0m             \u001b[0;32mif\u001b[0m \u001b[0merr\u001b[0m\u001b[0;34m.\u001b[0m\u001b[0merrno\u001b[0m \u001b[0;34m==\u001b[0m \u001b[0;36m3948\u001b[0m \u001b[0;32mand\u001b[0m\u001b[0;31m \u001b[0m\u001b[0;31m\\\u001b[0m\u001b[0;34m\u001b[0m\u001b[0;34m\u001b[0m\u001b[0m\n",
      "\u001b[0;32m/opt/homebrew/lib/python3.9/site-packages/mysql/connector/connection.py\u001b[0m in \u001b[0;36m_handle_result\u001b[0;34m(self, packet)\u001b[0m\n\u001b[1;32m    571\u001b[0m             \u001b[0;32mreturn\u001b[0m \u001b[0mself\u001b[0m\u001b[0;34m.\u001b[0m\u001b[0m_handle_eof\u001b[0m\u001b[0;34m(\u001b[0m\u001b[0mpacket\u001b[0m\u001b[0;34m)\u001b[0m\u001b[0;34m\u001b[0m\u001b[0;34m\u001b[0m\u001b[0m\n\u001b[1;32m    572\u001b[0m         \u001b[0;32melif\u001b[0m \u001b[0mpacket\u001b[0m\u001b[0;34m[\u001b[0m\u001b[0;36m4\u001b[0m\u001b[0;34m]\u001b[0m \u001b[0;34m==\u001b[0m \u001b[0;36m255\u001b[0m\u001b[0;34m:\u001b[0m\u001b[0;34m\u001b[0m\u001b[0;34m\u001b[0m\u001b[0m\n\u001b[0;32m--> 573\u001b[0;31m             \u001b[0;32mraise\u001b[0m \u001b[0merrors\u001b[0m\u001b[0;34m.\u001b[0m\u001b[0mget_exception\u001b[0m\u001b[0;34m(\u001b[0m\u001b[0mpacket\u001b[0m\u001b[0;34m)\u001b[0m\u001b[0;34m\u001b[0m\u001b[0;34m\u001b[0m\u001b[0m\n\u001b[0m\u001b[1;32m    574\u001b[0m \u001b[0;34m\u001b[0m\u001b[0m\n\u001b[1;32m    575\u001b[0m         \u001b[0;31m# We have a text result set\u001b[0m\u001b[0;34m\u001b[0m\u001b[0;34m\u001b[0m\u001b[0;34m\u001b[0m\u001b[0m\n",
      "\u001b[0;31mProgrammingError\u001b[0m: 1054 (42S22): Unknown column 'd.name' in 'field list'"
     ]
    }
   ],
   "source": [
    "# 16) Provide a query that shows all the Tracks, but displays no IDs. The resultant table should include the Album name, Media type and Genre.\n",
    "# from dotenv import dotenv_values\n",
    "\n",
    "# mydb = mysql.connector.connect(\n",
    "#   host='localhost',\n",
    "#   user='root',\n",
    "#   password='arito 123',\n",
    "#   database='Chinook'\n",
    "# )\n",
    "\n",
    "# mycursor = mydb.cursor()\n",
    "\n",
    "# mycursor.execute(\"SELECT * FROM Track LIMIT 10\")\n",
    "# for x in mycursor:\n",
    "#   print(x)\n",
    "# print(\"=\" * 30)\n",
    "\n",
    "# mycursor.execute(\"SELECT * FROM MediaType LIMIT 10\")\n",
    "# for x in mycursor:\n",
    "#   print(x)\n",
    "# print(\"=\" * 30)\n",
    "\n",
    "# mycursor.execute(\"SELECT * FROM Album LIMIT 10\")\n",
    "# for x in mycursor:\n",
    "#   print(x)\n",
    "# print(\"=\" * 30)\n",
    "\n",
    "# mycursor.execute(\"SELECT * FROM Genre LIMIT 10\")\n",
    "# for x in mycursor:\n",
    "#   print(x)\n",
    "# print(\"=\" * 30)\n",
    "\n",
    "# # 16) Provide a query that shows all the Tracks, but displays no IDs. The resultant table should include the Album name, Media type and Genre.\n",
    "\n",
    "# mycursor.execute('''\n",
    "# SELECT c.Title, b.name, d.name\n",
    "# FROM Track \n",
    "# AS a\n",
    "# INNER JOIN MediaType \n",
    "# AS b\n",
    "# ON a.MediaTypeId = b.MediaTypeId\n",
    "# INNER JOIN Album \n",
    "# AS c\n",
    "# ON a.AlbumId = c.AlbumId;\n",
    "# INNER JOIN Genre \n",
    "# AS d\n",
    "# ON a.GenreId = d.GenreId;\n",
    "# ''')\n",
    "\n",
    "# for x in mycursor:\n",
    "#   print(x)\n",
    "# mydb.close()"
   ]
  },
  {
   "cell_type": "code",
   "execution_count": 56,
   "metadata": {
    "tags": []
   },
   "outputs": [
    {
     "output_type": "stream",
     "name": "stdout",
     "text": [
      "(1, 2, datetime.datetime(2009, 1, 1, 0, 0), 'Theodor-Heuss-Straße 34', 'Stuttgart', None, 'Germany', '70174', Decimal('1.98'))\n(2, 4, datetime.datetime(2009, 1, 2, 0, 0), 'Ullevålsveien 14', 'Oslo', None, 'Norway', '0171', Decimal('3.96'))\n(3, 8, datetime.datetime(2009, 1, 3, 0, 0), 'Grétrystraat 63', 'Brussels', None, 'Belgium', '1000', Decimal('5.94'))\n(4, 14, datetime.datetime(2009, 1, 6, 0, 0), '8210 111 ST NW', 'Edmonton', 'AB', 'Canada', 'T6G 2C7', Decimal('8.91'))\n(5, 23, datetime.datetime(2009, 1, 11, 0, 0), '69 Salem Street', 'Boston', 'MA', 'USA', '2113', Decimal('13.86'))\n(6, 37, datetime.datetime(2009, 1, 19, 0, 0), 'Berger Straße 10', 'Frankfurt', None, 'Germany', '60316', Decimal('0.99'))\n(7, 38, datetime.datetime(2009, 2, 1, 0, 0), 'Barbarossastraße 19', 'Berlin', None, 'Germany', '10779', Decimal('1.98'))\n(8, 40, datetime.datetime(2009, 2, 1, 0, 0), '8, Rue Hanovre', 'Paris', None, 'France', '75002', Decimal('1.98'))\n(9, 42, datetime.datetime(2009, 2, 2, 0, 0), '9, Place Louis Barthou', 'Bordeaux', None, 'France', '33000', Decimal('3.96'))\n(10, 46, datetime.datetime(2009, 2, 3, 0, 0), '3 Chatham Street', 'Dublin', 'Dublin', 'Ireland', None, Decimal('5.94'))\n==============================\n(1, 1, 2, Decimal('0.99'), 1)\n(2, 1, 4, Decimal('0.99'), 1)\n(3, 2, 6, Decimal('0.99'), 1)\n(4, 2, 8, Decimal('0.99'), 1)\n(5, 2, 10, Decimal('0.99'), 1)\n(6, 2, 12, Decimal('0.99'), 1)\n(7, 3, 16, Decimal('0.99'), 1)\n(8, 3, 20, Decimal('0.99'), 1)\n(9, 3, 24, Decimal('0.99'), 1)\n(10, 3, 28, Decimal('0.99'), 1)\n==============================\n"
     ]
    },
    {
     "output_type": "error",
     "ename": "ProgrammingError",
     "evalue": "1064 (42000): You have an error in your SQL syntax; check the manual that corresponds to your MySQL server version for the right syntax to use near 'GRUOP BY b.invoiceid' at line 5",
     "traceback": [
      "\u001b[0;31m---------------------------------------------------------------------------\u001b[0m",
      "\u001b[0;31mProgrammingError\u001b[0m                          Traceback (most recent call last)",
      "\u001b[0;32m<ipython-input-56-e56561697225>\u001b[0m in \u001b[0;36m<module>\u001b[0;34m\u001b[0m\n\u001b[1;32m     21\u001b[0m \u001b[0mprint\u001b[0m\u001b[0;34m(\u001b[0m\u001b[0;34m\"=\"\u001b[0m \u001b[0;34m*\u001b[0m \u001b[0;36m30\u001b[0m\u001b[0;34m)\u001b[0m\u001b[0;34m\u001b[0m\u001b[0;34m\u001b[0m\u001b[0m\n\u001b[1;32m     22\u001b[0m \u001b[0;34m\u001b[0m\u001b[0m\n\u001b[0;32m---> 23\u001b[0;31m mycursor.execute('''\n\u001b[0m\u001b[1;32m     24\u001b[0m \u001b[0mSELECT\u001b[0m \u001b[0mb\u001b[0m\u001b[0;34m.\u001b[0m\u001b[0mInvoiceLineId\u001b[0m\u001b[0;34m,\u001b[0m \u001b[0mb\u001b[0m\u001b[0;34m.\u001b[0m\u001b[0minvoiceid\u001b[0m\u001b[0;34m,\u001b[0m \u001b[0mb\u001b[0m\u001b[0;34m.\u001b[0m\u001b[0mtrackid\u001b[0m\u001b[0;34m,\u001b[0m \u001b[0mb\u001b[0m\u001b[0;34m.\u001b[0m\u001b[0munitprice\u001b[0m\u001b[0;34m,\u001b[0m \u001b[0mSUM\u001b[0m\u001b[0;34m(\u001b[0m\u001b[0mb\u001b[0m\u001b[0;34m.\u001b[0m\u001b[0mquantity\u001b[0m\u001b[0;34m)\u001b[0m\u001b[0;34m\u001b[0m\u001b[0;34m\u001b[0m\u001b[0m\n\u001b[1;32m     25\u001b[0m \u001b[0mFROM\u001b[0m \u001b[0mInvoice\u001b[0m \u001b[0mAS\u001b[0m \u001b[0ma\u001b[0m\u001b[0;34m\u001b[0m\u001b[0;34m\u001b[0m\u001b[0m\n",
      "\u001b[0;32m/opt/homebrew/lib/python3.9/site-packages/mysql/connector/cursor.py\u001b[0m in \u001b[0;36mexecute\u001b[0;34m(self, operation, params, multi)\u001b[0m\n\u001b[1;32m    566\u001b[0m \u001b[0;34m\u001b[0m\u001b[0m\n\u001b[1;32m    567\u001b[0m         \u001b[0;32mtry\u001b[0m\u001b[0;34m:\u001b[0m\u001b[0;34m\u001b[0m\u001b[0;34m\u001b[0m\u001b[0m\n\u001b[0;32m--> 568\u001b[0;31m             \u001b[0mself\u001b[0m\u001b[0;34m.\u001b[0m\u001b[0m_handle_result\u001b[0m\u001b[0;34m(\u001b[0m\u001b[0mself\u001b[0m\u001b[0;34m.\u001b[0m\u001b[0m_connection\u001b[0m\u001b[0;34m.\u001b[0m\u001b[0mcmd_query\u001b[0m\u001b[0;34m(\u001b[0m\u001b[0mstmt\u001b[0m\u001b[0;34m)\u001b[0m\u001b[0;34m)\u001b[0m\u001b[0;34m\u001b[0m\u001b[0;34m\u001b[0m\u001b[0m\n\u001b[0m\u001b[1;32m    569\u001b[0m         \u001b[0;32mexcept\u001b[0m \u001b[0merrors\u001b[0m\u001b[0;34m.\u001b[0m\u001b[0mInterfaceError\u001b[0m\u001b[0;34m:\u001b[0m\u001b[0;34m\u001b[0m\u001b[0;34m\u001b[0m\u001b[0m\n\u001b[1;32m    570\u001b[0m             \u001b[0;32mif\u001b[0m \u001b[0mself\u001b[0m\u001b[0;34m.\u001b[0m\u001b[0m_connection\u001b[0m\u001b[0;34m.\u001b[0m\u001b[0m_have_next_result\u001b[0m\u001b[0;34m:\u001b[0m  \u001b[0;31m# pylint: disable=W0212\u001b[0m\u001b[0;34m\u001b[0m\u001b[0;34m\u001b[0m\u001b[0m\n",
      "\u001b[0;32m/opt/homebrew/lib/python3.9/site-packages/mysql/connector/connection.py\u001b[0m in \u001b[0;36mcmd_query\u001b[0;34m(self, query, raw, buffered, raw_as_string)\u001b[0m\n\u001b[1;32m    684\u001b[0m             \u001b[0mquery\u001b[0m \u001b[0;34m=\u001b[0m \u001b[0mquery\u001b[0m\u001b[0;34m.\u001b[0m\u001b[0mencode\u001b[0m\u001b[0;34m(\u001b[0m\u001b[0;34m'utf-8'\u001b[0m\u001b[0;34m)\u001b[0m\u001b[0;34m\u001b[0m\u001b[0;34m\u001b[0m\u001b[0m\n\u001b[1;32m    685\u001b[0m         \u001b[0;32mtry\u001b[0m\u001b[0;34m:\u001b[0m\u001b[0;34m\u001b[0m\u001b[0;34m\u001b[0m\u001b[0m\n\u001b[0;32m--> 686\u001b[0;31m             \u001b[0mresult\u001b[0m \u001b[0;34m=\u001b[0m \u001b[0mself\u001b[0m\u001b[0;34m.\u001b[0m\u001b[0m_handle_result\u001b[0m\u001b[0;34m(\u001b[0m\u001b[0mself\u001b[0m\u001b[0;34m.\u001b[0m\u001b[0m_send_cmd\u001b[0m\u001b[0;34m(\u001b[0m\u001b[0mServerCmd\u001b[0m\u001b[0;34m.\u001b[0m\u001b[0mQUERY\u001b[0m\u001b[0;34m,\u001b[0m \u001b[0mquery\u001b[0m\u001b[0;34m)\u001b[0m\u001b[0;34m)\u001b[0m\u001b[0;34m\u001b[0m\u001b[0;34m\u001b[0m\u001b[0m\n\u001b[0m\u001b[1;32m    687\u001b[0m         \u001b[0;32mexcept\u001b[0m \u001b[0merrors\u001b[0m\u001b[0;34m.\u001b[0m\u001b[0mProgrammingError\u001b[0m \u001b[0;32mas\u001b[0m \u001b[0merr\u001b[0m\u001b[0;34m:\u001b[0m\u001b[0;34m\u001b[0m\u001b[0;34m\u001b[0m\u001b[0m\n\u001b[1;32m    688\u001b[0m             \u001b[0;32mif\u001b[0m \u001b[0merr\u001b[0m\u001b[0;34m.\u001b[0m\u001b[0merrno\u001b[0m \u001b[0;34m==\u001b[0m \u001b[0;36m3948\u001b[0m \u001b[0;32mand\u001b[0m\u001b[0;31m \u001b[0m\u001b[0;31m\\\u001b[0m\u001b[0;34m\u001b[0m\u001b[0;34m\u001b[0m\u001b[0m\n",
      "\u001b[0;32m/opt/homebrew/lib/python3.9/site-packages/mysql/connector/connection.py\u001b[0m in \u001b[0;36m_handle_result\u001b[0;34m(self, packet)\u001b[0m\n\u001b[1;32m    571\u001b[0m             \u001b[0;32mreturn\u001b[0m \u001b[0mself\u001b[0m\u001b[0;34m.\u001b[0m\u001b[0m_handle_eof\u001b[0m\u001b[0;34m(\u001b[0m\u001b[0mpacket\u001b[0m\u001b[0;34m)\u001b[0m\u001b[0;34m\u001b[0m\u001b[0;34m\u001b[0m\u001b[0m\n\u001b[1;32m    572\u001b[0m         \u001b[0;32melif\u001b[0m \u001b[0mpacket\u001b[0m\u001b[0;34m[\u001b[0m\u001b[0;36m4\u001b[0m\u001b[0;34m]\u001b[0m \u001b[0;34m==\u001b[0m \u001b[0;36m255\u001b[0m\u001b[0;34m:\u001b[0m\u001b[0;34m\u001b[0m\u001b[0;34m\u001b[0m\u001b[0m\n\u001b[0;32m--> 573\u001b[0;31m             \u001b[0;32mraise\u001b[0m \u001b[0merrors\u001b[0m\u001b[0;34m.\u001b[0m\u001b[0mget_exception\u001b[0m\u001b[0;34m(\u001b[0m\u001b[0mpacket\u001b[0m\u001b[0;34m)\u001b[0m\u001b[0;34m\u001b[0m\u001b[0;34m\u001b[0m\u001b[0m\n\u001b[0m\u001b[1;32m    574\u001b[0m \u001b[0;34m\u001b[0m\u001b[0m\n\u001b[1;32m    575\u001b[0m         \u001b[0;31m# We have a text result set\u001b[0m\u001b[0;34m\u001b[0m\u001b[0;34m\u001b[0m\u001b[0;34m\u001b[0m\u001b[0m\n",
      "\u001b[0;31mProgrammingError\u001b[0m: 1064 (42000): You have an error in your SQL syntax; check the manual that corresponds to your MySQL server version for the right syntax to use near 'GRUOP BY b.invoiceid' at line 5"
     ]
    }
   ],
   "source": [
    "# 17) Provide a query that shows all Invoices but includes the # of invoice line items.\n",
    "from dotenv import dotenv_values\n",
    "\n",
    "mydb = mysql.connector.connect(\n",
    "  host='localhost',\n",
    "  user='root',\n",
    "  password='arito 123',\n",
    "  database='Chinook'\n",
    ")\n",
    "\n",
    "mycursor = mydb.cursor()\n",
    "\n",
    "mycursor.execute(\"SELECT * FROM Invoice LIMIT 10\")\n",
    "for x in mycursor:\n",
    "  print(x)\n",
    "print(\"=\" * 30)\n",
    "\n",
    "mycursor.execute(\"SELECT * FROM InvoiceLine LIMIT 10\")\n",
    "for x in mycursor:\n",
    "  print(x)\n",
    "print(\"=\" * 30)\n",
    "\n",
    "mycursor.execute('''\n",
    "SELECT b.InvoiceLineId, b.invoiceid, b.trackid, b.unitprice, SUM(b.quantity)\n",
    "FROM Invoice AS a\n",
    "INNER JOIN InvoiceLine AS b\n",
    "ON a.invoiceid = b.invoiceid\n",
    "GRUOP BY b.invoiceid;\n",
    "''')\n",
    "\n",
    "for x in mycursor:\n",
    "  print(x)\n",
    "mydb.close()"
   ]
  },
  {
   "cell_type": "code",
   "execution_count": null,
   "metadata": {},
   "outputs": [],
   "source": [
    "# 18) Provide a query that shows total sales made by each sales agent.\n",
    "from dotenv import dotenv_values\n",
    "\n",
    "mydb = mysql.connector.connect(\n",
    "  host='localhost',\n",
    "  user='root',\n",
    "  password='arito 123',\n",
    "  database='Chinook'\n",
    ")\n",
    "\n",
    "mycursor = mydb.cursor()\n",
    "\n",
    "mycursor.execute(\"SELECT * FROM Employee LIMIT 10\")\n",
    "for x in mycursor:\n",
    "  print(x)\n",
    "print(\"=\" * 30)\n",
    "\n",
    "mycursor.execute(\"SELECT * FROM Customer LIMIT 10\")\n",
    "for x in mycursor:\n",
    "  print(x)\n",
    "print(\"=\" * 30)\n",
    "\n",
    "mycursor.execute(\"SELECT * FROM Invoice LIMIT 10\")\n",
    "for x in mycursor:\n",
    "  print(x)\n",
    "print(\"=\" * 30)\n",
    "\n",
    "mycursor.execute('''\n",
    "SELECT a.FirstName, a.LastName, b.trackid, b.unitprice, SUM(b.quantity)\n",
    "FROM Employee AS a\n",
    "INNER JOIN Customer AS b\n",
    "ON a.EmployeeIdId = b.SupportRepId\n",
    "INNER JOIN Invoice AS c\n",
    "ON c.CustomerId = b.CustomerId\n",
    "GRUOP BY b.SupportRepId;\n",
    "''')\n",
    "\n",
    "for x in mycursor:\n",
    "  print(x)\n",
    "mydb.close()"
   ]
  },
  {
   "cell_type": "code",
   "execution_count": null,
   "metadata": {},
   "outputs": [],
   "source": [
    "# 19) Which sales agent made the most in sales in 2009?\n"
   ]
  },
  {
   "cell_type": "code",
   "execution_count": null,
   "metadata": {},
   "outputs": [],
   "source": [
    "# 20) Which sales agent made the most in sales in 2010?\n"
   ]
  },
  {
   "cell_type": "code",
   "execution_count": null,
   "metadata": {},
   "outputs": [],
   "source": [
    "# 21) Which sales agent made the most in sales over all?\n"
   ]
  },
  {
   "cell_type": "code",
   "execution_count": null,
   "metadata": {},
   "outputs": [],
   "source": [
    "# 22) Provide a query that shows the # of customers assigned to each sales agent.\n"
   ]
  },
  {
   "cell_type": "code",
   "execution_count": null,
   "metadata": {},
   "outputs": [],
   "source": [
    "# 23) Provide a query that shows the total sales per country. Which country's customers spent the most?\n"
   ]
  },
  {
   "cell_type": "code",
   "execution_count": null,
   "metadata": {},
   "outputs": [],
   "source": [
    "# 24) Provide a query that shows the most purchased track of 2013.\n"
   ]
  },
  {
   "cell_type": "code",
   "execution_count": null,
   "metadata": {},
   "outputs": [],
   "source": [
    "# 25) Provide a query that shows the top 5 most purchased tracks over all.\n"
   ]
  },
  {
   "cell_type": "code",
   "execution_count": null,
   "metadata": {},
   "outputs": [],
   "source": [
    "# 26) Provide a query that shows the top 3 best selling artists.\n"
   ]
  },
  {
   "cell_type": "code",
   "execution_count": null,
   "metadata": {},
   "outputs": [],
   "source": [
    "# 27) Provide a query that shows the most purchased Media Type.\n"
   ]
  }
 ],
 "metadata": {
  "kernelspec": {
   "name": "python3",
   "display_name": "Python 3.9.5 64-bit"
  },
  "language_info": {
   "codemirror_mode": {
    "name": "ipython",
    "version": 3
   },
   "file_extension": ".py",
   "mimetype": "text/x-python",
   "name": "python",
   "nbconvert_exporter": "python",
   "pygments_lexer": "ipython3",
   "version": "3.9.5"
  },
  "interpreter": {
   "hash": "b0fa6594d8f4cbf19f97940f81e996739fb7646882a419484c72d19e05852a7e"
  }
 },
 "nbformat": 4,
 "nbformat_minor": 4
}