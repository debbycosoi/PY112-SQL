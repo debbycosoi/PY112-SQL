{
 "cells": [
  {
   "cell_type": "markdown",
   "metadata": {},
   "source": [
    "<a href=\"https://codeimmersives.com\"><img src = \"https://www.codeimmersives.com/wp-content/uploads/2019/09/CodeImmersives_Logo_RGB_NYC_BW.png\" width = 400> </a>\n",
    "\n",
    "\n",
    "<h1 align=center><font size = 5>Agenda</font></h1>"
   ]
  },
  {
   "cell_type": "markdown",
   "metadata": {},
   "source": [
    "# SQL CRUD Operations"
   ]
  },
  {
   "cell_type": "markdown",
   "metadata": {},
   "source": [
    "### Agenda\n",
    "<div class=\"alert alert-block alert-info\" style=\"margin-top: 20px\">\n",
    "\n",
    "1.  [Review](#0)<br>\n",
    "2.  [WHERE CLAUSE](#2)<br>\n",
    "3.  [LIKE](#4) <br>\n",
    "4.  [UPDATE](#6) <br>     \n",
    "5.  [DELETE](#8) <br> \n",
    "6.  [String Operations](#10) <br>  \n",
    "7.  [DELETE TABLE](#10) <br> \n",
    "8.  [DROP TABLE](#12) <br>    \n",
    "</div>\n",
    "<hr>"
   ]
  },
  {
   "cell_type": "markdown",
   "metadata": {},
   "source": [
    "### We created databases and tables in the previous lesson"
   ]
  },
  {
   "cell_type": "markdown",
   "metadata": {},
   "source": [
    "#### Exercise\n",
    "<H4>Practice your core python and sql with this next exercise<br>\n",
    "Locate the file inventory.csv<br>\n",
    "Perform the following actions:<br>\n",
    "1 - Examine the file in a text editor<br>\n",
    "2 - Create a database called 'Hardware_store.db'<br>\n",
    "3 - Create a table to match the schema for loading this data<br>\n",
    "4 - Load the data from the file first then add the data to the SQL table<br>\n",
    "5 - The price_extended is the the price times the quantity - Calculate this field manually<br>\n",
    "BONUS<br>\n",
    "create an input program to add the following three items by prompting the user from the command line<br>\n",
    "HH00,LED lights,11.99,30,<br>\n",
    "HH10,Sanitizing wipes,6.49,200,<br>\n",
    "GG99,N95 masks - 2 pack,9.99,100,<br>\n",
    "NOTE: If you can't create the console code create the SQL code to manually load the additional data<br>"
   ]
  },
  {
   "cell_type": "code",
   "execution_count": 57,
   "metadata": {},
   "outputs": [
    {
     "output_type": "error",
     "ename": "IntegrityError",
     "evalue": "UNIQUE constraint failed: inventory.item_id, inventory.item, inventory.price, inventory.quantity, inventory.price_extended",
     "traceback": [
      "\u001b[0;31m---------------------------------------------------------------------------\u001b[0m",
      "\u001b[0;31mIntegrityError\u001b[0m                            Traceback (most recent call last)",
      "\u001b[0;32m<ipython-input-57-03032c3f3a7d>\u001b[0m in \u001b[0;36m<module>\u001b[0;34m\u001b[0m\n\u001b[1;32m     26\u001b[0m         \u001b[0mallInventory\u001b[0m\u001b[0;34m.\u001b[0m\u001b[0mappend\u001b[0m\u001b[0;34m(\u001b[0m\u001b[0mtuple\u001b[0m\u001b[0;34m(\u001b[0m\u001b[0mrow\u001b[0m\u001b[0;34m.\u001b[0m\u001b[0mvalues\u001b[0m\u001b[0;34m(\u001b[0m\u001b[0;34m)\u001b[0m\u001b[0;34m)\u001b[0m\u001b[0;34m)\u001b[0m\u001b[0;34m\u001b[0m\u001b[0;34m\u001b[0m\u001b[0m\n\u001b[1;32m     27\u001b[0m \u001b[0;34m\u001b[0m\u001b[0m\n\u001b[0;32m---> 28\u001b[0;31m \u001b[0mcur\u001b[0m\u001b[0;34m.\u001b[0m\u001b[0mexecutemany\u001b[0m\u001b[0;34m(\u001b[0m\u001b[0;34m\"\"\"INSERT INTO inventory(item_id,item,price,quantity,price_extended) VALUES (?,?,?,?,?)\"\"\"\u001b[0m\u001b[0;34m,\u001b[0m \u001b[0mallInventory\u001b[0m\u001b[0;34m)\u001b[0m\u001b[0;34m\u001b[0m\u001b[0;34m\u001b[0m\u001b[0m\n\u001b[0m\u001b[1;32m     29\u001b[0m \u001b[0mcon\u001b[0m\u001b[0;34m.\u001b[0m\u001b[0mcommit\u001b[0m\u001b[0;34m(\u001b[0m\u001b[0;34m)\u001b[0m\u001b[0;34m\u001b[0m\u001b[0;34m\u001b[0m\u001b[0m\n\u001b[1;32m     30\u001b[0m \u001b[0mcon\u001b[0m\u001b[0;34m.\u001b[0m\u001b[0mclose\u001b[0m\u001b[0;34m(\u001b[0m\u001b[0;34m)\u001b[0m\u001b[0;34m\u001b[0m\u001b[0;34m\u001b[0m\u001b[0m\n",
      "\u001b[0;31mIntegrityError\u001b[0m: UNIQUE constraint failed: inventory.item_id, inventory.item, inventory.price, inventory.quantity, inventory.price_extended"
     ]
    }
   ],
   "source": [
    "# Enter your code here\n",
    "\n",
    "import csv, sqlite3\n",
    "\n",
    "\n",
    "con = sqlite3.connect(\"hardware_store.db\") # change to 'sqlite:///your_filename.db'\n",
    "cur = con.cursor()\n",
    "\n",
    "# To examine methods we use dir\n",
    "methods = [x for x in dir(con) if not x.startswith('_')]\n",
    "\n",
    "# cur.execute(\"\"\"DROP TABLE inventory\"\"\")\n",
    "cur.execute(\"\"\"CREATE TABLE IF NOT EXISTS inventory (\n",
    "    item_id TEXT,\n",
    "    item TEXT,\n",
    "    price REAL,\n",
    "    quantity INTEGER,\n",
    "    price_extended REAL,\n",
    "    PRIMARY KEY(item_id,item,price,quantity,price_extended))\n",
    "\"\"\")\n",
    "con.commit()\n",
    "\n",
    "allInventory = []\n",
    "with open('inventory.csv','r') as fin:\n",
    "    dr = csv.DictReader(fin)\n",
    "    for row in dr:\n",
    "        allInventory.append(tuple(row.values()))\n",
    "\n",
    "cur.executemany(\"\"\"INSERT INTO inventory(item_id,item,price,quantity,price_extended) VALUES (?,?,?,?,?)\"\"\", allInventory)\n",
    "con.commit()\n",
    "con.close()        \n",
    "    \n",
    "#you are going to use executemany\n",
    "\n"
   ]
  },
  {
   "cell_type": "code",
   "execution_count": 58,
   "metadata": {},
   "outputs": [
    {
     "output_type": "stream",
     "name": "stdout",
     "text": [
      "[('HM01', 'Hammer', 19.99, 10, ''), ('NL00', 'Nails', 4.99, 5, ''), ('HW02', 'Pliers', 6.99, 2, ''), ('HW10', 'Mop', 8.99, 1, ''), ('HM02', 'Rubber mallet', 14.99, 15, ''), ('NL01', 'Zinc coated Nails', 5.49, 20, ''), ('HW22', 'Needle Nose Pliers', 6.49, 12, ''), ('HW11', 'Swiffer Mop REFILL', 5.99, 30, ''), ('CN01', 'Circular Saw - 12 inch Blade', 29.99, 40, ''), ('NL00', '3 inch Nails', 5.99, 25, ''), ('HW22', 'Plumbing wrench', 12.99, 20, ''), ('HH90', 'Surgical Masks - 50 pack', 10.99, 1000, '')]\n"
     ]
    }
   ],
   "source": [
    "con = sqlite3.connect(\"hardware_store.db\")\n",
    "cur = con.cursor()\n",
    "# cur.execute(\"DROP TABLE inventory\")\n",
    "cur.execute('SELECT * FROM inventory')\n",
    "data = cur.fetchall()\n",
    "print(data)"
   ]
  },
  {
   "source": [],
   "cell_type": "markdown",
   "metadata": {}
  },
  {
   "cell_type": "code",
   "execution_count": null,
   "metadata": {},
   "outputs": [],
   "source": [
    "for "
   ]
  },
  {
   "source": [
    "#### sql - WHERE CLAUSE is used to filter your data"
   ],
   "cell_type": "code",
   "metadata": {},
   "execution_count": null,
   "outputs": []
  },
  {
   "cell_type": "code",
   "execution_count": 59,
   "metadata": {},
   "outputs": [
    {
     "output_type": "stream",
     "name": "stdout",
     "text": [
      "/Users/debbycosoi/Desktop/Code Immersives/SQL NoSQL/PY112-SQL\n/Users/debbycosoi/Desktop/Code Immersives/SQL NoSQL/PY112-SQL\n"
     ]
    }
   ],
   "source": [
    "import sqlite3\n",
    "import os #operating system\n",
    "# MAKE SURE YOU ARE IN THE CORRECT DIRECTORY or use the full path in you connect statement\n",
    "print(os.getcwd())\n",
    "os.chdir(r'/Users/debbycosoi/Desktop/Code Immersives/SQL NoSQL/PY112-SQL')  \n",
    "print(os.getcwd()) #get working directory\n",
    "#=====================================================\n",
    "conn = sqlite3.connect('customer.db')\n",
    "c = conn.cursor()\n",
    "\n",
    "c.execute('SELECT rowid,* FROM customers WHERE lName = \"Smith\" ')  # rowid is now the first element in the returned tuple\n",
    "customers = c.fetchall()\n",
    "\n",
    "# ITERATE over the results\n",
    "for customer in customers:\n",
    "    # Use indexing to return the elements of the tuple\n",
    "    print(f'Customer {customer[0]}')\n",
    "    print(f'First name: {customer[1]}\\nLast name: {customer[2]}\\nAddress 1: {customer[3]}\\nAddress 2: {customer[4]}\\nZip: {customer[5]}' )\n",
    "    print('='*30)\n",
    "conn.commit()\n",
    "conn.close()"
   ]
  },
  {
   "cell_type": "markdown",
   "metadata": {},
   "source": [
    "#### Using the LIKE qualifier with the WHERE clause"
   ]
  },
  {
   "cell_type": "code",
   "execution_count": 6,
   "metadata": {},
   "outputs": [
    {
     "name": "stdout",
     "output_type": "stream",
     "text": [
      "Customer 4\n",
      "First name: Harry\n",
      "Last name: Teague\n",
      "Address 1: 100 Centre Street\n",
      "Address 2: Apt 1A\n",
      "Zip: 88888\n",
      "==============================\n",
      "Customer 5\n",
      "First name: Henrietta\n",
      "Last name: Teague\n",
      "Address 1: 100 Centre Street\n",
      "Address 2: Apt 1A\n",
      "Zip: 88888\n",
      "==============================\n"
     ]
    }
   ],
   "source": [
    "conn = sqlite3.connect('customer.db')\n",
    "c = conn.cursor()\n",
    "\n",
    "# All last names that begin with 'T'\n",
    "c.execute('SELECT rowid,* FROM customers WHERE lName LIKE \"T%\" ')  # <== The % sign is used as a wildcard\n",
    "customers = c.fetchall()\n",
    "\n",
    "# i = 1\n",
    "for customer in customers:\n",
    "    # Use indexing to return the elements of the tuple\n",
    "    print(f'Customer {customer[0]}')\n",
    "    print(f'First name: {customer[1]}\\nLast name: {customer[2]}\\nAddress 1: {customer[3]}\\nAddress 2: {customer[4]}\\nZip: {customer[5]}' )\n",
    "    print('='*30)\n",
    "conn.commit()\n",
    "conn.close()"
   ]
  },
  {
   "cell_type": "markdown",
   "metadata": {},
   "source": [
    "#### How would we capture an address with the word brooklyn in it?"
   ]
  },
  {
   "cell_type": "code",
   "execution_count": 8,
   "metadata": {},
   "outputs": [
    {
     "name": "stdout",
     "output_type": "stream",
     "text": [
      "Customer 8\n",
      "First name: Patrice\n",
      "Last name: Wright\n",
      "Address 1: 60 Brooklyn Bridge Park Street\n",
      "Address 2: Apt 44M\n",
      "Zip: 11234\n",
      "==============================\n"
     ]
    }
   ],
   "source": [
    "conn = sqlite3.connect('customer.db')\n",
    "c = conn.cursor()\n",
    "\n",
    "c.execute('SELECT rowid,* FROM customers WHERE address1 LIKE \"%brooklyn%\" ') #  NOTE Case does not matter \n",
    "customers = c.fetchall()\n",
    "\n",
    "for customer in customers:\n",
    "    # Use indexing to return the elements of the tuple\n",
    "    print(f'Customer {customer[0]}')\n",
    "    print(f'First name: {customer[1]}\\nLast name: {customer[2]}\\nAddress 1: {customer[3]}\\nAddress 2: {customer[4]}\\nZip: {customer[5]}' )\n",
    "    print('='*30)\n",
    "conn.commit()\n",
    "conn.close()"
   ]
  },
  {
   "cell_type": "markdown",
   "metadata": {},
   "source": [
    "#### So far we have queried our customers table and only changed a few attributes\n",
    "#### Let's write a generic function and pass in the items that change"
   ]
  },
  {
   "cell_type": "code",
   "execution_count": 22,
   "metadata": {},
   "outputs": [
    {
     "name": "stdout",
     "output_type": "stream",
     "text": [
      "c:\\Projects\\Code immersives\\SQLite\n",
      "c:\\Projects\\Code immersives\\SQLite\n",
      "SELECT * FROM customers \n",
      "('John', 'Smith', '1 Main street', '', '99991')\n",
      "==============================\n",
      "('John', 'Smith', '1 Main street', '', '99991')\n",
      "==============================\n",
      "('Mary', 'Jones', '15 Main street', '', '99995')\n",
      "==============================\n",
      "('Harry', 'Teague', '100 Centre Street', 'Apt 1A', '88888')\n",
      "==============================\n",
      "('Henrietta', 'Teague', '100 Centre Street', 'Apt 1A', '88888')\n",
      "==============================\n",
      "('Larry', 'Gantt', '10 Bond Street', 'Apt 11C', '88000')\n",
      "==============================\n",
      "('Horace', 'Penn', '50 Gansavort Street', 'Apt 9B', '88770')\n",
      "==============================\n",
      "('Patrice', 'Wright', '60 Brooklyn Bridge Park Street', 'Apt 44M', '11234')\n",
      "==============================\n",
      "***********************************\n",
      "SELECT lName,fName FROM customers \n",
      "('Smith', 'John')\n",
      "==============================\n",
      "('Smith', 'John')\n",
      "==============================\n",
      "('Jones', 'Mary')\n",
      "==============================\n",
      "('Teague', 'Harry')\n",
      "==============================\n",
      "('Teague', 'Henrietta')\n",
      "==============================\n",
      "('Gantt', 'Larry')\n",
      "==============================\n",
      "('Penn', 'Horace')\n",
      "==============================\n",
      "('Wright', 'Patrice')\n",
      "==============================\n",
      "***********************************\n",
      "SELECT * FROM customers WHERE address2 = '' \n",
      "('John', 'Smith', '1 Main street', '', '99991')\n",
      "==============================\n",
      "('John', 'Smith', '1 Main street', '', '99991')\n",
      "==============================\n",
      "('Mary', 'Jones', '15 Main street', '', '99995')\n",
      "==============================\n",
      "***********************************\n",
      "SELECT name FROM sqlite_master \n",
      "('customers',)\n",
      "==============================\n",
      "('depts',)\n",
      "==============================\n"
     ]
    }
   ],
   "source": [
    "import os\n",
    "import sqlite3\n",
    "\n",
    "# Notice the defaults for the fields and whereClause\n",
    "def queryDB(db,table,fields='*',whereClause=''):   \n",
    "    conn = sqlite3.connect(db if db[-3:] == '.db' else db+'.db')# <=== The .db extension is necessary\n",
    "    c = conn.cursor()\n",
    "    sql = '''SELECT {0} FROM {1} {2}'''.format(fields,table,whereClause)\n",
    "    print(sql)\n",
    "    c.execute(sql)  \n",
    "    qResults = c.fetchall()\n",
    "\n",
    "    for result in qResults:\n",
    "        print(result)\n",
    "        print('='*30)\n",
    "    conn.commit()\n",
    "    conn.close()\n",
    "    \n",
    "#\n",
    "print(os.getcwd())\n",
    "os.chdir(r'c:\\Projects\\Code immersives\\SQLite')  \n",
    "print(os.getcwd()) \n",
    "queryDB('customer','customers')  \n",
    "print(\"*\"*35)\n",
    "queryDB('customer','customers','lName,fName')\n",
    "print(\"*\"*35)\n",
    "queryDB('customer','customers','*',\"WHERE address2 = '' \")"
   ]
  },
  {
   "cell_type": "markdown",
   "metadata": {},
   "source": [
    "#### SQLite contains metadata that stores the name of all the tables in the database\n",
    "```\n",
    "# Using the function we created in the last exercise you can see it by running\n",
    "queryDB('customer','sqlite_master','name')\n",
    "\n",
    "# It runs this query statement\n",
    "# SELECT name FROM sqlite_master\n",
    "```"
   ]
  },
  {
   "cell_type": "markdown",
   "metadata": {},
   "source": [
    "## Update"
   ]
  },
  {
   "cell_type": "markdown",
   "metadata": {},
   "source": [
    "<h4>We want to update a table and change one or more fields<br>\n",
    "The scope of our update is controlled with the inclusion or exclusion of a WHERE Clause<br>"
   ]
  },
  {
   "cell_type": "markdown",
   "metadata": {},
   "source": [
    "<h4>In the customer table the customer with the first name = 'Larry' and last name = 'Gantt'<br>\n",
    "Changes his address.  THIS IS A DANGEROUS OPERATION.  To safely make changes always check the <br>\n",
    "scope of your proposed changes with first running a SELECT statement with a WHERE Clause.<br.\n"
   ]
  },
  {
   "cell_type": "code",
   "execution_count": 24,
   "metadata": {},
   "outputs": [
    {
     "name": "stdout",
     "output_type": "stream",
     "text": [
      "('Larry', 'Gantt', '10 Bond Street', 'Apt 11C', '88000')\n",
      "==============================\n"
     ]
    }
   ],
   "source": [
    "conn = sqlite3.connect('customer.db')\n",
    "c = conn.cursor()\n",
    "\n",
    "# All last names that begin with 'T'\n",
    "c.execute('SELECT * FROM customers WHERE fName = \"Larry\" and lName = \"Gantt\" ')  # <== The % sign is used as a wildcard\n",
    "customers = c.fetchall()\n",
    "\n",
    "for customer in customers:\n",
    "    # Use indexing to return the elements of the tuple\n",
    "    print(customer)\n",
    "    print('='*30)\n",
    "conn.commit()\n",
    "conn.close()"
   ]
  },
  {
   "cell_type": "markdown",
   "metadata": {},
   "source": [
    "<h4>The previous code returned the target record.  We can now run our UPDATE code.</h4>"
   ]
  },
  {
   "cell_type": "code",
   "execution_count": 26,
   "metadata": {},
   "outputs": [
    {
     "name": "stdout",
     "output_type": "stream",
     "text": [
      "('Larry', 'Gantt', '1 Park Avenue', 'Penthouse A', '88000')\n",
      "==============================\n"
     ]
    }
   ],
   "source": [
    "conn = sqlite3.connect('customer.db')\n",
    "c = conn.cursor()\n",
    "\n",
    "# All last names that begin with 'T'\n",
    "c.execute('''UPDATE customers SET \n",
    "address1 = \"1 Park Avenue\",\n",
    "address2 = \"Penthouse A\"\n",
    "WHERE fName = \"Larry\" and lName = \"Gantt\" ''') \n",
    "conn.commit()\n",
    "c.execute('''SELECT * FROM customers WHERE fName = \"Larry\" and lName = \"Gantt\" ''') \n",
    "customers = c.fetchall()\n",
    "\n",
    "for customer in customers:\n",
    "    # Use indexing to return the elements of the tuple\n",
    "    print(customer)\n",
    "    print('='*30)\n",
    "conn.close()"
   ]
  },
  {
   "cell_type": "markdown",
   "metadata": {},
   "source": [
    "<h4>In the case of Mary Jones she recently was married and decided to change her last name<br>\n",
    "She submits to Human Resources a last name change to 'Jones-Pollard'<br>\n",
    "How would you change the last name?</h4>"
   ]
  },
  {
   "cell_type": "code",
   "execution_count": 27,
   "metadata": {},
   "outputs": [],
   "source": [
    "# Add your code here\n"
   ]
  },
  {
   "cell_type": "markdown",
   "metadata": {},
   "source": [
    "<H4>Henrietta and Harry Teague, who are married, both move to <br>\n",
    "10 Pineapple street, apartment 3B and their zip code changes to 11200<br>\n",
    "Make the change below</h4>"
   ]
  },
  {
   "cell_type": "code",
   "execution_count": 28,
   "metadata": {},
   "outputs": [],
   "source": [
    "# Add your code here\n"
   ]
  },
  {
   "cell_type": "markdown",
   "metadata": {},
   "source": [
    "<h4>String Operations<br>\n",
    "<br>\n",
    "SUBSTR, TRIM, LTRIM, RTRIM, LENGTH, REPLACE, UPPER, LOWER, INSTR, ||<br>\n",
    "String operations can be conducted on a table or a string</h4>"
   ]
  },
  {
   "cell_type": "code",
   "execution_count": 4,
   "metadata": {},
   "outputs": [
    {
     "name": "stdout",
     "output_type": "stream",
     "text": [
      "[('LOVE PYTHON',)]\n"
     ]
    }
   ],
   "source": [
    "import sqlite3\n",
    "conn = sqlite3.connect('customer.db')\n",
    "c = conn.cursor()\n",
    "conn.commit()\n",
    "c.execute('''SELECT SUBSTR('I LOVE PYTHON AND SQL',3,11)''') \n",
    "sqlResults = c.fetchall()\n",
    "print(sqlResults)"
   ]
  },
  {
   "cell_type": "code",
   "execution_count": 34,
   "metadata": {},
   "outputs": [
    {
     "name": "stdout",
     "output_type": "stream",
     "text": [
      "[('SQL',)]\n"
     ]
    }
   ],
   "source": [
    "conn = sqlite3.connect('customer.db')\n",
    "c = conn.cursor()\n",
    "conn.commit()\n",
    "c.execute('''SELECT TRIM(' SQL   ')''') \n",
    "sqlResults = c.fetchall()\n",
    "print(sqlResults)"
   ]
  },
  {
   "cell_type": "code",
   "execution_count": 35,
   "metadata": {},
   "outputs": [
    {
     "name": "stdout",
     "output_type": "stream",
     "text": [
      "[('SQL   ',)]\n"
     ]
    }
   ],
   "source": [
    "conn = sqlite3.connect('customer.db')\n",
    "c = conn.cursor()\n",
    "conn.commit()\n",
    "c.execute('''SELECT LTRIM('         SQL   ')''') \n",
    "sqlResults = c.fetchall()\n",
    "print(sqlResults)"
   ]
  },
  {
   "cell_type": "code",
   "execution_count": 36,
   "metadata": {},
   "outputs": [
    {
     "name": "stdout",
     "output_type": "stream",
     "text": [
      "[('   SQL',)]\n"
     ]
    }
   ],
   "source": [
    "conn = sqlite3.connect('customer.db')\n",
    "c = conn.cursor()\n",
    "conn.commit()\n",
    "c.execute('''SELECT RTRIM('   SQL   ')''') \n",
    "sqlResults = c.fetchall()\n",
    "print(sqlResults)"
   ]
  },
  {
   "cell_type": "code",
   "execution_count": 37,
   "metadata": {},
   "outputs": [
    {
     "name": "stdout",
     "output_type": "stream",
     "text": [
      "[(15,)]\n"
     ]
    }
   ],
   "source": [
    "conn = sqlite3.connect('customer.db')\n",
    "c = conn.cursor()\n",
    "conn.commit()\n",
    "c.execute('''SELECT LENGTH('         SQL   ')''') \n",
    "sqlResults = c.fetchall()\n",
    "print(sqlResults)"
   ]
  },
  {
   "cell_type": "code",
   "execution_count": 38,
   "metadata": {},
   "outputs": [
    {
     "name": "stdout",
     "output_type": "stream",
     "text": [
      "[(3,)]\n"
     ]
    }
   ],
   "source": [
    "# Execute two commands\n",
    "conn = sqlite3.connect('customer.db')\n",
    "c = conn.cursor()\n",
    "conn.commit()\n",
    "c.execute('''SELECT LENGTH(TRIM('         SQL   '))''') \n",
    "sqlResults = c.fetchall()\n",
    "print(sqlResults)"
   ]
  },
  {
   "cell_type": "code",
   "execution_count": 39,
   "metadata": {},
   "outputs": [
    {
     "name": "stdout",
     "output_type": "stream",
     "text": [
      "[('I LOVE SQL',)]\n"
     ]
    }
   ],
   "source": [
    "conn = sqlite3.connect('customer.db')\n",
    "c = conn.cursor()\n",
    "conn.commit()\n",
    "c.execute('''SELECT REPLACE('I LOVE PYTHON','PYTHON','SQL')''') \n",
    "sqlResults = c.fetchall()\n",
    "print(sqlResults)"
   ]
  },
  {
   "cell_type": "code",
   "execution_count": 42,
   "metadata": {},
   "outputs": [
    {
     "name": "stdout",
     "output_type": "stream",
     "text": [
      "[('I LOVE PYTHON - I LOVE SQL',)]\n"
     ]
    }
   ],
   "source": [
    "conn = sqlite3.connect('customer.db')\n",
    "c = conn.cursor()\n",
    "conn.commit()\n",
    "c.execute('''SELECT 'I LOVE PYTHON ' || '- I LOVE SQL' ''') \n",
    "sqlResults = c.fetchall()\n",
    "print(sqlResults)"
   ]
  },
  {
   "cell_type": "markdown",
   "metadata": {},
   "source": [
    "<h4>DELETE</h4>"
   ]
  },
  {
   "cell_type": "code",
   "execution_count": null,
   "metadata": {},
   "outputs": [],
   "source": [
    "# We can delete one row in a table by adding a where clause\n",
    "# We can delete allitems in a table by omitting the where clause\n"
   ]
  },
  {
   "cell_type": "code",
   "execution_count": null,
   "metadata": {},
   "outputs": [],
   "source": []
  },
  {
   "cell_type": "markdown",
   "metadata": {},
   "source": [
    "<h4>To remove a table from a database we use the DROP TABLE command<br>\n",
    "DROP TABLE [IF EXISTS] [schema_name.]table_name;</h4>\n"
   ]
  },
  {
   "cell_type": "markdown",
   "metadata": {},
   "source": [
    "This notebook is part of a course at www.codeimmersives.com called SQL-NOSQL. If you accessed this notebook outside the course, you can get more information about this course online by clicking here."
   ]
  },
  {
   "cell_type": "markdown",
   "metadata": {},
   "source": [
    "<hr>\n",
    "\n",
    "Copyright &copy; 2021  Code Immersives"
   ]
  }
 ],
 "metadata": {
  "kernelspec": {
   "name": "python3",
   "display_name": "Python 3.9.5 64-bit"
  },
  "language_info": {
   "codemirror_mode": {
    "name": "ipython",
    "version": 3
   },
   "file_extension": ".py",
   "mimetype": "text/x-python",
   "name": "python",
   "nbconvert_exporter": "python",
   "pygments_lexer": "ipython3",
   "version": "3.9.5"
  },
  "interpreter": {
   "hash": "b0fa6594d8f4cbf19f97940f81e996739fb7646882a419484c72d19e05852a7e"
  }
 },
 "nbformat": 4,
 "nbformat_minor": 4
}